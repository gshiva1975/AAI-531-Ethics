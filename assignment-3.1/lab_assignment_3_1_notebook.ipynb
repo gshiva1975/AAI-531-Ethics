{
  "cells": [
    {
      "cell_type": "markdown",
      "id": "1b188355-d83b-4d6a-9fa0-7a9099a74bcb",
      "metadata": {
        "id": "1b188355-d83b-4d6a-9fa0-7a9099a74bcb"
      },
      "source": [
        "# Bias and Fairness Metrics Lab and Assignment Notebook"
      ]
    },
    {
      "cell_type": "markdown",
      "id": "ffaed549-0953-43fe-b3df-6974837d6e5c",
      "metadata": {
        "id": "ffaed549-0953-43fe-b3df-6974837d6e5c"
      },
      "source": [
        "In this lab, we will explore the concept of bias in models and datasets, with a focus on identifying and mitigating fairness issue. Bias in machine learning can arise due to imbalances in the data, societal inequities, or algorithmic processing, and it can have significant consequences in real-world applications, such as lending decisions, hiring processes, or healthcare recommendations.\n",
        "\n",
        "Using IBM's AIF360 re-weighing and the disparate impact remover (DIR) you will investigate how modifying a dataset can improve fairness metrics while assessing its potential trade-offs. We will be using a credit card default dataset where we will:\n",
        "\n",
        "**Lab Portion:**\n",
        "1. Quantify dataset bias: by calculating fairness metrics such as Statistical Parity Difference (SPD), Equal Opportunity Difference (EOD), and Disparate Impact (DI).\n",
        "2. Mitigate Bias: using AIF360's reweighing or DIR.\n",
        "3. Analyze trade-offs.\n",
        "\n",
        "*Adapted from: Masis, S. (2021). Chapter 11: Bias Mitigation and Causal Inference Methods. In Interpretable machine learning with Python: Learn to build interpretable high-performance models with hands-on real-world examples. Packt Publishing.\n",
        "\n",
        "**Assignment Portion:**\n",
        "1. Experimentation with the DIR\n",
        "2. Reflection Questions"
      ]
    },
    {
      "cell_type": "markdown",
      "id": "dd6a508c-7a5a-4db2-9b04-22feb0f1c92a",
      "metadata": {
        "id": "dd6a508c-7a5a-4db2-9b04-22feb0f1c92a"
      },
      "source": [
        "## Dataset Introduction: Adapted Taiwan Credit Card Default Prediction\n",
        "\n",
        "The dataset used in this lab is an adapted version of the Taiwan Credit Card Default Prediction Dataset, which contains information on 30,000 credit card clients in Taiwan. It is commonly used in machine learning to study credit risk analysis, as well as fairness and bias in predictive modeling.\n",
        "\n",
        "The dataset includes a mix of demographic, financial, and behavioral variables, along with a target variable that indicates whether a client defaulted on their credit card payment in the following month. Here's an overview of the key features:\n",
        "\n",
        "<b>Demographic Variables:</b>\n",
        "- AGE: The age of the client.\n",
        "- SEX: The gender of the client (Male: 1, Female: 2).\n",
        "- EDUCATION: The highest level of education attained (e.g., Graduate, University, High School).\n",
        "- MARRIAGE: The marital status of the client (e.g., Married, Single, Other).\n",
        "\n",
        "<b>Financial Variables:</b>\n",
        "- LIMIT_BAL: The credit limit assigned to the client.\n",
        "- BILL_AMT1 to BILL_AMT6: The amount of the bill statement for the past six months.\n",
        "- PAY_AMT1 to PAY_AMT6: The payment amount for the past six months.\n",
        "\n",
        "<b>Behavioral Variables:</b>\n",
        "- PAY_0 to PAY_6: The repayment status for the past six months (e.g., fully paid, delayed).\n",
        "\n",
        "<b>Target Variable:</b>\n",
        "- default payment next month: Whether the client defaulted on their payment in the next month (1 for default, 0 for no default)."
      ]
    },
    {
      "cell_type": "code",
      "source": [
        "!pip install aif360\n",
        "!pip install fairlearn"
      ],
      "metadata": {
        "colab": {
          "base_uri": "https://localhost:8080/"
        },
        "id": "ZOoZS6Vy_Ktz",
        "outputId": "08b38f7e-15ea-475c-8f02-2f79994e4483"
      },
      "id": "ZOoZS6Vy_Ktz",
      "execution_count": 1,
      "outputs": [
        {
          "output_type": "stream",
          "name": "stdout",
          "text": [
            "Requirement already satisfied: aif360 in /usr/local/lib/python3.11/dist-packages (0.6.1)\n",
            "Requirement already satisfied: numpy>=1.16 in /usr/local/lib/python3.11/dist-packages (from aif360) (1.26.4)\n",
            "Requirement already satisfied: scipy>=1.2.0 in /usr/local/lib/python3.11/dist-packages (from aif360) (1.14.1)\n",
            "Requirement already satisfied: pandas>=0.24.0 in /usr/local/lib/python3.11/dist-packages (from aif360) (2.2.2)\n",
            "Requirement already satisfied: scikit-learn>=1.0 in /usr/local/lib/python3.11/dist-packages (from aif360) (1.6.1)\n",
            "Requirement already satisfied: matplotlib in /usr/local/lib/python3.11/dist-packages (from aif360) (3.10.0)\n",
            "Requirement already satisfied: python-dateutil>=2.8.2 in /usr/local/lib/python3.11/dist-packages (from pandas>=0.24.0->aif360) (2.8.2)\n",
            "Requirement already satisfied: pytz>=2020.1 in /usr/local/lib/python3.11/dist-packages (from pandas>=0.24.0->aif360) (2025.1)\n",
            "Requirement already satisfied: tzdata>=2022.7 in /usr/local/lib/python3.11/dist-packages (from pandas>=0.24.0->aif360) (2025.1)\n",
            "Requirement already satisfied: joblib>=1.2.0 in /usr/local/lib/python3.11/dist-packages (from scikit-learn>=1.0->aif360) (1.4.2)\n",
            "Requirement already satisfied: threadpoolctl>=3.1.0 in /usr/local/lib/python3.11/dist-packages (from scikit-learn>=1.0->aif360) (3.5.0)\n",
            "Requirement already satisfied: contourpy>=1.0.1 in /usr/local/lib/python3.11/dist-packages (from matplotlib->aif360) (1.3.1)\n",
            "Requirement already satisfied: cycler>=0.10 in /usr/local/lib/python3.11/dist-packages (from matplotlib->aif360) (0.12.1)\n",
            "Requirement already satisfied: fonttools>=4.22.0 in /usr/local/lib/python3.11/dist-packages (from matplotlib->aif360) (4.56.0)\n",
            "Requirement already satisfied: kiwisolver>=1.3.1 in /usr/local/lib/python3.11/dist-packages (from matplotlib->aif360) (1.4.8)\n",
            "Requirement already satisfied: packaging>=20.0 in /usr/local/lib/python3.11/dist-packages (from matplotlib->aif360) (24.2)\n",
            "Requirement already satisfied: pillow>=8 in /usr/local/lib/python3.11/dist-packages (from matplotlib->aif360) (11.1.0)\n",
            "Requirement already satisfied: pyparsing>=2.3.1 in /usr/local/lib/python3.11/dist-packages (from matplotlib->aif360) (3.2.1)\n",
            "Requirement already satisfied: six>=1.5 in /usr/local/lib/python3.11/dist-packages (from python-dateutil>=2.8.2->pandas>=0.24.0->aif360) (1.17.0)\n",
            "Requirement already satisfied: fairlearn in /usr/local/lib/python3.11/dist-packages (0.12.0)\n",
            "Requirement already satisfied: numpy>=1.24.4 in /usr/local/lib/python3.11/dist-packages (from fairlearn) (1.26.4)\n",
            "Requirement already satisfied: pandas>=2.0.3 in /usr/local/lib/python3.11/dist-packages (from fairlearn) (2.2.2)\n",
            "Requirement already satisfied: scikit-learn>=1.2.1 in /usr/local/lib/python3.11/dist-packages (from fairlearn) (1.6.1)\n",
            "Requirement already satisfied: scipy>=1.9.3 in /usr/local/lib/python3.11/dist-packages (from fairlearn) (1.14.1)\n",
            "Requirement already satisfied: python-dateutil>=2.8.2 in /usr/local/lib/python3.11/dist-packages (from pandas>=2.0.3->fairlearn) (2.8.2)\n",
            "Requirement already satisfied: pytz>=2020.1 in /usr/local/lib/python3.11/dist-packages (from pandas>=2.0.3->fairlearn) (2025.1)\n",
            "Requirement already satisfied: tzdata>=2022.7 in /usr/local/lib/python3.11/dist-packages (from pandas>=2.0.3->fairlearn) (2025.1)\n",
            "Requirement already satisfied: joblib>=1.2.0 in /usr/local/lib/python3.11/dist-packages (from scikit-learn>=1.2.1->fairlearn) (1.4.2)\n",
            "Requirement already satisfied: threadpoolctl>=3.1.0 in /usr/local/lib/python3.11/dist-packages (from scikit-learn>=1.2.1->fairlearn) (3.5.0)\n",
            "Requirement already satisfied: six>=1.5 in /usr/local/lib/python3.11/dist-packages (from python-dateutil>=2.8.2->pandas>=2.0.3->fairlearn) (1.17.0)\n"
          ]
        }
      ]
    },
    {
      "cell_type": "code",
      "execution_count": 2,
      "id": "ea42ab33-ab67-4150-acc5-f6a52c1ad70f",
      "metadata": {
        "id": "ea42ab33-ab67-4150-acc5-f6a52c1ad70f",
        "colab": {
          "base_uri": "https://localhost:8080/"
        },
        "outputId": "ec7c7396-6868-4eca-eb03-a4a628e6d865"
      },
      "outputs": [
        {
          "output_type": "stream",
          "name": "stderr",
          "text": [
            "WARNING:root:No module named 'inFairness': SenSeI and SenSR will be unavailable. To install, run:\n",
            "pip install 'aif360[inFairness]'\n"
          ]
        }
      ],
      "source": [
        "# Import libraries\n",
        "import pandas as pd\n",
        "import numpy as np\n",
        "import seaborn as sns\n",
        "import matplotlib.pyplot as plt\n",
        "from sklearn.model_selection import train_test_split\n",
        "from sklearn.linear_model import LogisticRegression\n",
        "from sklearn.metrics import accuracy_score, precision_score, recall_score\n",
        "from aif360.datasets import BinaryLabelDataset\n",
        "from aif360.metrics import BinaryLabelDatasetMetric\n",
        "from aif360.algorithms.preprocessing import Reweighing\n",
        "from sklearn.ensemble import GradientBoostingClassifier\n",
        "from sklearn.metrics import roc_auc_score, precision_score, recall_score, f1_score, confusion_matrix, roc_curve, accuracy_score\n",
        "from aif360.metrics import ClassificationMetric\n",
        "import lightgbm as lgb\n",
        "from lightgbm import LGBMClassifier\n",
        "from tqdm import tqdm\n",
        "from aif360.algorithms.preprocessing import DisparateImpactRemover\n",
        "import warnings\n",
        "warnings.filterwarnings(\"ignore\")\n"
      ]
    },
    {
      "cell_type": "code",
      "source": [
        "\n",
        "\n",
        "from google.colab import drive\n",
        "drive.mount('/content/drive')\n",
        "\n",
        "import pandas as pd\n",
        "\n",
        "# Load the dataset\n",
        "data = pd.read_csv('/content/drive/My Drive/Colab Notebooks/AAI-531/credit_card_default_531v.1.csv')\n",
        "\n",
        "# Now you can work with the dataframe 'df'\n",
        "print(data.head())\n"
      ],
      "metadata": {
        "colab": {
          "base_uri": "https://localhost:8080/"
        },
        "id": "ciRQxgMr_2gc",
        "outputId": "7d692b1d-47e4-4101-c6bf-ec19a2e838c0"
      },
      "id": "ciRQxgMr_2gc",
      "execution_count": 3,
      "outputs": [
        {
          "output_type": "stream",
          "name": "stdout",
          "text": [
            "Drive already mounted at /content/drive; to attempt to forcibly remount, call drive.mount(\"/content/drive\", force_remount=True).\n",
            "   ID  LIMIT_BAL  SEX  EDUCATION  MARRIAGE  AGE  PAY_0  PAY_2  PAY_3  PAY_4  \\\n",
            "0   1      20000    2          2         1   24      2      2     -1     -1   \n",
            "1   2     120000    2          2         2   26     -1      2      0      0   \n",
            "2   3      90000    2          2         2   34      0      0      0      0   \n",
            "3   4      50000    2          2         1   37      0      0      0      0   \n",
            "4   5      50000    1          2         1   57     -1      0     -1      0   \n",
            "\n",
            "   ...  BILL_AMT4  BILL_AMT5  BILL_AMT6  PAY_AMT1  PAY_AMT2  PAY_AMT3  \\\n",
            "0  ...          0          0          0         0       689         0   \n",
            "1  ...       3272       3455       3261         0      1000      1000   \n",
            "2  ...      14331      14948      15549      1518      1500      1000   \n",
            "3  ...      28314      28959      29547      2000      2019      1200   \n",
            "4  ...      20940      19146      19131      2000     36681     10000   \n",
            "\n",
            "   PAY_AMT4  PAY_AMT5  PAY_AMT6  default payment next month  \n",
            "0         0         0         0                           1  \n",
            "1      1000         0      2000                           1  \n",
            "2      1000      1000      5000                           0  \n",
            "3      1100      1069      1000                           0  \n",
            "4      9000       689       679                           0  \n",
            "\n",
            "[5 rows x 25 columns]\n"
          ]
        }
      ]
    },
    {
      "cell_type": "code",
      "execution_count": 4,
      "id": "30766f10-71fd-4220-b018-b33fe1d44815",
      "metadata": {
        "id": "30766f10-71fd-4220-b018-b33fe1d44815",
        "outputId": "6e3daf03-f44f-463a-eaf8-c91d4a61ccc5",
        "colab": {
          "base_uri": "https://localhost:8080/"
        }
      },
      "outputs": [
        {
          "output_type": "stream",
          "name": "stdout",
          "text": [
            "<class 'pandas.core.frame.DataFrame'>\n",
            "RangeIndex: 30000 entries, 0 to 29999\n",
            "Data columns (total 25 columns):\n",
            " #   Column                      Non-Null Count  Dtype\n",
            "---  ------                      --------------  -----\n",
            " 0   ID                          30000 non-null  int64\n",
            " 1   LIMIT_BAL                   30000 non-null  int64\n",
            " 2   SEX                         30000 non-null  int64\n",
            " 3   EDUCATION                   30000 non-null  int64\n",
            " 4   MARRIAGE                    30000 non-null  int64\n",
            " 5   AGE                         30000 non-null  int64\n",
            " 6   PAY_0                       30000 non-null  int64\n",
            " 7   PAY_2                       30000 non-null  int64\n",
            " 8   PAY_3                       30000 non-null  int64\n",
            " 9   PAY_4                       30000 non-null  int64\n",
            " 10  PAY_5                       30000 non-null  int64\n",
            " 11  PAY_6                       30000 non-null  int64\n",
            " 12  BILL_AMT1                   30000 non-null  int64\n",
            " 13  BILL_AMT2                   30000 non-null  int64\n",
            " 14  BILL_AMT3                   30000 non-null  int64\n",
            " 15  BILL_AMT4                   30000 non-null  int64\n",
            " 16  BILL_AMT5                   30000 non-null  int64\n",
            " 17  BILL_AMT6                   30000 non-null  int64\n",
            " 18  PAY_AMT1                    30000 non-null  int64\n",
            " 19  PAY_AMT2                    30000 non-null  int64\n",
            " 20  PAY_AMT3                    30000 non-null  int64\n",
            " 21  PAY_AMT4                    30000 non-null  int64\n",
            " 22  PAY_AMT5                    30000 non-null  int64\n",
            " 23  PAY_AMT6                    30000 non-null  int64\n",
            " 24  default payment next month  30000 non-null  int64\n",
            "dtypes: int64(25)\n",
            "memory usage: 5.7 MB\n",
            "Missing values:\n",
            " ID                            0\n",
            "LIMIT_BAL                     0\n",
            "SEX                           0\n",
            "EDUCATION                     0\n",
            "MARRIAGE                      0\n",
            "AGE                           0\n",
            "PAY_0                         0\n",
            "PAY_2                         0\n",
            "PAY_3                         0\n",
            "PAY_4                         0\n",
            "PAY_5                         0\n",
            "PAY_6                         0\n",
            "BILL_AMT1                     0\n",
            "BILL_AMT2                     0\n",
            "BILL_AMT3                     0\n",
            "BILL_AMT4                     0\n",
            "BILL_AMT5                     0\n",
            "BILL_AMT6                     0\n",
            "PAY_AMT1                      0\n",
            "PAY_AMT2                      0\n",
            "PAY_AMT3                      0\n",
            "PAY_AMT4                      0\n",
            "PAY_AMT5                      0\n",
            "PAY_AMT6                      0\n",
            "default payment next month    0\n",
            "dtype: int64\n",
            "Unique values in 'SEX': [2 1]\n"
          ]
        }
      ],
      "source": [
        "# structure and data types\n",
        "data.info()\n",
        "\n",
        "# missing values check\n",
        "missing_values = data.isnull().sum()\n",
        "print(\"Missing values:\\n\", missing_values)\n",
        "\n",
        "# unique values in columns related to gender <- dataset uses 1 for male and 2 for female\n",
        "print(\"Unique values in 'SEX':\", data['SEX'].unique())\n"
      ]
    },
    {
      "cell_type": "code",
      "execution_count": 5,
      "id": "662cfc6d-1baf-4289-a979-27a8d1638d64",
      "metadata": {
        "id": "662cfc6d-1baf-4289-a979-27a8d1638d64"
      },
      "outputs": [],
      "source": [
        "# Rename only the target column for consistency\n",
        "data.rename(columns={\"default payment next month\": \"DEFAULT_NEXT_MONTH\"}, inplace=True)"
      ]
    },
    {
      "cell_type": "code",
      "execution_count": 6,
      "id": "33b4c404-65f8-4e3c-a237-a1f405d539e3",
      "metadata": {
        "id": "33b4c404-65f8-4e3c-a237-a1f405d539e3"
      },
      "outputs": [],
      "source": [
        "# encode SEX column: Male = 1, Female = 0 (already numeric, we are just replace 2 with 0)\n",
        "data[\"SEX\"] = data[\"SEX\"].replace({2: 0})  # Male = 1, Female = 0\n",
        "\n",
        "#EDUCATION: Map numbers to clear numeric categories for interpretability\n",
        "#Graduate = 1, University = 2, High School = 3, Other = 4\n",
        "data[\"EDUCATION\"] = data[\"EDUCATION\"].replace({\n",
        "    0: 4,  # Map 0 to 'Other'\n",
        "    1: 1,  # Graduate\n",
        "    2: 2,  # University\n",
        "    3: 3,  # High School\n",
        "    4: 4,  # Other\n",
        "    5: 4,  # Other\n",
        "    6: 4   # Other\n",
        "})\n",
        "\n",
        "#MARRIAGE: Map numbers to clear numeric categories for interpretability\n",
        "#Married = 1, Single = 2, Other = 3\n",
        "data[\"MARRIAGE\"] = data[\"MARRIAGE\"].replace({\n",
        "    0: 3,  # Map 0 to 'Other'\n",
        "    1: 1,  # Married\n",
        "    2: 2,  # Single\n",
        "    3: 3   # Other\n",
        "})"
      ]
    },
    {
      "cell_type": "code",
      "execution_count": 7,
      "id": "bd862c6f-e893-4287-9f23-45671d7d832b",
      "metadata": {
        "id": "bd862c6f-e893-4287-9f23-45671d7d832b"
      },
      "outputs": [],
      "source": [
        "columns_to_keep = [\"LIMIT_BAL\", \"SEX\", \"EDUCATION\", \"MARRIAGE\", \"AGE\", \"DEFAULT_NEXT_MONTH\"]\n",
        "data_subset = data[columns_to_keep]"
      ]
    },
    {
      "cell_type": "markdown",
      "id": "f3ba9ae1-0411-4542-9f43-6560bcef7052",
      "metadata": {
        "id": "f3ba9ae1-0411-4542-9f43-6560bcef7052"
      },
      "source": [
        "## Data Exploration"
      ]
    },
    {
      "cell_type": "code",
      "execution_count": 8,
      "id": "57bbd1b7-9113-49ad-a90b-7a04d2f005f7",
      "metadata": {
        "id": "57bbd1b7-9113-49ad-a90b-7a04d2f005f7",
        "outputId": "6a92aef9-a128-4ba8-ceab-797f6a4f6723",
        "colab": {
          "base_uri": "https://localhost:8080/",
          "height": 576
        }
      },
      "outputs": [
        {
          "output_type": "display_data",
          "data": {
            "text/plain": [
              "<Figure size 1200x600 with 1 Axes>"
            ],
            "image/png": "[encoded data removed]"
          },
          "metadata": {}
        }
      ],
      "source": [
        "# mean default rate by age\n",
        "age_default_prob = data.groupby(\"AGE\")[\"DEFAULT_NEXT_MONTH\"].mean()\n",
        "\n",
        "# plotting the probability of default by age\n",
        "plt.figure(figsize=(12, 6))\n",
        "sns.lineplot(x=age_default_prob.index, y=age_default_prob.values, marker=\"o\", linestyle=\"-\", color=\"blue\")\n",
        "plt.title(\"Probability of Default by Age\", fontsize=16)\n",
        "plt.xlabel(\"Age\", fontsize=14)\n",
        "plt.ylabel(\"Probability of Default\", fontsize=14)\n",
        "plt.xticks(fontsize=12)\n",
        "plt.yticks(fontsize=12)\n",
        "plt.grid(axis=\"both\", linestyle=\"--\", alpha=0.7)\n",
        "plt.tight_layout()\n",
        "plt.show()"
      ]
    },
    {
      "cell_type": "code",
      "execution_count": 9,
      "id": "fc0ef25d-8ed1-4071-afaa-ecff572aa2af",
      "metadata": {
        "id": "fc0ef25d-8ed1-4071-afaa-ecff572aa2af",
        "outputId": "5a4e0c4a-a377-4f18-c234-7409dfc23dfd",
        "colab": {
          "base_uri": "https://localhost:8080/",
          "height": 576
        }
      },
      "outputs": [
        {
          "output_type": "display_data",
          "data": {
            "text/plain": [
              "<Figure size 1400x700 with 1 Axes>"
            ],
            "image/png": "[encoded data removed]"
          },
          "metadata": {}
        }
      ],
      "source": [
        "# bin ages into deciles\n",
        "age_bins = pd.qcut(data[\"AGE\"], q=10, duplicates=\"drop\")\n",
        "data[\"Age_Group\"] = age_bins\n",
        "\n",
        "# get range labels for the deciles\n",
        "age_range_labels = [\n",
        "    f\"{int(interval.left)}-{int(interval.right)}\"\n",
        "    for interval in age_bins.cat.categories\n",
        "]\n",
        "\n",
        "# mapping these range labels back to the data\n",
        "data[\"Age_Group\"] = data[\"Age_Group\"].cat.rename_categories(age_range_labels)\n",
        "\n",
        "# calculate default probabilities for each age group\n",
        "age_default_prob = (\n",
        "    data.groupby(\"Age_Group\", observed=True)[\"DEFAULT_NEXT_MONTH\"]\n",
        "    .mean()\n",
        "    .reset_index()\n",
        "    .rename(columns={\"DEFAULT_NEXT_MONTH\": \"Default_Probability\"})\n",
        ")\n",
        "\n",
        "# plotting default probabilities\n",
        "plt.figure(figsize=(14, 7))\n",
        "sns.barplot(\n",
        "    data=age_default_prob,\n",
        "    x=\"Age_Group\",\n",
        "    y=\"Default_Probability\",\n",
        "    palette=\"coolwarm\",\n",
        "    edgecolor=\"black\",\n",
        ")\n",
        "plt.axhline(\n",
        "    y=age_default_prob[\"Default_Probability\"].mean(),\n",
        "    color=\"red\",\n",
        "    linestyle=\"--\",\n",
        "    linewidth=1.5,\n",
        "    label=\"Mean Default Probability\",\n",
        ")\n",
        "plt.title(\"Probability of Default by Age Group (Deciles)\", fontsize=16, fontweight=\"bold\")\n",
        "plt.xlabel(\"Age Range (Deciles)\", fontsize=14)\n",
        "plt.ylabel(\"Probability of Default\", fontsize=14)\n",
        "plt.xticks(rotation=45, fontsize=12)\n",
        "plt.yticks(fontsize=12)\n",
        "plt.legend(fontsize=12, loc=\"upper right\")\n",
        "plt.grid(axis=\"y\", linestyle=\"--\", alpha=0.7)\n",
        "plt.tight_layout()\n",
        "plt.show()"
      ]
    },
    {
      "cell_type": "code",
      "execution_count": 10,
      "id": "cb718245-5560-4228-8af9-b99cd9929119",
      "metadata": {
        "id": "cb718245-5560-4228-8af9-b99cd9929119",
        "outputId": "e06e7616-9234-44c8-dccb-a78359e0a25e",
        "colab": {
          "base_uri": "https://localhost:8080/",
          "height": 670
        }
      },
      "outputs": [
        {
          "output_type": "display_data",
          "data": {
            "text/plain": [
              "<Figure size 1200x700 with 1 Axes>"
            ],
            "image/png": "[encoded data removed]"
          },
          "metadata": {}
        }
      ],
      "source": [
        "# define privileged (26-47) and underprivileged groups (21-25, 48+)\n",
        "data[\"Age_Group\"] = data[\"AGE\"].apply(\n",
        "    lambda x: \"Privileged (Ages 26-47)\" if 26 <= x <= 47 else \"Underprivileged (Ages 21-25, 48+)\"\n",
        ")\n",
        "\n",
        "# calculate default probabilities for each group\n",
        "age_group_default_prob = (\n",
        "    data.groupby(\"Age_Group\", observed=True)[\"DEFAULT_NEXT_MONTH\"]\n",
        "    .mean()\n",
        "    .reset_index()\n",
        "    .rename(columns={\"DEFAULT_NEXT_MONTH\": \"Default_Probability\"})\n",
        ")\n",
        "\n",
        "# plot default probabilities with a regression line\n",
        "plt.figure(figsize=(12, 7))\n",
        "sns.barplot(\n",
        "    data=age_group_default_prob,\n",
        "    x=\"Age_Group\",\n",
        "    y=\"Default_Probability\",\n",
        "    palette=\"coolwarm\",\n",
        "    edgecolor=\"black\"\n",
        ")\n",
        "sns.regplot(\n",
        "    x=np.arange(len(age_group_default_prob)),\n",
        "    y=age_group_default_prob[\"Default_Probability\"],\n",
        "    scatter=False, color=\"blue\", label=\"Regression Line\", ci=None\n",
        ")\n",
        "plt.axhline(\n",
        "    y=age_group_default_prob[\"Default_Probability\"].mean(),\n",
        "    color=\"red\",\n",
        "    linestyle=\"--\",\n",
        "    linewidth=1.5,\n",
        "    label=\"Mean Default Probability\"\n",
        ")\n",
        "plt.title(\"Probability of Default by Age Group\", fontsize=16, fontweight=\"bold\")\n",
        "plt.xlabel(\"Age Group\", fontsize=14)\n",
        "plt.ylabel(\"Probability of Default\", fontsize=14)\n",
        "plt.xticks(ticks=np.arange(len(age_group_default_prob)), labels=age_group_default_prob[\"Age_Group\"], fontsize=12)\n",
        "plt.yticks(fontsize=12)\n",
        "plt.legend(fontsize=12, loc=\"upper right\")\n",
        "plt.grid(axis=\"y\", linestyle=\"--\", alpha=0.7)\n",
        "plt.tight_layout()\n",
        "plt.show()"
      ]
    },
    {
      "cell_type": "code",
      "execution_count": 11,
      "id": "ad86cf87-23e1-4928-a5c1-aa5b1a795856",
      "metadata": {
        "id": "ad86cf87-23e1-4928-a5c1-aa5b1a795856",
        "outputId": "6e6ed25a-1e56-4e83-cc73-65ca8b3d2b78",
        "colab": {
          "base_uri": "https://localhost:8080/",
          "height": 607
        }
      },
      "outputs": [
        {
          "output_type": "display_data",
          "data": {
            "text/plain": [
              "<Figure size 1000x600 with 1 Axes>"
            ],
            "image/png": "[encoded data removed]"
          },
          "metadata": {}
        }
      ],
      "source": [
        "# define Age_Group for privileged and underprivileged groups\n",
        "youngest_quartile = data[\"AGE\"].quantile(0.25)\n",
        "oldest_quartile = data[\"AGE\"].quantile(0.75)\n",
        "\n",
        "data[\"Age_Group\"] = data[\"AGE\"].apply(\n",
        "    lambda x: 1 if youngest_quartile < x <= oldest_quartile else 0\n",
        ")  # 1 for Privileged 0 for Underprivileged\n",
        "\n",
        "# dbouble checking the gender encoding\n",
        "data[\"Gender_Label\"] = data[\"SEX\"].replace({1: \"Male\", 0: \"Female\"})\n",
        "\n",
        "# underprivileged group\n",
        "underprivileged_group = data[data[\"Age_Group\"] == 0]\n",
        "\n",
        "# default probabilities for males and females in the underprivileged group\n",
        "default_rates_underprivileged = (\n",
        "    underprivileged_group.groupby(\"Gender_Label\")[\"DEFAULT_NEXT_MONTH\"].mean() * 100\n",
        ")\n",
        "\n",
        "# bar plot for default rates in the underprivileged group x gender\n",
        "plt.figure(figsize=(10, 6))\n",
        "sns.barplot(\n",
        "    x=default_rates_underprivileged.index,\n",
        "    y=default_rates_underprivileged.values,\n",
        "    palette=[\"orange\", \"green\"],\n",
        "    edgecolor=\"black\"\n",
        ")\n",
        "plt.title(\"Default Rates for Underprivileged Group by Gender\", fontsize=16, fontweight=\"bold\")\n",
        "plt.ylabel(\"Default Rate (%)\", fontsize=14)\n",
        "plt.xlabel(\"Gender\", fontsize=14)\n",
        "plt.xticks(fontsize=12)\n",
        "plt.yticks(fontsize=12)\n",
        "plt.grid(axis=\"y\", linestyle=\"--\", alpha=0.7)\n",
        "plt.tight_layout()\n",
        "plt.show()"
      ]
    },
    {
      "cell_type": "markdown",
      "id": "e98b4c83-ae2f-4d5a-a702-065b25819f93",
      "metadata": {
        "id": "e98b4c83-ae2f-4d5a-a702-065b25819f93"
      },
      "source": [
        "## Quantifying Dataset Bias"
      ]
    },
    {
      "cell_type": "code",
      "execution_count": 12,
      "id": "5837ca9d-e796-4707-8c14-03e05559d4db",
      "metadata": {
        "id": "5837ca9d-e796-4707-8c14-03e05559d4db"
      },
      "outputs": [],
      "source": [
        "# set seed\n",
        "rand = 531\n",
        "np.random.seed(rand)\n",
        "\n",
        "# defining our target and features\n",
        "y = data[\"DEFAULT_NEXT_MONTH\"]\n",
        "X = data.drop([\"DEFAULT_NEXT_MONTH\"], axis=1).copy()\n",
        "\n",
        "# splitting into training and testing datasets\n",
        "X_train, X_test, y_train, y_test = train_test_split(X, y, test_size=0.25, random_state=rand)"
      ]
    },
    {
      "cell_type": "code",
      "execution_count": 13,
      "id": "e2b8792a-abcc-4b90-adb1-e2ed1176c053",
      "metadata": {
        "id": "e2b8792a-abcc-4b90-adb1-e2ed1176c053"
      },
      "outputs": [],
      "source": [
        "# privileged and underprivileged Groups for Age\n",
        "X_train[\"Age_Group\"] = X_train[\"AGE\"].apply(lambda x: 1 if 26 <= x <= 47 else 0).copy()\n",
        "X_test[\"Age_Group\"] = X_test[\"AGE\"].apply(lambda x: 1 if 26 <= x <= 47 else 0).copy()"
      ]
    },
    {
      "cell_type": "code",
      "execution_count": 14,
      "id": "1d33ca0a-1280-4a45-81f5-690f9f91423f",
      "metadata": {
        "id": "1d33ca0a-1280-4a45-81f5-690f9f91423f"
      },
      "outputs": [],
      "source": [
        "# gender\n",
        "X_train[\"Gender_Label\"] = X_train[\"SEX\"].replace({1: 1, 0: 0})  # female 0, male 1\n",
        "X_test[\"Gender_Label\"] = X_test[\"SEX\"].replace({1: 1, 0: 0})"
      ]
    },
    {
      "cell_type": "code",
      "execution_count": 15,
      "id": "33201e78-46a2-4104-9bf3-08cc5043b593",
      "metadata": {
        "id": "33201e78-46a2-4104-9bf3-08cc5043b593"
      },
      "outputs": [],
      "source": [
        "# combine X_train and y_train for BinaryLabelDataset\n",
        "train_ds = BinaryLabelDataset(\n",
        "    df=X_train.join(y_train),\n",
        "    label_names=[\"DEFAULT_NEXT_MONTH\"],\n",
        "    protected_attribute_names=[\"Age_Group\", \"Gender_Label\"],\n",
        "    favorable_label=0,  # 0 did not default\n",
        "    unfavorable_label=1  # 1 defaulted\n",
        ")"
      ]
    },
    {
      "cell_type": "code",
      "execution_count": 16,
      "id": "8ddd75bb-0819-47c9-b586-88ab290d3a72",
      "metadata": {
        "id": "8ddd75bb-0819-47c9-b586-88ab290d3a72"
      },
      "outputs": [],
      "source": [
        "# defining our groups, remember- privileged is 26-47 and underprivileged is 21-25, & 48+\n",
        "privileged_groups = [{\"Age_Group\": 1}]\n",
        "unprivileged_groups = [{\"Age_Group\": 0}]"
      ]
    },
    {
      "cell_type": "code",
      "execution_count": 17,
      "id": "b7ee746a-a344-4d56-ae25-17d6db7053fc",
      "metadata": {
        "scrolled": true,
        "id": "b7ee746a-a344-4d56-ae25-17d6db7053fc",
        "outputId": "e2a22e23-6df5-483c-95ac-92b9fece4c5f",
        "colab": {
          "base_uri": "https://localhost:8080/"
        }
      },
      "outputs": [
        {
          "output_type": "stream",
          "name": "stdout",
          "text": [
            "Training Data Metrics:\n",
            "Statistical Parity Difference (SPD): -0.1202\n",
            "Disparate Impact (DI): 0.8480\n",
            "Smoothed Empirical Differential Fairness (SEDF): 0.8774\n"
          ]
        }
      ],
      "source": [
        "# then, compute our metrics for training data\n",
        "metrics_train_ds = BinaryLabelDatasetMetric(\n",
        "    train_ds,\n",
        "    unprivileged_groups=unprivileged_groups,\n",
        "    privileged_groups=privileged_groups\n",
        ")\n",
        "\n",
        "# print results from training data\n",
        "print(\"Training Data Metrics:\")\n",
        "print(f\"Statistical Parity Difference (SPD): {metrics_train_ds.statistical_parity_difference():.4f}\")\n",
        "print(f\"Disparate Impact (DI): {metrics_train_ds.disparate_impact():.4f}\")\n",
        "print(f\"Smoothed Empirical Differential Fairness (SEDF): {metrics_train_ds.smoothed_empirical_differential_fairness():.4f}\")"
      ]
    },
    {
      "cell_type": "markdown",
      "id": "f048efe1-69aa-48a9-b33e-9c1617652d35",
      "metadata": {
        "id": "f048efe1-69aa-48a9-b33e-9c1617652d35"
      },
      "source": [
        "## Quantifying Model Bias"
      ]
    },
    {
      "cell_type": "code",
      "execution_count": 18,
      "id": "c7d208a5-078e-4946-84cf-b1ab0ffb71cf",
      "metadata": {
        "id": "c7d208a5-078e-4946-84cf-b1ab0ffb71cf",
        "outputId": "c5e85be0-0e2c-4b86-a5fc-aecf15c49d08",
        "colab": {
          "base_uri": "https://localhost:8080/",
          "height": 1000
        }
      },
      "outputs": [
        {
          "output_type": "stream",
          "name": "stdout",
          "text": [
            "[LightGBM] [Info] Number of positive: 5373, number of negative: 17127\n",
            "[LightGBM] [Info] Auto-choosing row-wise multi-threading, the overhead of testing was 0.004906 seconds.\n",
            "You can set `force_row_wise=true` to remove the overhead.\n",
            "And if memory is not enough, you can set `force_col_wise=true`.\n",
            "[LightGBM] [Info] Total Bins 3521\n",
            "[LightGBM] [Info] Number of data points in the train set: 22500, number of used features: 26\n",
            "[LightGBM] [Info] [binary:BoostFromScore]: pavg=0.238800 -> initscore=-1.159270\n",
            "[LightGBM] [Info] Start training from score -1.159270\n",
            "[LightGBM] [Warning] No further splits with positive gain, best gain: -inf\n",
            "[LightGBM] [Warning] No further splits with positive gain, best gain: -inf\n",
            "[LightGBM] [Warning] No further splits with positive gain, best gain: -inf\n",
            "[LightGBM] [Warning] No further splits with positive gain, best gain: -inf\n",
            "[LightGBM] [Warning] No further splits with positive gain, best gain: -inf\n",
            "[LightGBM] [Warning] No further splits with positive gain, best gain: -inf\n",
            "[LightGBM] [Warning] No further splits with positive gain, best gain: -inf\n",
            "[LightGBM] [Warning] No further splits with positive gain, best gain: -inf\n",
            "[LightGBM] [Warning] No further splits with positive gain, best gain: -inf\n",
            "[LightGBM] [Warning] No further splits with positive gain, best gain: -inf\n",
            "[LightGBM] [Warning] No further splits with positive gain, best gain: -inf\n",
            "[LightGBM] [Warning] No further splits with positive gain, best gain: -inf\n",
            "[LightGBM] [Warning] No further splits with positive gain, best gain: -inf\n",
            "[LightGBM] [Warning] No further splits with positive gain, best gain: -inf\n",
            "[LightGBM] [Warning] No further splits with positive gain, best gain: -inf\n",
            "[LightGBM] [Warning] No further splits with positive gain, best gain: -inf\n",
            "[LightGBM] [Warning] No further splits with positive gain, best gain: -inf\n",
            "[LightGBM] [Warning] No further splits with positive gain, best gain: -inf\n",
            "[LightGBM] [Warning] No further splits with positive gain, best gain: -inf\n",
            "[LightGBM] [Warning] No further splits with positive gain, best gain: -inf\n",
            "[LightGBM] [Warning] No further splits with positive gain, best gain: -inf\n",
            "[LightGBM] [Warning] No further splits with positive gain, best gain: -inf\n",
            "[LightGBM] [Warning] No further splits with positive gain, best gain: -inf\n",
            "[LightGBM] [Warning] Stopped training because there are no more leaves that meet the split requirements\n",
            "[LightGBM] [Warning] No further splits with positive gain, best gain: -inf\n",
            "[LightGBM] [Warning] Stopped training because there are no more leaves that meet the split requirements\n",
            "[LightGBM] [Warning] No further splits with positive gain, best gain: -inf\n",
            "[LightGBM] [Warning] Stopped training because there are no more leaves that meet the split requirements\n",
            "[LightGBM] [Warning] No further splits with positive gain, best gain: -inf\n",
            "[LightGBM] [Warning] Stopped training because there are no more leaves that meet the split requirements\n",
            "[LightGBM] [Warning] No further splits with positive gain, best gain: -inf\n",
            "[LightGBM] [Warning] Stopped training because there are no more leaves that meet the split requirements\n",
            "[LightGBM] [Warning] No further splits with positive gain, best gain: -inf\n",
            "[LightGBM] [Warning] Stopped training because there are no more leaves that meet the split requirements\n",
            "[LightGBM] [Warning] No further splits with positive gain, best gain: -inf\n",
            "[LightGBM] [Warning] Stopped training because there are no more leaves that meet the split requirements\n",
            "[LightGBM] [Warning] No further splits with positive gain, best gain: -inf\n",
            "[LightGBM] [Warning] Stopped training because there are no more leaves that meet the split requirements\n",
            "[LightGBM] [Warning] No further splits with positive gain, best gain: -inf\n",
            "[LightGBM] [Warning] Stopped training because there are no more leaves that meet the split requirements\n",
            "[LightGBM] [Warning] No further splits with positive gain, best gain: -inf\n",
            "[LightGBM] [Warning] Stopped training because there are no more leaves that meet the split requirements\n",
            "[LightGBM] [Warning] No further splits with positive gain, best gain: -inf\n",
            "[LightGBM] [Warning] Stopped training because there are no more leaves that meet the split requirements\n",
            "[LightGBM] [Warning] No further splits with positive gain, best gain: -inf\n",
            "[LightGBM] [Warning] Stopped training because there are no more leaves that meet the split requirements\n",
            "[LightGBM] [Warning] No further splits with positive gain, best gain: -inf\n",
            "[LightGBM] [Warning] Stopped training because there are no more leaves that meet the split requirements\n",
            "[LightGBM] [Warning] No further splits with positive gain, best gain: -inf\n",
            "[LightGBM] [Warning] Stopped training because there are no more leaves that meet the split requirements\n",
            "[LightGBM] [Warning] No further splits with positive gain, best gain: -inf\n",
            "[LightGBM] [Warning] Stopped training because there are no more leaves that meet the split requirements\n",
            "[LightGBM] [Warning] No further splits with positive gain, best gain: -inf\n",
            "[LightGBM] [Warning] Stopped training because there are no more leaves that meet the split requirements\n",
            "[LightGBM] [Warning] No further splits with positive gain, best gain: -inf\n",
            "[LightGBM] [Warning] Stopped training because there are no more leaves that meet the split requirements\n",
            "[LightGBM] [Warning] No further splits with positive gain, best gain: -inf\n",
            "[LightGBM] [Warning] Stopped training because there are no more leaves that meet the split requirements\n",
            "[LightGBM] [Warning] No further splits with positive gain, best gain: -inf\n",
            "[LightGBM] [Warning] Stopped training because there are no more leaves that meet the split requirements\n",
            "[LightGBM] [Warning] No further splits with positive gain, best gain: -inf\n",
            "[LightGBM] [Warning] Stopped training because there are no more leaves that meet the split requirements\n",
            "[LightGBM] [Warning] No further splits with positive gain, best gain: -inf\n",
            "[LightGBM] [Warning] Stopped training because there are no more leaves that meet the split requirements\n",
            "[LightGBM] [Warning] No further splits with positive gain, best gain: -inf\n",
            "[LightGBM] [Warning] Stopped training because there are no more leaves that meet the split requirements\n",
            "[LightGBM] [Warning] No further splits with positive gain, best gain: -inf\n",
            "[LightGBM] [Warning] Stopped training because there are no more leaves that meet the split requirements\n",
            "[LightGBM] [Warning] No further splits with positive gain, best gain: -inf\n",
            "[LightGBM] [Warning] Stopped training because there are no more leaves that meet the split requirements\n",
            "[LightGBM] [Warning] No further splits with positive gain, best gain: -inf\n",
            "[LightGBM] [Warning] Stopped training because there are no more leaves that meet the split requirements\n",
            "[LightGBM] [Warning] No further splits with positive gain, best gain: -inf\n",
            "[LightGBM] [Warning] Stopped training because there are no more leaves that meet the split requirements\n",
            "[LightGBM] [Warning] No further splits with positive gain, best gain: -inf\n",
            "[LightGBM] [Warning] Stopped training because there are no more leaves that meet the split requirements\n",
            "[LightGBM] [Warning] No further splits with positive gain, best gain: -inf\n",
            "[LightGBM] [Warning] Stopped training because there are no more leaves that meet the split requirements\n",
            "[LightGBM] [Warning] No further splits with positive gain, best gain: -inf\n",
            "[LightGBM] [Warning] Stopped training because there are no more leaves that meet the split requirements\n",
            "[LightGBM] [Warning] No further splits with positive gain, best gain: -inf\n",
            "[LightGBM] [Warning] Stopped training because there are no more leaves that meet the split requirements\n",
            "[LightGBM] [Warning] No further splits with positive gain, best gain: -inf\n",
            "[LightGBM] [Warning] Stopped training because there are no more leaves that meet the split requirements\n",
            "[LightGBM] [Warning] No further splits with positive gain, best gain: -inf\n",
            "[LightGBM] [Warning] Stopped training because there are no more leaves that meet the split requirements\n",
            "[LightGBM] [Warning] No further splits with positive gain, best gain: -inf\n",
            "[LightGBM] [Warning] Stopped training because there are no more leaves that meet the split requirements\n",
            "[LightGBM] [Warning] No further splits with positive gain, best gain: -inf\n",
            "[LightGBM] [Warning] Stopped training because there are no more leaves that meet the split requirements\n",
            "[LightGBM] [Warning] No further splits with positive gain, best gain: -inf\n",
            "[LightGBM] [Warning] Stopped training because there are no more leaves that meet the split requirements\n"
          ]
        },
        {
          "output_type": "execute_result",
          "data": {
            "text/plain": [
              "LGBMClassifier(learning_rate=0.4, max_depth=6, num_leaves=33, random_seed=531,\n",
              "               reg_alpha=21, reg_lambda=1, scale_pos_weight=1.8)"
            ],
            "text/html": [
              "<style>#sk-container-id-1 {\n",
              "  /* Definition of color scheme common for light and dark mode */\n",
              "  --sklearn-color-text: #000;\n",
              "  --sklearn-color-text-muted: #666;\n",
              "  --sklearn-color-line: gray;\n",
              "  /* Definition of color scheme for unfitted estimators */\n",
              "  --sklearn-color-unfitted-level-0: #fff5e6;\n",
              "  --sklearn-color-unfitted-level-1: #f6e4d2;\n",
              "  --sklearn-color-unfitted-level-2: #ffe0b3;\n",
              "  --sklearn-color-unfitted-level-3: chocolate;\n",
              "  /* Definition of color scheme for fitted estimators */\n",
              "  --sklearn-color-fitted-level-0: #f0f8ff;\n",
              "  --sklearn-color-fitted-level-1: #d4ebff;\n",
              "  --sklearn-color-fitted-level-2: #b3dbfd;\n",
              "  --sklearn-color-fitted-level-3: cornflowerblue;\n",
              "\n",
              "  /* Specific color for light theme */\n",
              "  --sklearn-color-text-on-default-background: var(--sg-text-color, var(--theme-code-foreground, var(--jp-content-font-color1, black)));\n",
              "  --sklearn-color-background: var(--sg-background-color, var(--theme-background, var(--jp-layout-color0, white)));\n",
              "  --sklearn-color-border-box: var(--sg-text-color, var(--theme-code-foreground, var(--jp-content-font-color1, black)));\n",
              "  --sklearn-color-icon: #696969;\n",
              "\n",
              "  @media (prefers-color-scheme: dark) {\n",
              "    /* Redefinition of color scheme for dark theme */\n",
              "    --sklearn-color-text-on-default-background: var(--sg-text-color, var(--theme-code-foreground, var(--jp-content-font-color1, white)));\n",
              "    --sklearn-color-background: var(--sg-background-color, var(--theme-background, var(--jp-layout-color0, #111)));\n",
              "    --sklearn-color-border-box: var(--sg-text-color, var(--theme-code-foreground, var(--jp-content-font-color1, white)));\n",
              "    --sklearn-color-icon: #878787;\n",
              "  }\n",
              "}\n",
              "\n",
              "#sk-container-id-1 {\n",
              "  color: var(--sklearn-color-text);\n",
              "}\n",
              "\n",
              "#sk-container-id-1 pre {\n",
              "  padding: 0;\n",
              "}\n",
              "\n",
              "#sk-container-id-1 input.sk-hidden--visually {\n",
              "  border: 0;\n",
              "  clip: rect(1px 1px 1px 1px);\n",
              "  clip: rect(1px, 1px, 1px, 1px);\n",
              "  height: 1px;\n",
              "  margin: -1px;\n",
              "  overflow: hidden;\n",
              "  padding: 0;\n",
              "  position: absolute;\n",
              "  width: 1px;\n",
              "}\n",
              "\n",
              "#sk-container-id-1 div.sk-dashed-wrapped {\n",
              "  border: 1px dashed var(--sklearn-color-line);\n",
              "  margin: 0 0.4em 0.5em 0.4em;\n",
              "  box-sizing: border-box;\n",
              "  padding-bottom: 0.4em;\n",
              "  background-color: var(--sklearn-color-background);\n",
              "}\n",
              "\n",
              "#sk-container-id-1 div.sk-container {\n",
              "  /* jupyter's `normalize.less` sets `[hidden] { display: none; }`\n",
              "     but bootstrap.min.css set `[hidden] { display: none !important; }`\n",
              "     so we also need the `!important` here to be able to override the\n",
              "     default hidden behavior on the sphinx rendered scikit-learn.org.\n",
              "     See: https://github.com/scikit-learn/scikit-learn/issues/21755 */\n",
              "  display: inline-block !important;\n",
              "  position: relative;\n",
              "}\n",
              "\n",
              "#sk-container-id-1 div.sk-text-repr-fallback {\n",
              "  display: none;\n",
              "}\n",
              "\n",
              "div.sk-parallel-item,\n",
              "div.sk-serial,\n",
              "div.sk-item {\n",
              "  /* draw centered vertical line to link estimators */\n",
              "  background-image: linear-gradient(var(--sklearn-color-text-on-default-background), var(--sklearn-color-text-on-default-background));\n",
              "  background-size: 2px 100%;\n",
              "  background-repeat: no-repeat;\n",
              "  background-position: center center;\n",
              "}\n",
              "\n",
              "/* Parallel-specific style estimator block */\n",
              "\n",
              "#sk-container-id-1 div.sk-parallel-item::after {\n",
              "  content: \"\";\n",
              "  width: 100%;\n",
              "  border-bottom: 2px solid var(--sklearn-color-text-on-default-background);\n",
              "  flex-grow: 1;\n",
              "}\n",
              "\n",
              "#sk-container-id-1 div.sk-parallel {\n",
              "  display: flex;\n",
              "  align-items: stretch;\n",
              "  justify-content: center;\n",
              "  background-color: var(--sklearn-color-background);\n",
              "  position: relative;\n",
              "}\n",
              "\n",
              "#sk-container-id-1 div.sk-parallel-item {\n",
              "  display: flex;\n",
              "  flex-direction: column;\n",
              "}\n",
              "\n",
              "#sk-container-id-1 div.sk-parallel-item:first-child::after {\n",
              "  align-self: flex-end;\n",
              "  width: 50%;\n",
              "}\n",
              "\n",
              "#sk-container-id-1 div.sk-parallel-item:last-child::after {\n",
              "  align-self: flex-start;\n",
              "  width: 50%;\n",
              "}\n",
              "\n",
              "#sk-container-id-1 div.sk-parallel-item:only-child::after {\n",
              "  width: 0;\n",
              "}\n",
              "\n",
              "/* Serial-specific style estimator block */\n",
              "\n",
              "#sk-container-id-1 div.sk-serial {\n",
              "  display: flex;\n",
              "  flex-direction: column;\n",
              "  align-items: center;\n",
              "  background-color: var(--sklearn-color-background);\n",
              "  padding-right: 1em;\n",
              "  padding-left: 1em;\n",
              "}\n",
              "\n",
              "\n",
              "/* Toggleable style: style used for estimator/Pipeline/ColumnTransformer box that is\n",
              "clickable and can be expanded/collapsed.\n",
              "- Pipeline and ColumnTransformer use this feature and define the default style\n",
              "- Estimators will overwrite some part of the style using the `sk-estimator` class\n",
              "*/\n",
              "\n",
              "/* Pipeline and ColumnTransformer style (default) */\n",
              "\n",
              "#sk-container-id-1 div.sk-toggleable {\n",
              "  /* Default theme specific background. It is overwritten whether we have a\n",
              "  specific estimator or a Pipeline/ColumnTransformer */\n",
              "  background-color: var(--sklearn-color-background);\n",
              "}\n",
              "\n",
              "/* Toggleable label */\n",
              "#sk-container-id-1 label.sk-toggleable__label {\n",
              "  cursor: pointer;\n",
              "  display: flex;\n",
              "  width: 100%;\n",
              "  margin-bottom: 0;\n",
              "  padding: 0.5em;\n",
              "  box-sizing: border-box;\n",
              "  text-align: center;\n",
              "  align-items: start;\n",
              "  justify-content: space-between;\n",
              "  gap: 0.5em;\n",
              "}\n",
              "\n",
              "#sk-container-id-1 label.sk-toggleable__label .caption {\n",
              "  font-size: 0.6rem;\n",
              "  font-weight: lighter;\n",
              "  color: var(--sklearn-color-text-muted);\n",
              "}\n",
              "\n",
              "#sk-container-id-1 label.sk-toggleable__label-arrow:before {\n",
              "  /* Arrow on the left of the label */\n",
              "  content: \"▸\";\n",
              "  float: left;\n",
              "  margin-right: 0.25em;\n",
              "  color: var(--sklearn-color-icon);\n",
              "}\n",
              "\n",
              "#sk-container-id-1 label.sk-toggleable__label-arrow:hover:before {\n",
              "  color: var(--sklearn-color-text);\n",
              "}\n",
              "\n",
              "/* Toggleable content - dropdown */\n",
              "\n",
              "#sk-container-id-1 div.sk-toggleable__content {\n",
              "  max-height: 0;\n",
              "  max-width: 0;\n",
              "  overflow: hidden;\n",
              "  text-align: left;\n",
              "  /* unfitted */\n",
              "  background-color: var(--sklearn-color-unfitted-level-0);\n",
              "}\n",
              "\n",
              "#sk-container-id-1 div.sk-toggleable__content.fitted {\n",
              "  /* fitted */\n",
              "  background-color: var(--sklearn-color-fitted-level-0);\n",
              "}\n",
              "\n",
              "#sk-container-id-1 div.sk-toggleable__content pre {\n",
              "  margin: 0.2em;\n",
              "  border-radius: 0.25em;\n",
              "  color: var(--sklearn-color-text);\n",
              "  /* unfitted */\n",
              "  background-color: var(--sklearn-color-unfitted-level-0);\n",
              "}\n",
              "\n",
              "#sk-container-id-1 div.sk-toggleable__content.fitted pre {\n",
              "  /* unfitted */\n",
              "  background-color: var(--sklearn-color-fitted-level-0);\n",
              "}\n",
              "\n",
              "#sk-container-id-1 input.sk-toggleable__control:checked~div.sk-toggleable__content {\n",
              "  /* Expand drop-down */\n",
              "  max-height: 200px;\n",
              "  max-width: 100%;\n",
              "  overflow: auto;\n",
              "}\n",
              "\n",
              "#sk-container-id-1 input.sk-toggleable__control:checked~label.sk-toggleable__label-arrow:before {\n",
              "  content: \"▾\";\n",
              "}\n",
              "\n",
              "/* Pipeline/ColumnTransformer-specific style */\n",
              "\n",
              "#sk-container-id-1 div.sk-label input.sk-toggleable__control:checked~label.sk-toggleable__label {\n",
              "  color: var(--sklearn-color-text);\n",
              "  background-color: var(--sklearn-color-unfitted-level-2);\n",
              "}\n",
              "\n",
              "#sk-container-id-1 div.sk-label.fitted input.sk-toggleable__control:checked~label.sk-toggleable__label {\n",
              "  background-color: var(--sklearn-color-fitted-level-2);\n",
              "}\n",
              "\n",
              "/* Estimator-specific style */\n",
              "\n",
              "/* Colorize estimator box */\n",
              "#sk-container-id-1 div.sk-estimator input.sk-toggleable__control:checked~label.sk-toggleable__label {\n",
              "  /* unfitted */\n",
              "  background-color: var(--sklearn-color-unfitted-level-2);\n",
              "}\n",
              "\n",
              "#sk-container-id-1 div.sk-estimator.fitted input.sk-toggleable__control:checked~label.sk-toggleable__label {\n",
              "  /* fitted */\n",
              "  background-color: var(--sklearn-color-fitted-level-2);\n",
              "}\n",
              "\n",
              "#sk-container-id-1 div.sk-label label.sk-toggleable__label,\n",
              "#sk-container-id-1 div.sk-label label {\n",
              "  /* The background is the default theme color */\n",
              "  color: var(--sklearn-color-text-on-default-background);\n",
              "}\n",
              "\n",
              "/* On hover, darken the color of the background */\n",
              "#sk-container-id-1 div.sk-label:hover label.sk-toggleable__label {\n",
              "  color: var(--sklearn-color-text);\n",
              "  background-color: var(--sklearn-color-unfitted-level-2);\n",
              "}\n",
              "\n",
              "/* Label box, darken color on hover, fitted */\n",
              "#sk-container-id-1 div.sk-label.fitted:hover label.sk-toggleable__label.fitted {\n",
              "  color: var(--sklearn-color-text);\n",
              "  background-color: var(--sklearn-color-fitted-level-2);\n",
              "}\n",
              "\n",
              "/* Estimator label */\n",
              "\n",
              "#sk-container-id-1 div.sk-label label {\n",
              "  font-family: monospace;\n",
              "  font-weight: bold;\n",
              "  display: inline-block;\n",
              "  line-height: 1.2em;\n",
              "}\n",
              "\n",
              "#sk-container-id-1 div.sk-label-container {\n",
              "  text-align: center;\n",
              "}\n",
              "\n",
              "/* Estimator-specific */\n",
              "#sk-container-id-1 div.sk-estimator {\n",
              "  font-family: monospace;\n",
              "  border: 1px dotted var(--sklearn-color-border-box);\n",
              "  border-radius: 0.25em;\n",
              "  box-sizing: border-box;\n",
              "  margin-bottom: 0.5em;\n",
              "  /* unfitted */\n",
              "  background-color: var(--sklearn-color-unfitted-level-0);\n",
              "}\n",
              "\n",
              "#sk-container-id-1 div.sk-estimator.fitted {\n",
              "  /* fitted */\n",
              "  background-color: var(--sklearn-color-fitted-level-0);\n",
              "}\n",
              "\n",
              "/* on hover */\n",
              "#sk-container-id-1 div.sk-estimator:hover {\n",
              "  /* unfitted */\n",
              "  background-color: var(--sklearn-color-unfitted-level-2);\n",
              "}\n",
              "\n",
              "#sk-container-id-1 div.sk-estimator.fitted:hover {\n",
              "  /* fitted */\n",
              "  background-color: var(--sklearn-color-fitted-level-2);\n",
              "}\n",
              "\n",
              "/* Specification for estimator info (e.g. \"i\" and \"?\") */\n",
              "\n",
              "/* Common style for \"i\" and \"?\" */\n",
              "\n",
              ".sk-estimator-doc-link,\n",
              "a:link.sk-estimator-doc-link,\n",
              "a:visited.sk-estimator-doc-link {\n",
              "  float: right;\n",
              "  font-size: smaller;\n",
              "  line-height: 1em;\n",
              "  font-family: monospace;\n",
              "  background-color: var(--sklearn-color-background);\n",
              "  border-radius: 1em;\n",
              "  height: 1em;\n",
              "  width: 1em;\n",
              "  text-decoration: none !important;\n",
              "  margin-left: 0.5em;\n",
              "  text-align: center;\n",
              "  /* unfitted */\n",
              "  border: var(--sklearn-color-unfitted-level-1) 1pt solid;\n",
              "  color: var(--sklearn-color-unfitted-level-1);\n",
              "}\n",
              "\n",
              ".sk-estimator-doc-link.fitted,\n",
              "a:link.sk-estimator-doc-link.fitted,\n",
              "a:visited.sk-estimator-doc-link.fitted {\n",
              "  /* fitted */\n",
              "  border: var(--sklearn-color-fitted-level-1) 1pt solid;\n",
              "  color: var(--sklearn-color-fitted-level-1);\n",
              "}\n",
              "\n",
              "/* On hover */\n",
              "div.sk-estimator:hover .sk-estimator-doc-link:hover,\n",
              ".sk-estimator-doc-link:hover,\n",
              "div.sk-label-container:hover .sk-estimator-doc-link:hover,\n",
              ".sk-estimator-doc-link:hover {\n",
              "  /* unfitted */\n",
              "  background-color: var(--sklearn-color-unfitted-level-3);\n",
              "  color: var(--sklearn-color-background);\n",
              "  text-decoration: none;\n",
              "}\n",
              "\n",
              "div.sk-estimator.fitted:hover .sk-estimator-doc-link.fitted:hover,\n",
              ".sk-estimator-doc-link.fitted:hover,\n",
              "div.sk-label-container:hover .sk-estimator-doc-link.fitted:hover,\n",
              ".sk-estimator-doc-link.fitted:hover {\n",
              "  /* fitted */\n",
              "  background-color: var(--sklearn-color-fitted-level-3);\n",
              "  color: var(--sklearn-color-background);\n",
              "  text-decoration: none;\n",
              "}\n",
              "\n",
              "/* Span, style for the box shown on hovering the info icon */\n",
              ".sk-estimator-doc-link span {\n",
              "  display: none;\n",
              "  z-index: 9999;\n",
              "  position: relative;\n",
              "  font-weight: normal;\n",
              "  right: .2ex;\n",
              "  padding: .5ex;\n",
              "  margin: .5ex;\n",
              "  width: min-content;\n",
              "  min-width: 20ex;\n",
              "  max-width: 50ex;\n",
              "  color: var(--sklearn-color-text);\n",
              "  box-shadow: 2pt 2pt 4pt #999;\n",
              "  /* unfitted */\n",
              "  background: var(--sklearn-color-unfitted-level-0);\n",
              "  border: .5pt solid var(--sklearn-color-unfitted-level-3);\n",
              "}\n",
              "\n",
              ".sk-estimator-doc-link.fitted span {\n",
              "  /* fitted */\n",
              "  background: var(--sklearn-color-fitted-level-0);\n",
              "  border: var(--sklearn-color-fitted-level-3);\n",
              "}\n",
              "\n",
              ".sk-estimator-doc-link:hover span {\n",
              "  display: block;\n",
              "}\n",
              "\n",
              "/* \"?\"-specific style due to the `<a>` HTML tag */\n",
              "\n",
              "#sk-container-id-1 a.estimator_doc_link {\n",
              "  float: right;\n",
              "  font-size: 1rem;\n",
              "  line-height: 1em;\n",
              "  font-family: monospace;\n",
              "  background-color: var(--sklearn-color-background);\n",
              "  border-radius: 1rem;\n",
              "  height: 1rem;\n",
              "  width: 1rem;\n",
              "  text-decoration: none;\n",
              "  /* unfitted */\n",
              "  color: var(--sklearn-color-unfitted-level-1);\n",
              "  border: var(--sklearn-color-unfitted-level-1) 1pt solid;\n",
              "}\n",
              "\n",
              "#sk-container-id-1 a.estimator_doc_link.fitted {\n",
              "  /* fitted */\n",
              "  border: var(--sklearn-color-fitted-level-1) 1pt solid;\n",
              "  color: var(--sklearn-color-fitted-level-1);\n",
              "}\n",
              "\n",
              "/* On hover */\n",
              "#sk-container-id-1 a.estimator_doc_link:hover {\n",
              "  /* unfitted */\n",
              "  background-color: var(--sklearn-color-unfitted-level-3);\n",
              "  color: var(--sklearn-color-background);\n",
              "  text-decoration: none;\n",
              "}\n",
              "\n",
              "#sk-container-id-1 a.estimator_doc_link.fitted:hover {\n",
              "  /* fitted */\n",
              "  background-color: var(--sklearn-color-fitted-level-3);\n",
              "}\n",
              "</style><div id=\"sk-container-id-1\" class=\"sk-top-container\"><div class=\"sk-text-repr-fallback\"><pre>LGBMClassifier(learning_rate=0.4, max_depth=6, num_leaves=33, random_seed=531,\n",
              "               reg_alpha=21, reg_lambda=1, scale_pos_weight=1.8)</pre><b>In a Jupyter environment, please rerun this cell to show the HTML representation or trust the notebook. <br />On GitHub, the HTML representation is unable to render, please try loading this page with nbviewer.org.</b></div><div class=\"sk-container\" hidden><div class=\"sk-item\"><div class=\"sk-estimator fitted sk-toggleable\"><input class=\"sk-toggleable__control sk-hidden--visually\" id=\"sk-estimator-id-1\" type=\"checkbox\" checked><label for=\"sk-estimator-id-1\" class=\"sk-toggleable__label fitted sk-toggleable__label-arrow\"><div><div>LGBMClassifier</div></div><div><span class=\"sk-estimator-doc-link fitted\">i<span>Fitted</span></span></div></label><div class=\"sk-toggleable__content fitted\"><pre>LGBMClassifier(learning_rate=0.4, max_depth=6, num_leaves=33, random_seed=531,\n",
              "               reg_alpha=21, reg_lambda=1, scale_pos_weight=1.8)</pre></div> </div></div></div></div>"
            ]
          },
          "metadata": {},
          "execution_count": 18
        }
      ],
      "source": [
        "# train our LightGBM classifier\n",
        "lgb_params = {\n",
        "    'learning_rate': 0.4,\n",
        "    'reg_alpha': 21,\n",
        "    'reg_lambda': 1,\n",
        "    'scale_pos_weight': 1.8\n",
        "}\n",
        "\n",
        "lgb_base_model = LGBMClassifier(random_seed=531, max_depth=6, num_leaves=33, **lgb_params)\n",
        "lgb_base_model.fit(X_train, y_train)"
      ]
    },
    {
      "cell_type": "code",
      "execution_count": 19,
      "id": "61f5550f-0ae3-4e1a-a9eb-9d6efcc66790",
      "metadata": {
        "id": "61f5550f-0ae3-4e1a-a9eb-9d6efcc66790",
        "outputId": "764abda9-2ee9-454c-95ed-584c2a634131",
        "colab": {
          "base_uri": "https://localhost:8080/"
        }
      },
      "outputs": [
        {
          "output_type": "stream",
          "name": "stdout",
          "text": [
            "Accuracy (Test): 0.8176\n",
            "Precision (Test): 0.6488\n",
            "Recall (Test): 0.5404\n",
            "F1-Score (Test): 0.5897\n",
            "ROC-AUC (Test): 0.7991\n"
          ]
        }
      ],
      "source": [
        "# evaluate model\n",
        "y_pred_test = lgb_base_model.predict(X_test)\n",
        "y_pred_prob_test = lgb_base_model.predict_proba(X_test)[:, 1]\n",
        "\n",
        "# performance metrics\n",
        "accuracy = accuracy_score(y_test, y_pred_test)\n",
        "precision = precision_score(y_test, y_pred_test)\n",
        "recall = recall_score(y_test, y_pred_test)\n",
        "f1 = f1_score(y_test, y_pred_test)\n",
        "roc_auc = roc_auc_score(y_test, y_pred_prob_test)\n",
        "\n",
        "print(f\"Accuracy (Test): {accuracy:.4f}\")\n",
        "print(f\"Precision (Test): {precision:.4f}\")\n",
        "print(f\"Recall (Test): {recall:.4f}\")\n",
        "print(f\"F1-Score (Test): {f1:.4f}\")\n",
        "print(f\"ROC-AUC (Test): {roc_auc:.4f}\")"
      ]
    },
    {
      "cell_type": "markdown",
      "id": "32a11100-cfb7-42cf-a552-7b0c99a03808",
      "metadata": {
        "id": "32a11100-cfb7-42cf-a552-7b0c99a03808"
      },
      "source": [
        "<b>Training Metrics:</b>\n",
        "- Accuracy (Train): 0.8406\n",
        "- Precision (Train): 0.6911\n",
        "- Recall (Train): 0.6013\n",
        "- F1-Score (Train): 0.6431\n",
        "- ROC-AUC (Train): 0.8802\n",
        "\n",
        "<b>Test Metrics:</b>\n",
        "- Accuracy (Test): 0.8176\n",
        "- Precision (Test): 0.6488\n",
        "- Recall (Test): 0.5404\n",
        "- F1-Score (Test): 0.5897\n",
        "- ROC-AUC (Test): 0.79917991.8802"
      ]
    },
    {
      "cell_type": "code",
      "execution_count": 20,
      "id": "b4732433-d847-46b1-a789-8b056f659765",
      "metadata": {
        "id": "b4732433-d847-46b1-a789-8b056f659765",
        "outputId": "edaa11d4-61fd-4312-af2c-e6ce091b158c",
        "colab": {
          "base_uri": "https://localhost:8080/",
          "height": 564
        }
      },
      "outputs": [
        {
          "output_type": "display_data",
          "data": {
            "text/plain": [
              "<Figure size 800x600 with 1 Axes>"
            ],
            "image/png": "[encoded data removed]"
          },
          "metadata": {}
        }
      ],
      "source": [
        "# there was a biggest decrease in the ROC curve, so it is worthwhile to visualize it\n",
        "fpr, tpr, thresholds = roc_curve(y_test, y_pred_prob_test)\n",
        "plt.figure(figsize=(8, 6))\n",
        "plt.plot(fpr, tpr, label=f\"ROC Curve (AUC = {roc_auc:.4f})\")\n",
        "plt.plot([0, 1], [0, 1], linestyle=\"--\", color=\"gray\")\n",
        "plt.title(\"ROC Curve\")\n",
        "plt.xlabel(\"False Positive Rate\")\n",
        "plt.ylabel(\"True Positive Rate\")\n",
        "plt.legend()\n",
        "plt.grid(True)\n",
        "plt.show()"
      ]
    },
    {
      "cell_type": "code",
      "execution_count": 21,
      "id": "978725ae-9c4d-401d-ba38-1f5d9b4106cc",
      "metadata": {
        "id": "978725ae-9c4d-401d-ba38-1f5d9b4106cc",
        "outputId": "c0c1235b-8f0d-4a12-9791-2e7e343cafb7",
        "colab": {
          "base_uri": "https://localhost:8080/"
        }
      },
      "outputs": [
        {
          "output_type": "stream",
          "name": "stdout",
          "text": [
            "\n",
            "Fairness Metrics on Test Data:\n",
            "Statistical Parity Difference (SPD): -0.1385\n",
            "Disparate Impact (DI): 0.8339\n",
            "Smoothed Empirical Differential Fairness (SEDF): 0.8774\n"
          ]
        }
      ],
      "source": [
        "# passing test_ds into BinaryLabelDataset\n",
        "test_ds = BinaryLabelDataset(\n",
        "    df=X_test.join(y_test),\n",
        "    label_names=[\"DEFAULT_NEXT_MONTH\"],\n",
        "    protected_attribute_names=[\"Age_Group\", \"Gender_Label\"],\n",
        "    favorable_label=0,  # 0 no default\n",
        "    unfavorable_label=1  # 1 defaulted\n",
        ")\n",
        "# add predictions and scores to the test dataset for our fairness metrics\n",
        "test_pred_ds = test_ds.copy(deepcopy=True)\n",
        "test_pred_ds.labels = y_pred_test.reshape(-1, 1)\n",
        "test_pred_ds.scores = y_pred_prob_test.reshape(-1, 1)\n",
        "\n",
        "# Compute fairness metrics\n",
        "metrics_test_cls = ClassificationMetric(\n",
        "    test_ds,\n",
        "    test_pred_ds,\n",
        "    unprivileged_groups=unprivileged_groups,\n",
        "    privileged_groups=privileged_groups\n",
        ")\n",
        "\n",
        "# print fairness metrics\n",
        "print(\"\\nFairness Metrics on Test Data:\")\n",
        "print(f\"Statistical Parity Difference (SPD): {metrics_test_cls.statistical_parity_difference():.4f}\")\n",
        "print(f\"Disparate Impact (DI): {metrics_test_cls.disparate_impact():.4f}\")\n",
        "print(f\"Smoothed Empirical Differential Fairness (SEDF): {metrics_train_ds.smoothed_empirical_differential_fairness():.4f}\")"
      ]
    },
    {
      "cell_type": "markdown",
      "id": "636a69fd-c591-4b00-9a64-62bb09bf3f66",
      "metadata": {
        "id": "636a69fd-c591-4b00-9a64-62bb09bf3f66"
      },
      "source": [
        "<b>Training Data Metrics:</b>\n",
        "- Statistical Parity Difference (SPD): -0.1202\n",
        "- Disparate Impact (DI): 0.8480\n",
        "- Smoothed Empirical Differential Fairness (SEDF): 0.8774"
      ]
    },
    {
      "cell_type": "markdown",
      "id": "8b53c063-bd46-44f8-8a6d-7b38a1b70fbe",
      "metadata": {
        "id": "8b53c063-bd46-44f8-8a6d-7b38a1b70fbe"
      },
      "source": [
        "## Mitigating Bias"
      ]
    },
    {
      "cell_type": "markdown",
      "id": "9a1e1e4c-d988-4867-bfc6-aa65d6060f82",
      "metadata": {
        "id": "9a1e1e4c-d988-4867-bfc6-aa65d6060f82"
      },
      "source": [
        "### Pre-Processing Bias Mitigation Methods"
      ]
    },
    {
      "cell_type": "markdown",
      "id": "aba7bb49-f132-4ecd-bb56-eb5eaee6f2e0",
      "metadata": {
        "id": "aba7bb49-f132-4ecd-bb56-eb5eaee6f2e0"
      },
      "source": [
        "#### Reweighting (Reweighing) Method"
      ]
    },
    {
      "cell_type": "code",
      "execution_count": 22,
      "id": "fab252d2-f015-48a3-978f-400378a28ad4",
      "metadata": {
        "id": "fab252d2-f015-48a3-978f-400378a28ad4",
        "outputId": "57c02b0f-38af-476a-8040-1dd1b125dc2f",
        "colab": {
          "base_uri": "https://localhost:8080/"
        }
      },
      "outputs": [
        {
          "output_type": "stream",
          "name": "stdout",
          "text": [
            "Reweighted Training Data Metrics:\n",
            "Statistical Parity Difference (SPD): -0.0000\n",
            "Disparate Impact (DI): 1.0000\n",
            "Smoothed Empirical Differential Fairness (SEDF): 0.7310\n"
          ]
        }
      ],
      "source": [
        "# apply reweighing\n",
        "reweighter = Reweighing(\n",
        "    unprivileged_groups=unprivileged_groups,\n",
        "    privileged_groups=privileged_groups\n",
        ")\n",
        "reweighter.fit(train_ds)\n",
        "train_rw_ds = reweighter.transform(train_ds)\n",
        "\n",
        "# metrics for the reweighted training dataset\n",
        "metrics_train_rw_ds = BinaryLabelDatasetMetric(\n",
        "    train_rw_ds,\n",
        "    unprivileged_groups=unprivileged_groups,\n",
        "    privileged_groups=privileged_groups\n",
        ")\n",
        "\n",
        "# print metrics\n",
        "print('Reweighted Training Data Metrics:')\n",
        "print(f'Statistical Parity Difference (SPD): {metrics_train_rw_ds.statistical_parity_difference():.4f}')\n",
        "print(f'Disparate Impact (DI): {metrics_train_rw_ds.disparate_impact():.4f}')\n",
        "print(f'Smoothed Empirical Differential Fairness (SEDF): {metrics_train_rw_ds.smoothed_empirical_differential_fairness():.4f}')"
      ]
    },
    {
      "cell_type": "markdown",
      "id": "75a0fcc2-1be1-47ad-9fbe-108c73cc2d60",
      "metadata": {
        "id": "75a0fcc2-1be1-47ad-9fbe-108c73cc2d60"
      },
      "source": [
        "### Training LightGBM on the Reweighted Dataset"
      ]
    },
    {
      "cell_type": "code",
      "execution_count": 23,
      "id": "2f3a7db0-5983-4ede-bd3e-42837adaea75",
      "metadata": {
        "id": "2f3a7db0-5983-4ede-bd3e-42837adaea75",
        "outputId": "0be8f870-325b-4f24-8572-f8f1b8d5dcf0",
        "colab": {
          "base_uri": "https://localhost:8080/",
          "height": 1000
        }
      },
      "outputs": [
        {
          "output_type": "stream",
          "name": "stdout",
          "text": [
            "[LightGBM] [Info] Number of positive: 5373, number of negative: 17127\n",
            "[LightGBM] [Info] Auto-choosing row-wise multi-threading, the overhead of testing was 0.004537 seconds.\n",
            "You can set `force_row_wise=true` to remove the overhead.\n",
            "And if memory is not enough, you can set `force_col_wise=true`.\n",
            "[LightGBM] [Info] Total Bins 3521\n",
            "[LightGBM] [Info] Number of data points in the train set: 22500, number of used features: 26\n",
            "[LightGBM] [Info] [binary:BoostFromScore]: pavg=0.238800 -> initscore=-1.159270\n",
            "[LightGBM] [Info] Start training from score -1.159270\n",
            "[LightGBM] [Warning] No further splits with positive gain, best gain: -inf\n",
            "[LightGBM] [Warning] No further splits with positive gain, best gain: -inf\n",
            "[LightGBM] [Warning] No further splits with positive gain, best gain: -inf\n",
            "[LightGBM] [Warning] No further splits with positive gain, best gain: -inf\n",
            "[LightGBM] [Warning] No further splits with positive gain, best gain: -inf\n",
            "[LightGBM] [Warning] No further splits with positive gain, best gain: -inf\n",
            "[LightGBM] [Warning] No further splits with positive gain, best gain: -inf\n",
            "[LightGBM] [Warning] No further splits with positive gain, best gain: -inf\n",
            "[LightGBM] [Warning] No further splits with positive gain, best gain: -inf\n",
            "[LightGBM] [Warning] No further splits with positive gain, best gain: -inf\n",
            "[LightGBM] [Warning] No further splits with positive gain, best gain: -inf\n",
            "[LightGBM] [Warning] No further splits with positive gain, best gain: -inf\n",
            "[LightGBM] [Warning] No further splits with positive gain, best gain: -inf\n",
            "[LightGBM] [Warning] No further splits with positive gain, best gain: -inf\n",
            "[LightGBM] [Warning] No further splits with positive gain, best gain: -inf\n",
            "[LightGBM] [Warning] No further splits with positive gain, best gain: -inf\n",
            "[LightGBM] [Warning] No further splits with positive gain, best gain: -inf\n",
            "[LightGBM] [Warning] No further splits with positive gain, best gain: -inf\n",
            "[LightGBM] [Warning] No further splits with positive gain, best gain: -inf\n",
            "[LightGBM] [Warning] No further splits with positive gain, best gain: -inf\n",
            "[LightGBM] [Warning] No further splits with positive gain, best gain: -inf\n",
            "[LightGBM] [Warning] No further splits with positive gain, best gain: -inf\n",
            "[LightGBM] [Warning] No further splits with positive gain, best gain: -inf\n",
            "[LightGBM] [Warning] No further splits with positive gain, best gain: -inf\n",
            "[LightGBM] [Warning] No further splits with positive gain, best gain: -inf\n",
            "[LightGBM] [Warning] No further splits with positive gain, best gain: -inf\n",
            "[LightGBM] [Warning] No further splits with positive gain, best gain: -inf\n",
            "[LightGBM] [Warning] No further splits with positive gain, best gain: -inf\n",
            "[LightGBM] [Warning] No further splits with positive gain, best gain: -inf\n",
            "[LightGBM] [Warning] No further splits with positive gain, best gain: -inf\n",
            "[LightGBM] [Warning] No further splits with positive gain, best gain: -inf\n",
            "[LightGBM] [Warning] No further splits with positive gain, best gain: -inf\n",
            "[LightGBM] [Warning] No further splits with positive gain, best gain: -inf\n",
            "[LightGBM] [Warning] Stopped training because there are no more leaves that meet the split requirements\n",
            "[LightGBM] [Warning] No further splits with positive gain, best gain: -inf\n",
            "[LightGBM] [Warning] Stopped training because there are no more leaves that meet the split requirements\n",
            "[LightGBM] [Warning] No further splits with positive gain, best gain: -inf\n",
            "[LightGBM] [Warning] Stopped training because there are no more leaves that meet the split requirements\n",
            "[LightGBM] [Warning] No further splits with positive gain, best gain: -inf\n",
            "[LightGBM] [Warning] Stopped training because there are no more leaves that meet the split requirements\n",
            "[LightGBM] [Warning] No further splits with positive gain, best gain: -inf\n",
            "[LightGBM] [Warning] Stopped training because there are no more leaves that meet the split requirements\n",
            "[LightGBM] [Warning] No further splits with positive gain, best gain: -inf\n",
            "[LightGBM] [Warning] Stopped training because there are no more leaves that meet the split requirements\n",
            "[LightGBM] [Warning] No further splits with positive gain, best gain: -inf\n",
            "[LightGBM] [Warning] Stopped training because there are no more leaves that meet the split requirements\n",
            "[LightGBM] [Warning] No further splits with positive gain, best gain: -inf\n",
            "[LightGBM] [Warning] Stopped training because there are no more leaves that meet the split requirements\n",
            "[LightGBM] [Warning] No further splits with positive gain, best gain: -inf\n",
            "[LightGBM] [Warning] Stopped training because there are no more leaves that meet the split requirements\n",
            "[LightGBM] [Warning] No further splits with positive gain, best gain: -inf\n",
            "[LightGBM] [Warning] Stopped training because there are no more leaves that meet the split requirements\n",
            "[LightGBM] [Warning] No further splits with positive gain, best gain: -inf\n",
            "[LightGBM] [Warning] Stopped training because there are no more leaves that meet the split requirements\n",
            "[LightGBM] [Warning] No further splits with positive gain, best gain: -inf\n",
            "[LightGBM] [Warning] Stopped training because there are no more leaves that meet the split requirements\n",
            "[LightGBM] [Warning] No further splits with positive gain, best gain: -inf\n",
            "[LightGBM] [Warning] Stopped training because there are no more leaves that meet the split requirements\n",
            "[LightGBM] [Warning] No further splits with positive gain, best gain: -inf\n",
            "[LightGBM] [Warning] Stopped training because there are no more leaves that meet the split requirements\n",
            "[LightGBM] [Warning] No further splits with positive gain, best gain: -inf\n",
            "[LightGBM] [Warning] Stopped training because there are no more leaves that meet the split requirements\n",
            "[LightGBM] [Warning] No further splits with positive gain, best gain: -inf\n",
            "[LightGBM] [Warning] Stopped training because there are no more leaves that meet the split requirements\n",
            "[LightGBM] [Warning] No further splits with positive gain, best gain: -inf\n",
            "[LightGBM] [Warning] Stopped training because there are no more leaves that meet the split requirements\n",
            "[LightGBM] [Warning] No further splits with positive gain, best gain: -inf\n",
            "[LightGBM] [Warning] Stopped training because there are no more leaves that meet the split requirements\n",
            "[LightGBM] [Warning] No further splits with positive gain, best gain: -inf\n",
            "[LightGBM] [Warning] Stopped training because there are no more leaves that meet the split requirements\n",
            "[LightGBM] [Warning] No further splits with positive gain, best gain: -inf\n",
            "[LightGBM] [Warning] Stopped training because there are no more leaves that meet the split requirements\n",
            "[LightGBM] [Warning] No further splits with positive gain, best gain: -inf\n",
            "[LightGBM] [Warning] Stopped training because there are no more leaves that meet the split requirements\n",
            "[LightGBM] [Warning] No further splits with positive gain, best gain: -inf\n",
            "[LightGBM] [Warning] Stopped training because there are no more leaves that meet the split requirements\n",
            "[LightGBM] [Warning] No further splits with positive gain, best gain: -inf\n",
            "[LightGBM] [Warning] Stopped training because there are no more leaves that meet the split requirements\n",
            "[LightGBM] [Warning] No further splits with positive gain, best gain: -inf\n",
            "[LightGBM] [Warning] Stopped training because there are no more leaves that meet the split requirements\n",
            "[LightGBM] [Warning] No further splits with positive gain, best gain: -inf\n",
            "[LightGBM] [Warning] Stopped training because there are no more leaves that meet the split requirements\n",
            "[LightGBM] [Warning] No further splits with positive gain, best gain: -inf\n",
            "[LightGBM] [Warning] Stopped training because there are no more leaves that meet the split requirements\n",
            "[LightGBM] [Warning] No further splits with positive gain, best gain: -inf\n",
            "[LightGBM] [Warning] Stopped training because there are no more leaves that meet the split requirements\n"
          ]
        },
        {
          "output_type": "execute_result",
          "data": {
            "text/plain": [
              "LGBMClassifier(learning_rate=0.4, max_depth=6, num_leaves=33, random_state=531,\n",
              "               reg_alpha=21, reg_lambda=1, scale_pos_weight=1.8)"
            ],
            "text/html": [
              "<style>#sk-container-id-2 {\n",
              "  /* Definition of color scheme common for light and dark mode */\n",
              "  --sklearn-color-text: #000;\n",
              "  --sklearn-color-text-muted: #666;\n",
              "  --sklearn-color-line: gray;\n",
              "  /* Definition of color scheme for unfitted estimators */\n",
              "  --sklearn-color-unfitted-level-0: #fff5e6;\n",
              "  --sklearn-color-unfitted-level-1: #f6e4d2;\n",
              "  --sklearn-color-unfitted-level-2: #ffe0b3;\n",
              "  --sklearn-color-unfitted-level-3: chocolate;\n",
              "  /* Definition of color scheme for fitted estimators */\n",
              "  --sklearn-color-fitted-level-0: #f0f8ff;\n",
              "  --sklearn-color-fitted-level-1: #d4ebff;\n",
              "  --sklearn-color-fitted-level-2: #b3dbfd;\n",
              "  --sklearn-color-fitted-level-3: cornflowerblue;\n",
              "\n",
              "  /* Specific color for light theme */\n",
              "  --sklearn-color-text-on-default-background: var(--sg-text-color, var(--theme-code-foreground, var(--jp-content-font-color1, black)));\n",
              "  --sklearn-color-background: var(--sg-background-color, var(--theme-background, var(--jp-layout-color0, white)));\n",
              "  --sklearn-color-border-box: var(--sg-text-color, var(--theme-code-foreground, var(--jp-content-font-color1, black)));\n",
              "  --sklearn-color-icon: #696969;\n",
              "\n",
              "  @media (prefers-color-scheme: dark) {\n",
              "    /* Redefinition of color scheme for dark theme */\n",
              "    --sklearn-color-text-on-default-background: var(--sg-text-color, var(--theme-code-foreground, var(--jp-content-font-color1, white)));\n",
              "    --sklearn-color-background: var(--sg-background-color, var(--theme-background, var(--jp-layout-color0, #111)));\n",
              "    --sklearn-color-border-box: var(--sg-text-color, var(--theme-code-foreground, var(--jp-content-font-color1, white)));\n",
              "    --sklearn-color-icon: #878787;\n",
              "  }\n",
              "}\n",
              "\n",
              "#sk-container-id-2 {\n",
              "  color: var(--sklearn-color-text);\n",
              "}\n",
              "\n",
              "#sk-container-id-2 pre {\n",
              "  padding: 0;\n",
              "}\n",
              "\n",
              "#sk-container-id-2 input.sk-hidden--visually {\n",
              "  border: 0;\n",
              "  clip: rect(1px 1px 1px 1px);\n",
              "  clip: rect(1px, 1px, 1px, 1px);\n",
              "  height: 1px;\n",
              "  margin: -1px;\n",
              "  overflow: hidden;\n",
              "  padding: 0;\n",
              "  position: absolute;\n",
              "  width: 1px;\n",
              "}\n",
              "\n",
              "#sk-container-id-2 div.sk-dashed-wrapped {\n",
              "  border: 1px dashed var(--sklearn-color-line);\n",
              "  margin: 0 0.4em 0.5em 0.4em;\n",
              "  box-sizing: border-box;\n",
              "  padding-bottom: 0.4em;\n",
              "  background-color: var(--sklearn-color-background);\n",
              "}\n",
              "\n",
              "#sk-container-id-2 div.sk-container {\n",
              "  /* jupyter's `normalize.less` sets `[hidden] { display: none; }`\n",
              "     but bootstrap.min.css set `[hidden] { display: none !important; }`\n",
              "     so we also need the `!important` here to be able to override the\n",
              "     default hidden behavior on the sphinx rendered scikit-learn.org.\n",
              "     See: https://github.com/scikit-learn/scikit-learn/issues/21755 */\n",
              "  display: inline-block !important;\n",
              "  position: relative;\n",
              "}\n",
              "\n",
              "#sk-container-id-2 div.sk-text-repr-fallback {\n",
              "  display: none;\n",
              "}\n",
              "\n",
              "div.sk-parallel-item,\n",
              "div.sk-serial,\n",
              "div.sk-item {\n",
              "  /* draw centered vertical line to link estimators */\n",
              "  background-image: linear-gradient(var(--sklearn-color-text-on-default-background), var(--sklearn-color-text-on-default-background));\n",
              "  background-size: 2px 100%;\n",
              "  background-repeat: no-repeat;\n",
              "  background-position: center center;\n",
              "}\n",
              "\n",
              "/* Parallel-specific style estimator block */\n",
              "\n",
              "#sk-container-id-2 div.sk-parallel-item::after {\n",
              "  content: \"\";\n",
              "  width: 100%;\n",
              "  border-bottom: 2px solid var(--sklearn-color-text-on-default-background);\n",
              "  flex-grow: 1;\n",
              "}\n",
              "\n",
              "#sk-container-id-2 div.sk-parallel {\n",
              "  display: flex;\n",
              "  align-items: stretch;\n",
              "  justify-content: center;\n",
              "  background-color: var(--sklearn-color-background);\n",
              "  position: relative;\n",
              "}\n",
              "\n",
              "#sk-container-id-2 div.sk-parallel-item {\n",
              "  display: flex;\n",
              "  flex-direction: column;\n",
              "}\n",
              "\n",
              "#sk-container-id-2 div.sk-parallel-item:first-child::after {\n",
              "  align-self: flex-end;\n",
              "  width: 50%;\n",
              "}\n",
              "\n",
              "#sk-container-id-2 div.sk-parallel-item:last-child::after {\n",
              "  align-self: flex-start;\n",
              "  width: 50%;\n",
              "}\n",
              "\n",
              "#sk-container-id-2 div.sk-parallel-item:only-child::after {\n",
              "  width: 0;\n",
              "}\n",
              "\n",
              "/* Serial-specific style estimator block */\n",
              "\n",
              "#sk-container-id-2 div.sk-serial {\n",
              "  display: flex;\n",
              "  flex-direction: column;\n",
              "  align-items: center;\n",
              "  background-color: var(--sklearn-color-background);\n",
              "  padding-right: 1em;\n",
              "  padding-left: 1em;\n",
              "}\n",
              "\n",
              "\n",
              "/* Toggleable style: style used for estimator/Pipeline/ColumnTransformer box that is\n",
              "clickable and can be expanded/collapsed.\n",
              "- Pipeline and ColumnTransformer use this feature and define the default style\n",
              "- Estimators will overwrite some part of the style using the `sk-estimator` class\n",
              "*/\n",
              "\n",
              "/* Pipeline and ColumnTransformer style (default) */\n",
              "\n",
              "#sk-container-id-2 div.sk-toggleable {\n",
              "  /* Default theme specific background. It is overwritten whether we have a\n",
              "  specific estimator or a Pipeline/ColumnTransformer */\n",
              "  background-color: var(--sklearn-color-background);\n",
              "}\n",
              "\n",
              "/* Toggleable label */\n",
              "#sk-container-id-2 label.sk-toggleable__label {\n",
              "  cursor: pointer;\n",
              "  display: flex;\n",
              "  width: 100%;\n",
              "  margin-bottom: 0;\n",
              "  padding: 0.5em;\n",
              "  box-sizing: border-box;\n",
              "  text-align: center;\n",
              "  align-items: start;\n",
              "  justify-content: space-between;\n",
              "  gap: 0.5em;\n",
              "}\n",
              "\n",
              "#sk-container-id-2 label.sk-toggleable__label .caption {\n",
              "  font-size: 0.6rem;\n",
              "  font-weight: lighter;\n",
              "  color: var(--sklearn-color-text-muted);\n",
              "}\n",
              "\n",
              "#sk-container-id-2 label.sk-toggleable__label-arrow:before {\n",
              "  /* Arrow on the left of the label */\n",
              "  content: \"▸\";\n",
              "  float: left;\n",
              "  margin-right: 0.25em;\n",
              "  color: var(--sklearn-color-icon);\n",
              "}\n",
              "\n",
              "#sk-container-id-2 label.sk-toggleable__label-arrow:hover:before {\n",
              "  color: var(--sklearn-color-text);\n",
              "}\n",
              "\n",
              "/* Toggleable content - dropdown */\n",
              "\n",
              "#sk-container-id-2 div.sk-toggleable__content {\n",
              "  max-height: 0;\n",
              "  max-width: 0;\n",
              "  overflow: hidden;\n",
              "  text-align: left;\n",
              "  /* unfitted */\n",
              "  background-color: var(--sklearn-color-unfitted-level-0);\n",
              "}\n",
              "\n",
              "#sk-container-id-2 div.sk-toggleable__content.fitted {\n",
              "  /* fitted */\n",
              "  background-color: var(--sklearn-color-fitted-level-0);\n",
              "}\n",
              "\n",
              "#sk-container-id-2 div.sk-toggleable__content pre {\n",
              "  margin: 0.2em;\n",
              "  border-radius: 0.25em;\n",
              "  color: var(--sklearn-color-text);\n",
              "  /* unfitted */\n",
              "  background-color: var(--sklearn-color-unfitted-level-0);\n",
              "}\n",
              "\n",
              "#sk-container-id-2 div.sk-toggleable__content.fitted pre {\n",
              "  /* unfitted */\n",
              "  background-color: var(--sklearn-color-fitted-level-0);\n",
              "}\n",
              "\n",
              "#sk-container-id-2 input.sk-toggleable__control:checked~div.sk-toggleable__content {\n",
              "  /* Expand drop-down */\n",
              "  max-height: 200px;\n",
              "  max-width: 100%;\n",
              "  overflow: auto;\n",
              "}\n",
              "\n",
              "#sk-container-id-2 input.sk-toggleable__control:checked~label.sk-toggleable__label-arrow:before {\n",
              "  content: \"▾\";\n",
              "}\n",
              "\n",
              "/* Pipeline/ColumnTransformer-specific style */\n",
              "\n",
              "#sk-container-id-2 div.sk-label input.sk-toggleable__control:checked~label.sk-toggleable__label {\n",
              "  color: var(--sklearn-color-text);\n",
              "  background-color: var(--sklearn-color-unfitted-level-2);\n",
              "}\n",
              "\n",
              "#sk-container-id-2 div.sk-label.fitted input.sk-toggleable__control:checked~label.sk-toggleable__label {\n",
              "  background-color: var(--sklearn-color-fitted-level-2);\n",
              "}\n",
              "\n",
              "/* Estimator-specific style */\n",
              "\n",
              "/* Colorize estimator box */\n",
              "#sk-container-id-2 div.sk-estimator input.sk-toggleable__control:checked~label.sk-toggleable__label {\n",
              "  /* unfitted */\n",
              "  background-color: var(--sklearn-color-unfitted-level-2);\n",
              "}\n",
              "\n",
              "#sk-container-id-2 div.sk-estimator.fitted input.sk-toggleable__control:checked~label.sk-toggleable__label {\n",
              "  /* fitted */\n",
              "  background-color: var(--sklearn-color-fitted-level-2);\n",
              "}\n",
              "\n",
              "#sk-container-id-2 div.sk-label label.sk-toggleable__label,\n",
              "#sk-container-id-2 div.sk-label label {\n",
              "  /* The background is the default theme color */\n",
              "  color: var(--sklearn-color-text-on-default-background);\n",
              "}\n",
              "\n",
              "/* On hover, darken the color of the background */\n",
              "#sk-container-id-2 div.sk-label:hover label.sk-toggleable__label {\n",
              "  color: var(--sklearn-color-text);\n",
              "  background-color: var(--sklearn-color-unfitted-level-2);\n",
              "}\n",
              "\n",
              "/* Label box, darken color on hover, fitted */\n",
              "#sk-container-id-2 div.sk-label.fitted:hover label.sk-toggleable__label.fitted {\n",
              "  color: var(--sklearn-color-text);\n",
              "  background-color: var(--sklearn-color-fitted-level-2);\n",
              "}\n",
              "\n",
              "/* Estimator label */\n",
              "\n",
              "#sk-container-id-2 div.sk-label label {\n",
              "  font-family: monospace;\n",
              "  font-weight: bold;\n",
              "  display: inline-block;\n",
              "  line-height: 1.2em;\n",
              "}\n",
              "\n",
              "#sk-container-id-2 div.sk-label-container {\n",
              "  text-align: center;\n",
              "}\n",
              "\n",
              "/* Estimator-specific */\n",
              "#sk-container-id-2 div.sk-estimator {\n",
              "  font-family: monospace;\n",
              "  border: 1px dotted var(--sklearn-color-border-box);\n",
              "  border-radius: 0.25em;\n",
              "  box-sizing: border-box;\n",
              "  margin-bottom: 0.5em;\n",
              "  /* unfitted */\n",
              "  background-color: var(--sklearn-color-unfitted-level-0);\n",
              "}\n",
              "\n",
              "#sk-container-id-2 div.sk-estimator.fitted {\n",
              "  /* fitted */\n",
              "  background-color: var(--sklearn-color-fitted-level-0);\n",
              "}\n",
              "\n",
              "/* on hover */\n",
              "#sk-container-id-2 div.sk-estimator:hover {\n",
              "  /* unfitted */\n",
              "  background-color: var(--sklearn-color-unfitted-level-2);\n",
              "}\n",
              "\n",
              "#sk-container-id-2 div.sk-estimator.fitted:hover {\n",
              "  /* fitted */\n",
              "  background-color: var(--sklearn-color-fitted-level-2);\n",
              "}\n",
              "\n",
              "/* Specification for estimator info (e.g. \"i\" and \"?\") */\n",
              "\n",
              "/* Common style for \"i\" and \"?\" */\n",
              "\n",
              ".sk-estimator-doc-link,\n",
              "a:link.sk-estimator-doc-link,\n",
              "a:visited.sk-estimator-doc-link {\n",
              "  float: right;\n",
              "  font-size: smaller;\n",
              "  line-height: 1em;\n",
              "  font-family: monospace;\n",
              "  background-color: var(--sklearn-color-background);\n",
              "  border-radius: 1em;\n",
              "  height: 1em;\n",
              "  width: 1em;\n",
              "  text-decoration: none !important;\n",
              "  margin-left: 0.5em;\n",
              "  text-align: center;\n",
              "  /* unfitted */\n",
              "  border: var(--sklearn-color-unfitted-level-1) 1pt solid;\n",
              "  color: var(--sklearn-color-unfitted-level-1);\n",
              "}\n",
              "\n",
              ".sk-estimator-doc-link.fitted,\n",
              "a:link.sk-estimator-doc-link.fitted,\n",
              "a:visited.sk-estimator-doc-link.fitted {\n",
              "  /* fitted */\n",
              "  border: var(--sklearn-color-fitted-level-1) 1pt solid;\n",
              "  color: var(--sklearn-color-fitted-level-1);\n",
              "}\n",
              "\n",
              "/* On hover */\n",
              "div.sk-estimator:hover .sk-estimator-doc-link:hover,\n",
              ".sk-estimator-doc-link:hover,\n",
              "div.sk-label-container:hover .sk-estimator-doc-link:hover,\n",
              ".sk-estimator-doc-link:hover {\n",
              "  /* unfitted */\n",
              "  background-color: var(--sklearn-color-unfitted-level-3);\n",
              "  color: var(--sklearn-color-background);\n",
              "  text-decoration: none;\n",
              "}\n",
              "\n",
              "div.sk-estimator.fitted:hover .sk-estimator-doc-link.fitted:hover,\n",
              ".sk-estimator-doc-link.fitted:hover,\n",
              "div.sk-label-container:hover .sk-estimator-doc-link.fitted:hover,\n",
              ".sk-estimator-doc-link.fitted:hover {\n",
              "  /* fitted */\n",
              "  background-color: var(--sklearn-color-fitted-level-3);\n",
              "  color: var(--sklearn-color-background);\n",
              "  text-decoration: none;\n",
              "}\n",
              "\n",
              "/* Span, style for the box shown on hovering the info icon */\n",
              ".sk-estimator-doc-link span {\n",
              "  display: none;\n",
              "  z-index: 9999;\n",
              "  position: relative;\n",
              "  font-weight: normal;\n",
              "  right: .2ex;\n",
              "  padding: .5ex;\n",
              "  margin: .5ex;\n",
              "  width: min-content;\n",
              "  min-width: 20ex;\n",
              "  max-width: 50ex;\n",
              "  color: var(--sklearn-color-text);\n",
              "  box-shadow: 2pt 2pt 4pt #999;\n",
              "  /* unfitted */\n",
              "  background: var(--sklearn-color-unfitted-level-0);\n",
              "  border: .5pt solid var(--sklearn-color-unfitted-level-3);\n",
              "}\n",
              "\n",
              ".sk-estimator-doc-link.fitted span {\n",
              "  /* fitted */\n",
              "  background: var(--sklearn-color-fitted-level-0);\n",
              "  border: var(--sklearn-color-fitted-level-3);\n",
              "}\n",
              "\n",
              ".sk-estimator-doc-link:hover span {\n",
              "  display: block;\n",
              "}\n",
              "\n",
              "/* \"?\"-specific style due to the `<a>` HTML tag */\n",
              "\n",
              "#sk-container-id-2 a.estimator_doc_link {\n",
              "  float: right;\n",
              "  font-size: 1rem;\n",
              "  line-height: 1em;\n",
              "  font-family: monospace;\n",
              "  background-color: var(--sklearn-color-background);\n",
              "  border-radius: 1rem;\n",
              "  height: 1rem;\n",
              "  width: 1rem;\n",
              "  text-decoration: none;\n",
              "  /* unfitted */\n",
              "  color: var(--sklearn-color-unfitted-level-1);\n",
              "  border: var(--sklearn-color-unfitted-level-1) 1pt solid;\n",
              "}\n",
              "\n",
              "#sk-container-id-2 a.estimator_doc_link.fitted {\n",
              "  /* fitted */\n",
              "  border: var(--sklearn-color-fitted-level-1) 1pt solid;\n",
              "  color: var(--sklearn-color-fitted-level-1);\n",
              "}\n",
              "\n",
              "/* On hover */\n",
              "#sk-container-id-2 a.estimator_doc_link:hover {\n",
              "  /* unfitted */\n",
              "  background-color: var(--sklearn-color-unfitted-level-3);\n",
              "  color: var(--sklearn-color-background);\n",
              "  text-decoration: none;\n",
              "}\n",
              "\n",
              "#sk-container-id-2 a.estimator_doc_link.fitted:hover {\n",
              "  /* fitted */\n",
              "  background-color: var(--sklearn-color-fitted-level-3);\n",
              "}\n",
              "</style><div id=\"sk-container-id-2\" class=\"sk-top-container\"><div class=\"sk-text-repr-fallback\"><pre>LGBMClassifier(learning_rate=0.4, max_depth=6, num_leaves=33, random_state=531,\n",
              "               reg_alpha=21, reg_lambda=1, scale_pos_weight=1.8)</pre><b>In a Jupyter environment, please rerun this cell to show the HTML representation or trust the notebook. <br />On GitHub, the HTML representation is unable to render, please try loading this page with nbviewer.org.</b></div><div class=\"sk-container\" hidden><div class=\"sk-item\"><div class=\"sk-estimator fitted sk-toggleable\"><input class=\"sk-toggleable__control sk-hidden--visually\" id=\"sk-estimator-id-2\" type=\"checkbox\" checked><label for=\"sk-estimator-id-2\" class=\"sk-toggleable__label fitted sk-toggleable__label-arrow\"><div><div>LGBMClassifier</div></div><div><span class=\"sk-estimator-doc-link fitted\">i<span>Fitted</span></span></div></label><div class=\"sk-toggleable__content fitted\"><pre>LGBMClassifier(learning_rate=0.4, max_depth=6, num_leaves=33, random_state=531,\n",
              "               reg_alpha=21, reg_lambda=1, scale_pos_weight=1.8)</pre></div> </div></div></div></div>"
            ]
          },
          "metadata": {},
          "execution_count": 23
        }
      ],
      "source": [
        "# train LightGbM\n",
        "lgb_rw_model = LGBMClassifier(\n",
        "    random_state=531,\n",
        "    max_depth=6,\n",
        "    num_leaves=33,\n",
        "    **lgb_params\n",
        ")\n",
        "\n",
        "# use reweighted dataset's instance weights\n",
        "lgb_rw_model.fit(\n",
        "    X_train,\n",
        "    y_train,\n",
        "    sample_weight=train_rw_ds.instance_weights\n",
        ")\n",
        "\n"
      ]
    },
    {
      "cell_type": "code",
      "execution_count": 24,
      "id": "442639a2-e42e-4d38-844f-43800646e77a",
      "metadata": {
        "id": "442639a2-e42e-4d38-844f-43800646e77a",
        "outputId": "14410cad-cca0-4220-d7f6-0f9a14d9bfbc",
        "colab": {
          "base_uri": "https://localhost:8080/"
        }
      },
      "outputs": [
        {
          "output_type": "stream",
          "name": "stdout",
          "text": [
            "\n",
            "Performance Metrics for Reweighted Model:\n",
            "Accuracy (Test): 0.8057\n",
            "Precision (Test): 0.6140\n",
            "Recall (Test): 0.5360\n",
            "F1-Score (Test): 0.5724\n",
            "ROC-AUC (Test): 0.7908\n"
          ]
        }
      ],
      "source": [
        "# evaluate performance metrics\n",
        "y_pred_test_rw = lgb_rw_model.predict(X_test)\n",
        "y_pred_prob_test_rw = lgb_rw_model.predict_proba(X_test)[:, 1]\n",
        "\n",
        "# Compute performance metrics\n",
        "accuracy_rw = accuracy_score(y_test, y_pred_test_rw)\n",
        "precision_rw = precision_score(y_test, y_pred_test_rw)\n",
        "recall_rw = recall_score(y_test, y_pred_test_rw)\n",
        "f1_rw = f1_score(y_test, y_pred_test_rw)\n",
        "roc_auc_rw = roc_auc_score(y_test, y_pred_prob_test_rw)\n",
        "\n",
        "# display\n",
        "print(\"\\nPerformance Metrics for Reweighted Model:\")\n",
        "print(f\"Accuracy (Test): {accuracy_rw:.4f}\")\n",
        "print(f\"Precision (Test): {precision_rw:.4f}\")\n",
        "print(f\"Recall (Test): {recall_rw:.4f}\")\n",
        "print(f\"F1-Score (Test): {f1_rw:.4f}\")\n",
        "print(f\"ROC-AUC (Test): {roc_auc_rw:.4f}\")"
      ]
    },
    {
      "cell_type": "code",
      "execution_count": 25,
      "id": "b9f14be3-b918-45b3-9dd3-2d932a10765e",
      "metadata": {
        "id": "b9f14be3-b918-45b3-9dd3-2d932a10765e",
        "outputId": "c0706cbd-e976-4814-c1bb-c4976c312034",
        "colab": {
          "base_uri": "https://localhost:8080/"
        }
      },
      "outputs": [
        {
          "output_type": "stream",
          "name": "stdout",
          "text": [
            "\n",
            "Fairness Metrics for Reweighted Model on Test Data:\n",
            "Statistical Parity Difference (SPD): -0.0541\n",
            "Disparate Impact (DI): 0.9326\n",
            "Equal Opportunity Difference (EOD): 0.0318\n",
            "Average Odds Difference (AOD): -0.0133\n",
            "Differential Fairness Bias Amplification (DFBA): 0.1209\n"
          ]
        }
      ],
      "source": [
        "# compute fairness metrics & add predictions/scores to test ds\n",
        "test_pred_rw_ds = test_ds.copy(deepcopy=True)\n",
        "test_pred_rw_ds.labels = y_pred_test_rw.reshape(-1, 1)\n",
        "test_pred_rw_ds.scores = y_pred_prob_test_rw.reshape(-1, 1)\n",
        "\n",
        "# fairness metrics for the reweighted model\n",
        "metrics_test_rw_cls = ClassificationMetric(\n",
        "    test_ds,\n",
        "    test_pred_rw_ds,\n",
        "    unprivileged_groups=unprivileged_groups,\n",
        "    privileged_groups=privileged_groups\n",
        ")\n",
        "\n",
        "# print\n",
        "print(\"\\nFairness Metrics for Reweighted Model on Test Data:\")\n",
        "print(f\"Statistical Parity Difference (SPD): {metrics_test_rw_cls.statistical_parity_difference():.4f}\")\n",
        "print(f\"Disparate Impact (DI): {metrics_test_rw_cls.disparate_impact():.4f}\")\n",
        "print(f\"Equal Opportunity Difference (EOD): {metrics_test_rw_cls.equal_opportunity_difference():.4f}\")\n",
        "print(f\"Average Odds Difference (AOD): {metrics_test_rw_cls.average_odds_difference():.4f}\")\n",
        "print(f\"Differential Fairness Bias Amplification (DFBA): {metrics_test_rw_cls.differential_fairness_bias_amplification():.4f}\")"
      ]
    },
    {
      "cell_type": "code",
      "execution_count": 26,
      "id": "be2e312c-9e9d-41b3-a244-6caa10a8e1a6",
      "metadata": {
        "id": "be2e312c-9e9d-41b3-a244-6caa10a8e1a6",
        "outputId": "e1fa06e9-4c37-479b-a1b6-625dc9acc72b",
        "colab": {
          "base_uri": "https://localhost:8080/"
        }
      },
      "outputs": [
        {
          "output_type": "stream",
          "name": "stdout",
          "text": [
            "\n",
            "Comparison of Original and Reweighted Models:\n",
            "\n",
            "Performance Metrics:\n",
            "Original Model Accuracy: 0.8176 | Reweighted Model Accuracy: 0.8057\n",
            "Original Model Precision: 0.6488 | Reweighted Model Precision: 0.6140\n",
            "Original Model Recall: 0.5404 | Reweighted Model Recall: 0.5360\n",
            "Original Model F1-Score: 0.5897 | Reweighted Model F1-Score: 0.5724\n",
            "Original Model ROC-AUC: 0.7991 | Reweighted Model ROC-AUC: 0.7908\n",
            "\n",
            "Fairness Metrics:\n",
            "Original SPD: -0.1385 | Reweighted SPD: -0.0541\n",
            "Original DI: 0.8339 | Reweighted DI: 0.9326\n",
            "Original SEDF: 0.9115 | Reweighted SEDF: 0.7310\n"
          ]
        }
      ],
      "source": [
        "# comparing results\n",
        "print(\"\\nComparison of Original and Reweighted Models:\")\n",
        "print(\"\\nPerformance Metrics:\")\n",
        "print(f\"Original Model Accuracy: {accuracy:.4f} | Reweighted Model Accuracy: {accuracy_rw:.4f}\")\n",
        "print(f\"Original Model Precision: {precision:.4f} | Reweighted Model Precision: {precision_rw:.4f}\")\n",
        "print(f\"Original Model Recall: {recall:.4f} | Reweighted Model Recall: {recall_rw:.4f}\")\n",
        "print(f\"Original Model F1-Score: {f1:.4f} | Reweighted Model F1-Score: {f1_rw:.4f}\")\n",
        "print(f\"Original Model ROC-AUC: {roc_auc:.4f} | Reweighted Model ROC-AUC: {roc_auc_rw:.4f}\")\n",
        "\n",
        "print(\"\\nFairness Metrics:\")\n",
        "print(f\"Original SPD: {metrics_test_cls.statistical_parity_difference():.4f} | Reweighted SPD: {metrics_test_rw_cls.statistical_parity_difference():.4f}\")\n",
        "print(f\"Original DI: {metrics_test_cls.disparate_impact():.4f} | Reweighted DI: {metrics_test_rw_cls.disparate_impact():.4f}\")\n",
        "print(f\"Original SEDF: {metrics_test_cls.smoothed_empirical_differential_fairness():.4f} | Reweighted SEDF: {metrics_train_rw_ds.smoothed_empirical_differential_fairness():.4f}\")"
      ]
    },
    {
      "cell_type": "markdown",
      "id": "e21d04f3-f1c7-4b06-98f1-a0c5f6e8e084",
      "metadata": {
        "id": "e21d04f3-f1c7-4b06-98f1-a0c5f6e8e084"
      },
      "source": [
        "## Disparate Impact Remover (DIR)"
      ]
    },
    {
      "cell_type": "markdown",
      "id": "ec8a7fba-b901-4666-b467-b3f370a14f27",
      "metadata": {
        "id": "ec8a7fba-b901-4666-b467-b3f370a14f27"
      },
      "source": [
        "The main goal of the DIR is to remove or reduce the disparate impact (unfair treatment) that arises due to sensitive or protected attributes (i.e. age, gender). This is done by \"repairing\" the data so that the values of the sensitive attribute(s) have minimal influence on the non-sensitive attributes while maintaining the relationship with the target variable.\n",
        "\n",
        "The repair level ranges from 0 to 1.\n",
        "- Repair Level = 0: No modification to the dataset, the data remains unchanged.\n",
        "- Repair Level = 1: The sensitive attribute is completely removed, and the features are \"repaired\" to have no correlation with the sensitive attribute.\n",
        "- Intermediate Levels (i.e. 0.5) balance between preserving data utility and reducing disparate impact."
      ]
    },
    {
      "cell_type": "markdown",
      "id": "889f4c8d-1b92-427f-9444-0cfd504ef477",
      "metadata": {
        "id": "889f4c8d-1b92-427f-9444-0cfd504ef477"
      },
      "source": [
        "<b>Benefits:</b>Removes bias before training the model, so it can be applied before any ML model and ensures that modified features are less correlated with sensitive attributes, leading to fairer predictions.\n",
        "\n",
        "<b>Limitations:</b>Reducing the influence of sensitive attributes might reduce the predictive performance of the model. Also, DIR requires a balance in the repair level to avoid overcorrection which could potentially remove useful information."
      ]
    },
    {
      "cell_type": "code",
      "source": [
        "#!pip install aif360\n",
        "!pip install BlackBoxAuditing\n",
        "!pip install --upgrade aif360 lightgbm\n"
      ],
      "metadata": {
        "colab": {
          "base_uri": "https://localhost:8080/"
        },
        "id": "jYwwhDqYCRjm",
        "outputId": "794e1086-da04-436e-bec7-2984f15f15fd"
      },
      "id": "jYwwhDqYCRjm",
      "execution_count": 27,
      "outputs": [
        {
          "output_type": "stream",
          "name": "stdout",
          "text": [
            "Requirement already satisfied: BlackBoxAuditing in /usr/local/lib/python3.11/dist-packages (0.1.54)\n",
            "Requirement already satisfied: networkx in /usr/local/lib/python3.11/dist-packages (from BlackBoxAuditing) (3.4.2)\n",
            "Requirement already satisfied: matplotlib in /usr/local/lib/python3.11/dist-packages (from BlackBoxAuditing) (3.10.0)\n",
            "Requirement already satisfied: pandas in /usr/local/lib/python3.11/dist-packages (from BlackBoxAuditing) (2.2.2)\n",
            "Requirement already satisfied: numpy in /usr/local/lib/python3.11/dist-packages (from BlackBoxAuditing) (1.26.4)\n",
            "Requirement already satisfied: contourpy>=1.0.1 in /usr/local/lib/python3.11/dist-packages (from matplotlib->BlackBoxAuditing) (1.3.1)\n",
            "Requirement already satisfied: cycler>=0.10 in /usr/local/lib/python3.11/dist-packages (from matplotlib->BlackBoxAuditing) (0.12.1)\n",
            "Requirement already satisfied: fonttools>=4.22.0 in /usr/local/lib/python3.11/dist-packages (from matplotlib->BlackBoxAuditing) (4.56.0)\n",
            "Requirement already satisfied: kiwisolver>=1.3.1 in /usr/local/lib/python3.11/dist-packages (from matplotlib->BlackBoxAuditing) (1.4.8)\n",
            "Requirement already satisfied: packaging>=20.0 in /usr/local/lib/python3.11/dist-packages (from matplotlib->BlackBoxAuditing) (24.2)\n",
            "Requirement already satisfied: pillow>=8 in /usr/local/lib/python3.11/dist-packages (from matplotlib->BlackBoxAuditing) (11.1.0)\n",
            "Requirement already satisfied: pyparsing>=2.3.1 in /usr/local/lib/python3.11/dist-packages (from matplotlib->BlackBoxAuditing) (3.2.1)\n",
            "Requirement already satisfied: python-dateutil>=2.7 in /usr/local/lib/python3.11/dist-packages (from matplotlib->BlackBoxAuditing) (2.8.2)\n",
            "Requirement already satisfied: pytz>=2020.1 in /usr/local/lib/python3.11/dist-packages (from pandas->BlackBoxAuditing) (2025.1)\n",
            "Requirement already satisfied: tzdata>=2022.7 in /usr/local/lib/python3.11/dist-packages (from pandas->BlackBoxAuditing) (2025.1)\n",
            "Requirement already satisfied: six>=1.5 in /usr/local/lib/python3.11/dist-packages (from python-dateutil>=2.7->matplotlib->BlackBoxAuditing) (1.17.0)\n",
            "Requirement already satisfied: aif360 in /usr/local/lib/python3.11/dist-packages (0.6.1)\n",
            "Requirement already satisfied: lightgbm in /usr/local/lib/python3.11/dist-packages (4.6.0)\n",
            "Requirement already satisfied: numpy>=1.16 in /usr/local/lib/python3.11/dist-packages (from aif360) (1.26.4)\n",
            "Requirement already satisfied: scipy>=1.2.0 in /usr/local/lib/python3.11/dist-packages (from aif360) (1.14.1)\n",
            "Requirement already satisfied: pandas>=0.24.0 in /usr/local/lib/python3.11/dist-packages (from aif360) (2.2.2)\n",
            "Requirement already satisfied: scikit-learn>=1.0 in /usr/local/lib/python3.11/dist-packages (from aif360) (1.6.1)\n",
            "Requirement already satisfied: matplotlib in /usr/local/lib/python3.11/dist-packages (from aif360) (3.10.0)\n",
            "Requirement already satisfied: python-dateutil>=2.8.2 in /usr/local/lib/python3.11/dist-packages (from pandas>=0.24.0->aif360) (2.8.2)\n",
            "Requirement already satisfied: pytz>=2020.1 in /usr/local/lib/python3.11/dist-packages (from pandas>=0.24.0->aif360) (2025.1)\n",
            "Requirement already satisfied: tzdata>=2022.7 in /usr/local/lib/python3.11/dist-packages (from pandas>=0.24.0->aif360) (2025.1)\n",
            "Requirement already satisfied: joblib>=1.2.0 in /usr/local/lib/python3.11/dist-packages (from scikit-learn>=1.0->aif360) (1.4.2)\n",
            "Requirement already satisfied: threadpoolctl>=3.1.0 in /usr/local/lib/python3.11/dist-packages (from scikit-learn>=1.0->aif360) (3.5.0)\n",
            "Requirement already satisfied: contourpy>=1.0.1 in /usr/local/lib/python3.11/dist-packages (from matplotlib->aif360) (1.3.1)\n",
            "Requirement already satisfied: cycler>=0.10 in /usr/local/lib/python3.11/dist-packages (from matplotlib->aif360) (0.12.1)\n",
            "Requirement already satisfied: fonttools>=4.22.0 in /usr/local/lib/python3.11/dist-packages (from matplotlib->aif360) (4.56.0)\n",
            "Requirement already satisfied: kiwisolver>=1.3.1 in /usr/local/lib/python3.11/dist-packages (from matplotlib->aif360) (1.4.8)\n",
            "Requirement already satisfied: packaging>=20.0 in /usr/local/lib/python3.11/dist-packages (from matplotlib->aif360) (24.2)\n",
            "Requirement already satisfied: pillow>=8 in /usr/local/lib/python3.11/dist-packages (from matplotlib->aif360) (11.1.0)\n",
            "Requirement already satisfied: pyparsing>=2.3.1 in /usr/local/lib/python3.11/dist-packages (from matplotlib->aif360) (3.2.1)\n",
            "Requirement already satisfied: six>=1.5 in /usr/local/lib/python3.11/dist-packages (from python-dateutil>=2.8.2->pandas>=0.24.0->aif360) (1.17.0)\n"
          ]
        }
      ]
    },
    {
      "cell_type": "code",
      "execution_count": 28,
      "id": "22e441bd-81ae-40d0-8f44-6237582cd482",
      "metadata": {
        "id": "22e441bd-81ae-40d0-8f44-6237582cd482"
      },
      "outputs": [],
      "source": [
        "# define the levels for repair\n",
        "levels = np.hstack([np.linspace(0., 0.1, 41), np.linspace(0.2, 1, 9)])\n",
        "protected_index = train_ds.feature_names.index(\"Age_Group\")\n",
        "\n",
        "# initialize variables to track the best repair level\n",
        "di = np.array([])  # Collect Disparate Impact for all levels\n",
        "train_dir_ds = None\n",
        "test_dir_ds = None\n",
        "X_train_dir = None\n",
        "X_test_dir = None\n",
        "lgb_dir_model = None"
      ]
    },
    {
      "cell_type": "code",
      "execution_count": 29,
      "id": "b801a996-e9c1-4cf7-9a7f-a9e975c49ea9",
      "metadata": {
        "id": "b801a996-e9c1-4cf7-9a7f-a9e975c49ea9",
        "outputId": "37a4a431-4ac5-4008-8dcd-e87f6e6c9ef9",
        "colab": {
          "base_uri": "https://localhost:8080/"
        }
      },
      "outputs": [
        {
          "metadata": {
            "tags": null
          },
          "name": "stderr",
          "output_type": "stream",
          "text": [
            "  2%|▏         | 1/50 [00:20<16:49, 20.59s/it]"
          ]
        },
        {
          "metadata": {
            "tags": null
          },
          "name": "stdout",
          "output_type": "stream",
          "text": [
            "Repair Level: 0.00, Disparate Impact: 0.8350\n"
          ]
        },
        {
          "metadata": {
            "tags": null
          },
          "name": "stderr",
          "output_type": "stream",
          "text": [
            "\r  4%|▍         | 2/50 [00:36<14:28, 18.09s/it]"
          ]
        },
        {
          "metadata": {
            "tags": null
          },
          "name": "stdout",
          "output_type": "stream",
          "text": [
            "Repair Level: 0.00, Disparate Impact: 0.8464\n"
          ]
        },
        {
          "metadata": {
            "tags": null
          },
          "name": "stderr",
          "output_type": "stream",
          "text": [
            "\r  6%|▌         | 3/50 [00:44<10:24, 13.29s/it]"
          ]
        },
        {
          "metadata": {
            "tags": null
          },
          "name": "stdout",
          "output_type": "stream",
          "text": [
            "Repair Level: 0.01, Disparate Impact: 0.8401\n"
          ]
        },
        {
          "metadata": {
            "tags": null
          },
          "name": "stderr",
          "output_type": "stream",
          "text": [
            "\r  8%|▊         | 4/50 [00:54<09:04, 11.84s/it]"
          ]
        },
        {
          "metadata": {
            "tags": null
          },
          "name": "stdout",
          "output_type": "stream",
          "text": [
            "Repair Level: 0.01, Disparate Impact: 0.8405\n"
          ]
        },
        {
          "metadata": {
            "tags": null
          },
          "name": "stderr",
          "output_type": "stream",
          "text": [
            "\r 10%|█         | 5/50 [01:02<08:00, 10.67s/it]"
          ]
        },
        {
          "metadata": {
            "tags": null
          },
          "name": "stdout",
          "output_type": "stream",
          "text": [
            "Repair Level: 0.01, Disparate Impact: 0.8419\n"
          ]
        },
        {
          "metadata": {
            "tags": null
          },
          "name": "stderr",
          "output_type": "stream",
          "text": [
            "\r 12%|█▏        | 6/50 [01:10<07:08,  9.75s/it]"
          ]
        },
        {
          "metadata": {
            "tags": null
          },
          "name": "stdout",
          "output_type": "stream",
          "text": [
            "Repair Level: 0.01, Disparate Impact: 0.8330\n"
          ]
        },
        {
          "metadata": {
            "tags": null
          },
          "name": "stderr",
          "output_type": "stream",
          "text": [
            "\r 14%|█▍        | 7/50 [01:20<06:55,  9.66s/it]"
          ]
        },
        {
          "metadata": {
            "tags": null
          },
          "name": "stdout",
          "output_type": "stream",
          "text": [
            "Repair Level: 0.01, Disparate Impact: 0.8332\n"
          ]
        },
        {
          "metadata": {
            "tags": null
          },
          "name": "stderr",
          "output_type": "stream",
          "text": [
            "\r 16%|█▌        | 8/50 [01:27<06:19,  9.03s/it]"
          ]
        },
        {
          "metadata": {
            "tags": null
          },
          "name": "stdout",
          "output_type": "stream",
          "text": [
            "Repair Level: 0.02, Disparate Impact: 0.8338\n"
          ]
        },
        {
          "metadata": {
            "tags": null
          },
          "name": "stderr",
          "output_type": "stream",
          "text": [
            "\r 18%|█▊        | 9/50 [01:36<06:07,  8.96s/it]"
          ]
        },
        {
          "metadata": {
            "tags": null
          },
          "name": "stdout",
          "output_type": "stream",
          "text": [
            "Repair Level: 0.02, Disparate Impact: 0.8365\n"
          ]
        },
        {
          "metadata": {
            "tags": null
          },
          "name": "stderr",
          "output_type": "stream",
          "text": [
            "\r 20%|██        | 10/50 [01:45<06:00,  9.00s/it]"
          ]
        },
        {
          "metadata": {
            "tags": null
          },
          "name": "stdout",
          "output_type": "stream",
          "text": [
            "Repair Level: 0.02, Disparate Impact: 0.8393\n"
          ]
        },
        {
          "metadata": {
            "tags": null
          },
          "name": "stderr",
          "output_type": "stream",
          "text": [
            "\r 22%|██▏       | 11/50 [01:52<05:29,  8.46s/it]"
          ]
        },
        {
          "metadata": {
            "tags": null
          },
          "name": "stdout",
          "output_type": "stream",
          "text": [
            "Repair Level: 0.03, Disparate Impact: 0.8398\n"
          ]
        },
        {
          "metadata": {
            "tags": null
          },
          "name": "stderr",
          "output_type": "stream",
          "text": [
            "\r 24%|██▍       | 12/50 [02:02<05:30,  8.70s/it]"
          ]
        },
        {
          "metadata": {
            "tags": null
          },
          "name": "stdout",
          "output_type": "stream",
          "text": [
            "Repair Level: 0.03, Disparate Impact: 0.8317\n"
          ]
        },
        {
          "metadata": {
            "tags": null
          },
          "name": "stderr",
          "output_type": "stream",
          "text": [
            "\r 26%|██▌       | 13/50 [02:10<05:17,  8.59s/it]"
          ]
        },
        {
          "metadata": {
            "tags": null
          },
          "name": "stdout",
          "output_type": "stream",
          "text": [
            "Repair Level: 0.03, Disparate Impact: 0.8422\n"
          ]
        },
        {
          "metadata": {
            "tags": null
          },
          "name": "stderr",
          "output_type": "stream",
          "text": [
            "\r 28%|██▊       | 14/50 [02:18<05:01,  8.37s/it]"
          ]
        },
        {
          "metadata": {
            "tags": null
          },
          "name": "stdout",
          "output_type": "stream",
          "text": [
            "Repair Level: 0.03, Disparate Impact: 0.8403\n"
          ]
        },
        {
          "metadata": {
            "tags": null
          },
          "name": "stderr",
          "output_type": "stream",
          "text": [
            "\r 30%|███       | 15/50 [02:27<04:59,  8.57s/it]"
          ]
        },
        {
          "metadata": {
            "tags": null
          },
          "name": "stdout",
          "output_type": "stream",
          "text": [
            "Repair Level: 0.04, Disparate Impact: 0.8363\n"
          ]
        },
        {
          "metadata": {
            "tags": null
          },
          "name": "stderr",
          "output_type": "stream",
          "text": [
            "\r 32%|███▏      | 16/50 [02:34<04:40,  8.25s/it]"
          ]
        },
        {
          "metadata": {
            "tags": null
          },
          "name": "stdout",
          "output_type": "stream",
          "text": [
            "Repair Level: 0.04, Disparate Impact: 0.8439\n"
          ]
        },
        {
          "metadata": {
            "tags": null
          },
          "name": "stderr",
          "output_type": "stream",
          "text": [
            "\r 34%|███▍      | 17/50 [02:43<04:38,  8.43s/it]"
          ]
        },
        {
          "metadata": {
            "tags": null
          },
          "name": "stdout",
          "output_type": "stream",
          "text": [
            "Repair Level: 0.04, Disparate Impact: 0.8417\n"
          ]
        },
        {
          "metadata": {
            "tags": null
          },
          "name": "stderr",
          "output_type": "stream",
          "text": [
            "\r 36%|███▌      | 18/50 [02:52<04:36,  8.65s/it]"
          ]
        },
        {
          "metadata": {
            "tags": null
          },
          "name": "stdout",
          "output_type": "stream",
          "text": [
            "Repair Level: 0.04, Disparate Impact: 0.8447\n"
          ]
        },
        {
          "metadata": {
            "tags": null
          },
          "name": "stderr",
          "output_type": "stream",
          "text": [
            "\r 38%|███▊      | 19/50 [03:00<04:20,  8.39s/it]"
          ]
        },
        {
          "metadata": {
            "tags": null
          },
          "name": "stdout",
          "output_type": "stream",
          "text": [
            "Repair Level: 0.04, Disparate Impact: 0.8406\n"
          ]
        },
        {
          "metadata": {
            "tags": null
          },
          "name": "stderr",
          "output_type": "stream",
          "text": [
            "\r 40%|████      | 20/50 [03:09<04:16,  8.55s/it]"
          ]
        },
        {
          "metadata": {
            "tags": null
          },
          "name": "stdout",
          "output_type": "stream",
          "text": [
            "Repair Level: 0.05, Disparate Impact: 0.8439\n"
          ]
        },
        {
          "metadata": {
            "tags": null
          },
          "name": "stderr",
          "output_type": "stream",
          "text": [
            "\r 42%|████▏     | 21/50 [03:17<04:03,  8.41s/it]"
          ]
        },
        {
          "metadata": {
            "tags": null
          },
          "name": "stdout",
          "output_type": "stream",
          "text": [
            "Repair Level: 0.05, Disparate Impact: 0.8377\n"
          ]
        },
        {
          "metadata": {
            "tags": null
          },
          "name": "stderr",
          "output_type": "stream",
          "text": [
            "\r 44%|████▍     | 22/50 [03:26<03:54,  8.38s/it]"
          ]
        },
        {
          "metadata": {
            "tags": null
          },
          "name": "stdout",
          "output_type": "stream",
          "text": [
            "Repair Level: 0.05, Disparate Impact: 0.8327\n"
          ]
        },
        {
          "metadata": {
            "tags": null
          },
          "name": "stderr",
          "output_type": "stream",
          "text": [
            "\r 46%|████▌     | 23/50 [03:34<03:50,  8.53s/it]"
          ]
        },
        {
          "metadata": {
            "tags": null
          },
          "name": "stdout",
          "output_type": "stream",
          "text": [
            "Repair Level: 0.06, Disparate Impact: 0.8407\n"
          ]
        },
        {
          "metadata": {
            "tags": null
          },
          "name": "stderr",
          "output_type": "stream",
          "text": [
            "\r 48%|████▊     | 24/50 [03:42<03:34,  8.24s/it]"
          ]
        },
        {
          "metadata": {
            "tags": null
          },
          "name": "stdout",
          "output_type": "stream",
          "text": [
            "Repair Level: 0.06, Disparate Impact: 0.8362\n"
          ]
        },
        {
          "metadata": {
            "tags": null
          },
          "name": "stderr",
          "output_type": "stream",
          "text": [
            "\r 50%|█████     | 25/50 [03:51<03:30,  8.43s/it]"
          ]
        },
        {
          "metadata": {
            "tags": null
          },
          "name": "stdout",
          "output_type": "stream",
          "text": [
            "Repair Level: 0.06, Disparate Impact: 0.8369\n"
          ]
        },
        {
          "metadata": {
            "tags": null
          },
          "name": "stderr",
          "output_type": "stream",
          "text": [
            "\r 52%|█████▏    | 26/50 [03:59<03:21,  8.41s/it]"
          ]
        },
        {
          "metadata": {
            "tags": null
          },
          "name": "stdout",
          "output_type": "stream",
          "text": [
            "Repair Level: 0.06, Disparate Impact: 0.8259\n"
          ]
        },
        {
          "metadata": {
            "tags": null
          },
          "name": "stderr",
          "output_type": "stream",
          "text": [
            "\r 54%|█████▍    | 27/50 [04:07<03:08,  8.19s/it]"
          ]
        },
        {
          "metadata": {
            "tags": null
          },
          "name": "stdout",
          "output_type": "stream",
          "text": [
            "Repair Level: 0.07, Disparate Impact: 0.8339\n"
          ]
        },
        {
          "metadata": {
            "tags": null
          },
          "name": "stderr",
          "output_type": "stream",
          "text": [
            "\r 56%|█████▌    | 28/50 [04:16<03:07,  8.52s/it]"
          ]
        },
        {
          "metadata": {
            "tags": null
          },
          "name": "stdout",
          "output_type": "stream",
          "text": [
            "Repair Level: 0.07, Disparate Impact: 0.8403\n"
          ]
        },
        {
          "metadata": {
            "tags": null
          },
          "name": "stderr",
          "output_type": "stream",
          "text": [
            "\r 58%|█████▊    | 29/50 [04:24<02:55,  8.35s/it]"
          ]
        },
        {
          "metadata": {
            "tags": null
          },
          "name": "stdout",
          "output_type": "stream",
          "text": [
            "Repair Level: 0.07, Disparate Impact: 0.8337\n"
          ]
        },
        {
          "metadata": {
            "tags": null
          },
          "name": "stderr",
          "output_type": "stream",
          "text": [
            "\r 60%|██████    | 30/50 [04:32<02:46,  8.34s/it]"
          ]
        },
        {
          "metadata": {
            "tags": null
          },
          "name": "stdout",
          "output_type": "stream",
          "text": [
            "Repair Level: 0.07, Disparate Impact: 0.8325\n"
          ]
        },
        {
          "metadata": {
            "tags": null
          },
          "name": "stderr",
          "output_type": "stream",
          "text": [
            "\r 62%|██████▏   | 31/50 [04:42<02:42,  8.56s/it]"
          ]
        },
        {
          "metadata": {
            "tags": null
          },
          "name": "stdout",
          "output_type": "stream",
          "text": [
            "Repair Level: 0.07, Disparate Impact: 0.8327\n"
          ]
        },
        {
          "metadata": {
            "tags": null
          },
          "name": "stderr",
          "output_type": "stream",
          "text": [
            "\r 64%|██████▍   | 32/50 [04:49<02:27,  8.18s/it]"
          ]
        },
        {
          "metadata": {
            "tags": null
          },
          "name": "stdout",
          "output_type": "stream",
          "text": [
            "Repair Level: 0.08, Disparate Impact: 0.8477\n"
          ]
        },
        {
          "metadata": {
            "tags": null
          },
          "name": "stderr",
          "output_type": "stream",
          "text": [
            "\r 66%|██████▌   | 33/50 [04:58<02:22,  8.40s/it]"
          ]
        },
        {
          "metadata": {
            "tags": null
          },
          "name": "stdout",
          "output_type": "stream",
          "text": [
            "Repair Level: 0.08, Disparate Impact: 0.8339\n"
          ]
        },
        {
          "metadata": {
            "tags": null
          },
          "name": "stderr",
          "output_type": "stream",
          "text": [
            "\r 68%|██████▊   | 34/50 [05:07<02:17,  8.61s/it]"
          ]
        },
        {
          "metadata": {
            "tags": null
          },
          "name": "stdout",
          "output_type": "stream",
          "text": [
            "Repair Level: 0.08, Disparate Impact: 0.8285\n"
          ]
        },
        {
          "metadata": {
            "tags": null
          },
          "name": "stderr",
          "output_type": "stream",
          "text": [
            "\r 70%|███████   | 35/50 [05:15<02:05,  8.38s/it]"
          ]
        },
        {
          "metadata": {
            "tags": null
          },
          "name": "stdout",
          "output_type": "stream",
          "text": [
            "Repair Level: 0.09, Disparate Impact: 0.8313\n"
          ]
        },
        {
          "metadata": {
            "tags": null
          },
          "name": "stderr",
          "output_type": "stream",
          "text": [
            "\r 72%|███████▏  | 36/50 [05:24<02:01,  8.70s/it]"
          ]
        },
        {
          "metadata": {
            "tags": null
          },
          "name": "stdout",
          "output_type": "stream",
          "text": [
            "Repair Level: 0.09, Disparate Impact: 0.8284\n"
          ]
        },
        {
          "metadata": {
            "tags": null
          },
          "name": "stderr",
          "output_type": "stream",
          "text": [
            "\r 74%|███████▍  | 37/50 [05:33<01:51,  8.60s/it]"
          ]
        },
        {
          "metadata": {
            "tags": null
          },
          "name": "stdout",
          "output_type": "stream",
          "text": [
            "Repair Level: 0.09, Disparate Impact: 0.8402\n"
          ]
        },
        {
          "metadata": {
            "tags": null
          },
          "name": "stderr",
          "output_type": "stream",
          "text": [
            "\r 76%|███████▌  | 38/50 [05:41<01:40,  8.42s/it]"
          ]
        },
        {
          "metadata": {
            "tags": null
          },
          "name": "stdout",
          "output_type": "stream",
          "text": [
            "Repair Level: 0.09, Disparate Impact: 0.8428\n"
          ]
        },
        {
          "metadata": {
            "tags": null
          },
          "name": "stderr",
          "output_type": "stream",
          "text": [
            "\r 78%|███████▊  | 39/50 [05:50<01:34,  8.63s/it]"
          ]
        },
        {
          "metadata": {
            "tags": null
          },
          "name": "stdout",
          "output_type": "stream",
          "text": [
            "Repair Level: 0.10, Disparate Impact: 0.8385\n"
          ]
        },
        {
          "output_type": "stream",
          "name": "stderr",
          "text": [
            "\r 80%|████████  | 40/50 [05:58<01:24,  8.40s/it]"
          ]
        },
        {
          "output_type": "stream",
          "name": "stdout",
          "text": [
            "Repair Level: 0.10, Disparate Impact: 0.8421\n"
          ]
        },
        {
          "output_type": "stream",
          "name": "stderr",
          "text": [
            "\r 82%|████████▏ | 41/50 [06:06<01:16,  8.54s/it]"
          ]
        },
        {
          "output_type": "stream",
          "name": "stdout",
          "text": [
            "Repair Level: 0.10, Disparate Impact: 0.8421\n"
          ]
        },
        {
          "output_type": "stream",
          "name": "stderr",
          "text": [
            "\r 84%|████████▍ | 42/50 [06:16<01:10,  8.78s/it]"
          ]
        },
        {
          "output_type": "stream",
          "name": "stdout",
          "text": [
            "Repair Level: 0.20, Disparate Impact: 0.8495\n"
          ]
        },
        {
          "output_type": "stream",
          "name": "stderr",
          "text": [
            "\r 86%|████████▌ | 43/50 [06:23<00:59,  8.48s/it]"
          ]
        },
        {
          "output_type": "stream",
          "name": "stdout",
          "text": [
            "Repair Level: 0.30, Disparate Impact: 0.8617\n"
          ]
        },
        {
          "output_type": "stream",
          "name": "stderr",
          "text": [
            "\r 88%|████████▊ | 44/50 [06:32<00:51,  8.52s/it]"
          ]
        },
        {
          "output_type": "stream",
          "name": "stdout",
          "text": [
            "Repair Level: 0.40, Disparate Impact: 0.8683\n"
          ]
        },
        {
          "output_type": "stream",
          "name": "stderr",
          "text": [
            "\r 90%|█████████ | 45/50 [06:40<00:42,  8.42s/it]"
          ]
        },
        {
          "output_type": "stream",
          "name": "stdout",
          "text": [
            "Repair Level: 0.50, Disparate Impact: 0.8667\n"
          ]
        },
        {
          "output_type": "stream",
          "name": "stderr",
          "text": [
            "\r 92%|█████████▏| 46/50 [06:48<00:32,  8.15s/it]"
          ]
        },
        {
          "output_type": "stream",
          "name": "stdout",
          "text": [
            "Repair Level: 0.60, Disparate Impact: 0.7952\n"
          ]
        },
        {
          "output_type": "stream",
          "name": "stderr",
          "text": [
            "\r 94%|█████████▍| 47/50 [06:56<00:24,  8.26s/it]"
          ]
        },
        {
          "output_type": "stream",
          "name": "stdout",
          "text": [
            "Repair Level: 0.70, Disparate Impact: 0.8285\n"
          ]
        },
        {
          "output_type": "stream",
          "name": "stderr",
          "text": [
            "\r 96%|█████████▌| 48/50 [07:03<00:15,  7.86s/it]"
          ]
        },
        {
          "output_type": "stream",
          "name": "stdout",
          "text": [
            "Repair Level: 0.80, Disparate Impact: 0.8349\n"
          ]
        },
        {
          "output_type": "stream",
          "name": "stderr",
          "text": [
            "\r 98%|█████████▊| 49/50 [07:11<00:07,  7.97s/it]"
          ]
        },
        {
          "output_type": "stream",
          "name": "stdout",
          "text": [
            "Repair Level: 0.90, Disparate Impact: 0.8117\n"
          ]
        },
        {
          "output_type": "stream",
          "name": "stderr",
          "text": [
            "100%|██████████| 50/50 [07:17<00:00,  8.76s/it]"
          ]
        },
        {
          "output_type": "stream",
          "name": "stdout",
          "text": [
            "Repair Level: 1.00, Disparate Impact: 0.8123\n"
          ]
        },
        {
          "output_type": "stream",
          "name": "stderr",
          "text": [
            "\n"
          ]
        }
      ],
      "source": [
        "# loop through repair levels\n",
        "for level in tqdm(levels):\n",
        "    #apply DIR at the current repair level\n",
        "    di_remover = DisparateImpactRemover(repair_level=level)\n",
        "    train_dir_ds_i = di_remover.fit_transform(train_ds)\n",
        "    test_dir_ds_i = di_remover.fit_transform(test_ds)\n",
        "\n",
        "    #remove protected attribute from the features\n",
        "    X_train_dir_i = np.delete(train_dir_ds_i.features, protected_index, axis=1)\n",
        "    X_test_dir_i = np.delete(test_dir_ds_i.features, protected_index, axis=1)\n",
        "\n",
        "    # train LightGBM model on the repaired dataset\n",
        "    lgb_dir_model_i = lgb.LGBMClassifier(\n",
        "        random_state=rand, max_depth=5, num_leaves=33, verbose=-1, **lgb_params\n",
        "    )\n",
        "    lgb_dir_model_i.fit(X_train_dir_i, train_dir_ds_i.labels)\n",
        "\n",
        "    #predict on the repaired test dataset\n",
        "    test_dir_ds_pred_i = test_dir_ds_i.copy()\n",
        "    test_dir_ds_pred_i.labels = lgb_dir_model_i.predict(X_test_dir_i)\n",
        "\n",
        "    # fairness metrics\n",
        "    metrics_test_dir_ds = BinaryLabelDatasetMetric(\n",
        "        test_dir_ds_pred_i,\n",
        "        unprivileged_groups=unprivileged_groups,\n",
        "        privileged_groups=privileged_groups,\n",
        "    )\n",
        "    di_i = metrics_test_dir_ds.disparate_impact()\n",
        "\n",
        "    # track and print DI for this level\n",
        "    print(f\"Repair Level: {level:.2f}, Disparate Impact: {di_i:.4f}\")\n",
        "\n",
        "    # update the best results if this level is closest to DI=1\n",
        "    if (di.shape[0] == 0) or (np.min(np.abs(di - 1)) >= abs(di_i - 1)):\n",
        "        train_dir_ds = train_dir_ds_i\n",
        "        test_dir_ds = test_dir_ds_i\n",
        "        X_train_dir = X_train_dir_i\n",
        "        X_test_dir = X_test_dir_i\n",
        "        lgb_dir_model = lgb_dir_model_i\n",
        "\n",
        "    # append to DI list\n",
        "    di = np.append(di, di_i)\n"
      ]
    },
    {
      "cell_type": "code",
      "execution_count": 30,
      "id": "54e306d3-658c-43cb-b661-c5a84df59e9f",
      "metadata": {
        "id": "54e306d3-658c-43cb-b661-c5a84df59e9f",
        "outputId": "3489ae21-6472-466f-fb32-68781f0a9311",
        "colab": {
          "base_uri": "https://localhost:8080/",
          "height": 576
        }
      },
      "outputs": [
        {
          "output_type": "display_data",
          "data": {
            "text/plain": [
              "<Figure size 1100x600 with 1 Axes>"
            ],
            "image/png": "[encoded data removed]"
          },
          "metadata": {}
        }
      ],
      "source": [
        "# Plot Disparate Impact across repair levels\n",
        "import matplotlib.pyplot as plt\n",
        "import seaborn as sns\n",
        "\n",
        "di = di[:len(levels)]\n",
        "\n",
        "# Use Seaborn style for better visuals\n",
        "sns.set(style=\"whitegrid\")\n",
        "\n",
        "plt.figure(figsize=(11, 6))\n",
        "\n",
        "# Plot the Disparate Impact (DI) against repair levels\n",
        "plt.plot(levels, di, marker=\"o\", linestyle=\"-\", color=\"blue\", label=\"Disparate Impact\")\n",
        "\n",
        "# Add labels, title, and legend\n",
        "plt.ylabel(\"Disparate Impact (DI)\", fontsize=14)\n",
        "plt.xlabel(\"Repair Level\", fontsize=14)\n",
        "plt.title(\"Disparate Impact Across Repair Levels\", fontsize=16)\n",
        "plt.legend(fontsize=12)\n",
        "\n",
        "# Show grid for readability\n",
        "plt.grid(True)\n",
        "\n",
        "# Display the plot\n",
        "plt.show()\n",
        "\n",
        "from IPython.display import display\n",
        "display(plt.gcf())\n"
      ]
    },
    {
      "cell_type": "code",
      "execution_count": 31,
      "id": "a9f82be8-7cc3-4db6-82de-bf5c31a2fca1",
      "metadata": {
        "id": "a9f82be8-7cc3-4db6-82de-bf5c31a2fca1",
        "outputId": "8587a718-52d3-4f28-8e12-647d960d66bd",
        "colab": {
          "base_uri": "https://localhost:8080/"
        }
      },
      "outputs": [
        {
          "metadata": {
            "tags": null
          },
          "name": "stdout",
          "output_type": "stream",
          "text": [
            "Best Repair Level: 0.40\n",
            "Disparate Impact at Best Level: 0.8683\n"
          ]
        }
      ],
      "source": [
        "# print the best repair level and its corresponding disparate impact\n",
        "best_level = levels[np.argmin(np.abs(di - 1))]\n",
        "print(f\"Best Repair Level: {best_level:.2f}\")\n",
        "print(f\"Disparate Impact at Best Level: {di[np.argmin(np.abs(di - 1))]:.4f}\")\n"
      ]
    },
    {
      "cell_type": "code",
      "execution_count": 32,
      "id": "d010efc3-1924-40ce-b558-b6b1135a3e71",
      "metadata": {
        "scrolled": true,
        "id": "d010efc3-1924-40ce-b558-b6b1135a3e71",
        "outputId": "07b32926-04de-4a2b-8e18-18cf6bdde8ff",
        "colab": {
          "base_uri": "https://localhost:8080/"
        }
      },
      "outputs": [
        {
          "output_type": "stream",
          "name": "stdout",
          "text": [
            "Performance Metrics on Test Data (DIR Applied):\n",
            "Accuracy: 0.8109\n",
            "Precision: 0.6281\n",
            "Recall: 0.5404\n",
            "F1-Score: 0.5810\n",
            "ROC-AUC: 0.7949\n",
            "\n",
            "Fairness Metrics on Test Data (DIR Applied):\n",
            "Statistical Parity Difference (SPD): -0.1078\n",
            "Disparate Impact (DI): 0.8683\n",
            "Equal Opportunity Difference (EOD): -0.0170\n",
            "Average Odds Difference (AOD): -0.0699\n",
            "Differential Fairness Bias Amplification (DFBA): 0.1588\n"
          ]
        }
      ],
      "source": [
        "# predict on the modified test data (from DIR)\n",
        "y_pred_test_dir = lgb_dir_model.predict(X_test_dir)\n",
        "y_pred_prob_test_dir = lgb_dir_model.predict_proba(X_test_dir)[:, 1]\n",
        "\n",
        "# compute performance metrics on the test data\n",
        "accuracy_test_dir = accuracy_score(y_test, y_pred_test_dir)\n",
        "precision_test_dir = precision_score(y_test, y_pred_test_dir)\n",
        "recall_test_dir = recall_score(y_test, y_pred_test_dir)\n",
        "f1_test_dir = f1_score(y_test, y_pred_test_dir)\n",
        "roc_auc_test_dir = roc_auc_score(y_test, y_pred_prob_test_dir)\n",
        "\n",
        "#display\n",
        "print(\"Performance Metrics on Test Data (DIR Applied):\")\n",
        "print(f\"Accuracy: {accuracy_test_dir:.4f}\")\n",
        "print(f\"Precision: {precision_test_dir:.4f}\")\n",
        "print(f\"Recall: {recall_test_dir:.4f}\")\n",
        "print(f\"F1-Score: {f1_test_dir:.4f}\")\n",
        "print(f\"ROC-AUC: {roc_auc_test_dir:.4f}\")\n",
        "\n",
        "# predictions and scores to the BinaryLabelDataset for our fairness metrics\n",
        "test_dir_ds_pred = test_dir_ds.copy(deepcopy=True)\n",
        "test_dir_ds_pred.labels = y_pred_test_dir.reshape(-1, 1)\n",
        "test_dir_ds_pred.scores = y_pred_prob_test_dir.reshape(-1, 1)\n",
        "\n",
        "# fairness metrics\n",
        "metrics_test_dir_cls = ClassificationMetric(\n",
        "    test_dir_ds,\n",
        "    test_dir_ds_pred,\n",
        "    unprivileged_groups=unprivileged_groups,\n",
        "    privileged_groups=privileged_groups\n",
        ")\n",
        "\n",
        "# display\n",
        "print(\"\\nFairness Metrics on Test Data (DIR Applied):\")\n",
        "print(f\"Statistical Parity Difference (SPD): {metrics_test_dir_cls.statistical_parity_difference():.4f}\")\n",
        "print(f\"Disparate Impact (DI): {metrics_test_dir_cls.disparate_impact():.4f}\")\n",
        "print(f\"Equal Opportunity Difference (EOD): {metrics_test_dir_cls.equal_opportunity_difference():.4f}\")\n",
        "print(f\"Average Odds Difference (AOD): {metrics_test_dir_cls.average_odds_difference():.4f}\")\n",
        "print(f\"Differential Fairness Bias Amplification (DFBA): {metrics_test_dir_cls.differential_fairness_bias_amplification():.4f}\")\n"
      ]
    },
    {
      "cell_type": "code",
      "execution_count": 33,
      "id": "cae3b491-8670-4406-9dcd-a302d5435968",
      "metadata": {
        "id": "cae3b491-8670-4406-9dcd-a302d5435968",
        "outputId": "34e22b64-0c96-40dc-e0b1-7181fc4357a7",
        "colab": {
          "base_uri": "https://localhost:8080/"
        }
      },
      "outputs": [
        {
          "output_type": "stream",
          "name": "stdout",
          "text": [
            "\n",
            "Comparison of Performance Metrics Across Models:\n",
            "Metric         Original       Reweighted     DIR Applied    \n",
            "------------------------------------------------------------\n",
            "Accuracy       0.8176         0.8057         0.8109         \n",
            "Precision      0.6488         0.6140         0.6281         \n",
            "Recall         0.5404         0.5360         0.5404         \n",
            "F1-Score       0.5897         0.5724         0.5810         \n",
            "ROC-AUC        0.7991         0.7908         0.7949         \n",
            "\n",
            "Comparison of Fairness Metrics Across Models:\n",
            "Metric         Original       Reweighted     DIR Applied    \n",
            "------------------------------------------------------------\n",
            "SPD            -0.1385        -0.0541        -0.1078        \n",
            "DI             0.8339         0.9326         0.8683         \n",
            "SEDF           0.9115         0.7310         0.9115         \n"
          ]
        }
      ],
      "source": [
        "# Comparison of ALL Performance Metrics\n",
        "print(\"\\nComparison of Performance Metrics Across Models:\")\n",
        "print(f\"{'Metric':<15}{'Original':<15}{'Reweighted':<15}{'DIR Applied':<15}\")\n",
        "print(\"-\" * 60)\n",
        "print(f\"{'Accuracy':<15}{accuracy:<15.4f}{accuracy_rw:<15.4f}{accuracy_test_dir:<15.4f}\")\n",
        "print(f\"{'Precision':<15}{precision:<15.4f}{precision_rw:<15.4f}{precision_test_dir:<15.4f}\")\n",
        "print(f\"{'Recall':<15}{recall:<15.4f}{recall_rw:<15.4f}{recall_test_dir:<15.4f}\")\n",
        "print(f\"{'F1-Score':<15}{f1:<15.4f}{f1_rw:<15.4f}{f1_test_dir:<15.4f}\")\n",
        "print(f\"{'ROC-AUC':<15}{roc_auc:<15.4f}{roc_auc_rw:<15.4f}{roc_auc_test_dir:<15.4f}\")\n",
        "\n",
        "# Comparison of ALL Fairness Metrics (SPD, DI, SEDF)\n",
        "print(\"\\nComparison of Fairness Metrics Across Models:\")\n",
        "print(f\"{'Metric':<15}{'Original':<15}{'Reweighted':<15}{'DIR Applied':<15}\")\n",
        "print(\"-\" * 60)\n",
        "print(f\"{'SPD':<15}{metrics_test_cls.statistical_parity_difference():<15.4f}{metrics_test_rw_cls.statistical_parity_difference():<15.4f}{metrics_test_dir_cls.statistical_parity_difference():<15.4f}\")\n",
        "print(f\"{'DI':<15}{metrics_test_cls.disparate_impact():<15.4f}{metrics_test_rw_cls.disparate_impact():<15.4f}{metrics_test_dir_cls.disparate_impact():<15.4f}\")\n",
        "print(f\"{'SEDF':<15}{metrics_test_cls.smoothed_empirical_differential_fairness():<15.4f}{metrics_train_rw_ds.smoothed_empirical_differential_fairness():<15.4f}{metrics_test_dir_cls.smoothed_empirical_differential_fairness():<15.4f}\")"
      ]
    },
    {
      "cell_type": "markdown",
      "id": "5b2fe417-6107-4626-89be-1b6fc83cc518",
      "metadata": {
        "id": "5b2fe417-6107-4626-89be-1b6fc83cc518"
      },
      "source": [
        "*****"
      ]
    },
    {
      "cell_type": "markdown",
      "id": "559a9709-00eb-4b1e-a0bc-85606d469f7a",
      "metadata": {
        "id": "559a9709-00eb-4b1e-a0bc-85606d469f7a"
      },
      "source": [
        "# Assignment Instructions"
      ]
    },
    {
      "cell_type": "markdown",
      "id": "0f729c93-a352-4c96-81a3-de9d216a8dd2",
      "metadata": {
        "id": "0f729c93-a352-4c96-81a3-de9d216a8dd2"
      },
      "source": [
        "<b>Objective:</b>\n",
        "\n",
        "In this assignment, you will explore the impact of fairness metrics after applying the Disparate Impact Remover (DIR), retrain a Light GBM model with the adjusted data, and compare its metrics (listed below) against the original and reweighted models from the lab tutorial. Afterward, respond to the reflection questions."
      ]
    },
    {
      "cell_type": "markdown",
      "id": "e1572c03-03b2-41ff-b89a-8c1d89bb8ccb",
      "metadata": {
        "id": "e1572c03-03b2-41ff-b89a-8c1d89bb8ccb"
      },
      "source": [
        "<b>Part 1: Experimentation with the DIR (assignment output should be included in 3.1 Exercise Document</b>\n",
        "\n",
        "-\t(Part 1.1a. & 1.1b.): Modify the levels array for the Disparate Impact Remover to include finer and coarser granularity. (See example in lab/assignment notebook.)\n",
        "-\t(Part 1.2): Identify the best repair level and the Disparate Impact at the best repair level.\n",
        "-\t(Part 1.3): Retrain a Light GBM model on the modified DIR data with the best repair level and compute both the performance metrics and the fairness metrics.\n"
      ]
    },
    {
      "cell_type": "code",
      "source": [
        "from tqdm import tqdm\n",
        "from aif360.algorithms.preprocessing import DisparateImpactRemover\n",
        "import lightgbm as lgb\n",
        "from aif360.metrics import BinaryLabelDatasetMetric\n",
        "import numpy as np\n",
        "import warnings\n",
        "warnings.filterwarnings('ignore')\n",
        "\n",
        "# Define levels with finer & coarser granularity\n",
        "levels = np.hstack([np.linspace(0., 0.1, 81), np.linspace(0.2, 1, 20)])\n",
        "\n",
        "\n",
        "# Generate the levels\n",
        "granular_levels = np.linspace(0., 0.1, 81)  # Fine granularity (small steps)\n",
        "coarse_levels = np.linspace(0.2, 1, 20)     # Coarse granularity (larger steps)\n",
        "\n",
        "# Combine both if needed\n",
        "levels = np.hstack([granular_levels, coarse_levels])\n",
        "\n",
        "# Print to verify\n",
        "print(\"Granular Levels:\", granular_levels)\n",
        "print(\"\\nCoarse Levels:\", coarse_levels)\n",
        "\n",
        "# Initialize variables\n",
        "di = np.array([])  # Store Disparate Impact values\n",
        "best_level = None\n",
        "protected_index = train_ds.feature_names.index(\"Age_Group\")\n",
        "\n",
        "LGBMClassifier(force_row_wise=True)\n",
        "\n",
        "for level in tqdm(levels):\n",
        "    # Apply Disparate Impact Remover (DIR) at the current repair level\n",
        "    di_remover = DisparateImpactRemover(repair_level=level)\n",
        "\n",
        "\n",
        "    train_dir_ds_i = di_remover.fit_transform(train_ds)\n",
        "    test_dir_ds_i = di_remover.fit_transform(test_ds)\n",
        "\n",
        "    # Remove the protected attribute (Age_Group)\n",
        "    X_train_dir_i = np.delete(train_dir_ds_i.features, protected_index, axis=1)\n",
        "    X_test_dir_i = np.delete(test_dir_ds_i.features, protected_index, axis=1)\n",
        "\n",
        "    # Train LightGBM model on the repaired dataset\n",
        "    #lgb_dir_model_i = lgb.LGBMClassifier(random_state=531, max_depth=5, num_leaves=33)\n",
        "    #lgb_dir_model_i=LGBMClassifier(random_state=10, max_depth=3,force_row_wise=True, num_leaves=33)\n",
        "    #lgb_model = lgb.LGBMClassifier(\n",
        "    #max_depth=6,                 # Adjust depth\n",
        "    #min_data_in_leaf=50,         # Ensure minimum samples per leaf\n",
        "    #feature_fraction=0.8,        # Use 80% of features per iteration\n",
        "    #force_row_wise=True          # Reduce processing overhead\n",
        "    #)\n",
        "\n",
        "    # train LightGBM model on the repaired dataset\n",
        "    lgb_dir_model_i = lgb.LGBMClassifier(\n",
        "        random_state=rand, max_depth=5, num_leaves=33,force_row_wise=True, verbose=-1, **lgb_params\n",
        "    )\n",
        "    lgb_dir_model_i.fit(X_train_dir_i, train_dir_ds_i.labels)\n",
        "\n",
        "    # Predict on the repaired test dataset\n",
        "    test_dir_ds_pred_i = test_dir_ds_i.copy()\n",
        "    test_dir_ds_pred_i.labels = lgb_dir_model_i.predict(X_test_dir_i)\n",
        "\n",
        "    # Compute fairness metrics\n",
        "    metrics_test_dir_ds = BinaryLabelDatasetMetric(\n",
        "        test_dir_ds_pred_i,\n",
        "        unprivileged_groups=unprivileged_groups,\n",
        "        privileged_groups=privileged_groups,\n",
        "    )\n",
        "    di_i = metrics_test_dir_ds.disparate_impact()\n",
        "\n",
        "    # Track DI for this level\n",
        "    print(f\"Repair Level: {level:.4f}, Disparate Impact: {di_i:.4f}\")\n",
        "    di = np.append(di, di_i)\n",
        "\n",
        "\n"
      ],
      "metadata": {
        "colab": {
          "base_uri": "https://localhost:8080/"
        },
        "id": "d7bNSrUgLCWt",
        "outputId": "566b971b-da33-4d2b-f4ab-b56c68cb28d1"
      },
      "id": "d7bNSrUgLCWt",
      "execution_count": 34,
      "outputs": [
        {
          "metadata": {
            "tags": null
          },
          "name": "stdout",
          "output_type": "stream",
          "text": [
            "Granular Levels: [0.      0.00125 0.0025  0.00375 0.005   0.00625 0.0075  0.00875 0.01\n",
            " 0.01125 0.0125  0.01375 0.015   0.01625 0.0175  0.01875 0.02    0.02125\n",
            " 0.0225  0.02375 0.025   0.02625 0.0275  0.02875 0.03    0.03125 0.0325\n",
            " 0.03375 0.035   0.03625 0.0375  0.03875 0.04    0.04125 0.0425  0.04375\n",
            " 0.045   0.04625 0.0475  0.04875 0.05    0.05125 0.0525  0.05375 0.055\n",
            " 0.05625 0.0575  0.05875 0.06    0.06125 0.0625  0.06375 0.065   0.06625\n",
            " 0.0675  0.06875 0.07    0.07125 0.0725  0.07375 0.075   0.07625 0.0775\n",
            " 0.07875 0.08    0.08125 0.0825  0.08375 0.085   0.08625 0.0875  0.08875\n",
            " 0.09    0.09125 0.0925  0.09375 0.095   0.09625 0.0975  0.09875 0.1    ]\n",
            "\n",
            "Coarse Levels: [0.2        0.24210526 0.28421053 0.32631579 0.36842105 0.41052632\n",
            " 0.45263158 0.49473684 0.53684211 0.57894737 0.62105263 0.66315789\n",
            " 0.70526316 0.74736842 0.78947368 0.83157895 0.87368421 0.91578947\n",
            " 0.95789474 1.        ]\n"
          ]
        },
        {
          "metadata": {
            "tags": null
          },
          "name": "stderr",
          "output_type": "stream",
          "text": [
            "  1%|          | 1/101 [00:21<36:16, 21.77s/it]"
          ]
        },
        {
          "metadata": {
            "tags": null
          },
          "name": "stdout",
          "output_type": "stream",
          "text": [
            "Repair Level: 0.0000, Disparate Impact: 0.8350\n"
          ]
        },
        {
          "metadata": {
            "tags": null
          },
          "name": "stderr",
          "output_type": "stream",
          "text": [
            "\r  2%|▏         | 2/101 [00:37<30:01, 18.20s/it]"
          ]
        },
        {
          "metadata": {
            "tags": null
          },
          "name": "stdout",
          "output_type": "stream",
          "text": [
            "Repair Level: 0.0013, Disparate Impact: 0.8434\n"
          ]
        },
        {
          "metadata": {
            "tags": null
          },
          "name": "stderr",
          "output_type": "stream",
          "text": [
            "\r  3%|▎         | 3/101 [00:45<21:59, 13.47s/it]"
          ]
        },
        {
          "metadata": {
            "tags": null
          },
          "name": "stdout",
          "output_type": "stream",
          "text": [
            "Repair Level: 0.0025, Disparate Impact: 0.8464\n"
          ]
        },
        {
          "metadata": {
            "tags": null
          },
          "name": "stderr",
          "output_type": "stream",
          "text": [
            "\r  4%|▍         | 4/101 [00:54<18:46, 11.61s/it]"
          ]
        },
        {
          "metadata": {
            "tags": null
          },
          "name": "stdout",
          "output_type": "stream",
          "text": [
            "Repair Level: 0.0037, Disparate Impact: 0.8467\n"
          ]
        },
        {
          "metadata": {
            "tags": null
          },
          "name": "stderr",
          "output_type": "stream",
          "text": [
            "\r  5%|▍         | 5/101 [01:02<16:49, 10.51s/it]"
          ]
        },
        {
          "metadata": {
            "tags": null
          },
          "name": "stdout",
          "output_type": "stream",
          "text": [
            "Repair Level: 0.0050, Disparate Impact: 0.8401\n"
          ]
        },
        {
          "metadata": {
            "tags": null
          },
          "name": "stderr",
          "output_type": "stream",
          "text": [
            "\r  6%|▌         | 6/101 [01:10<15:05,  9.53s/it]"
          ]
        },
        {
          "metadata": {
            "tags": null
          },
          "name": "stdout",
          "output_type": "stream",
          "text": [
            "Repair Level: 0.0063, Disparate Impact: 0.8448\n"
          ]
        },
        {
          "metadata": {
            "tags": null
          },
          "name": "stderr",
          "output_type": "stream",
          "text": [
            "\r  7%|▋         | 7/101 [01:19<14:47,  9.44s/it]"
          ]
        },
        {
          "metadata": {
            "tags": null
          },
          "name": "stdout",
          "output_type": "stream",
          "text": [
            "Repair Level: 0.0075, Disparate Impact: 0.8405\n"
          ]
        },
        {
          "metadata": {
            "tags": null
          },
          "name": "stderr",
          "output_type": "stream",
          "text": [
            "\r  8%|▊         | 8/101 [01:28<14:09,  9.14s/it]"
          ]
        },
        {
          "metadata": {
            "tags": null
          },
          "name": "stdout",
          "output_type": "stream",
          "text": [
            "Repair Level: 0.0088, Disparate Impact: 0.8367\n"
          ]
        },
        {
          "metadata": {
            "tags": null
          },
          "name": "stderr",
          "output_type": "stream",
          "text": [
            "\r  9%|▉         | 9/101 [01:36<13:32,  8.83s/it]"
          ]
        },
        {
          "metadata": {
            "tags": null
          },
          "name": "stdout",
          "output_type": "stream",
          "text": [
            "Repair Level: 0.0100, Disparate Impact: 0.8419\n"
          ]
        },
        {
          "metadata": {
            "tags": null
          },
          "name": "stderr",
          "output_type": "stream",
          "text": [
            "\r 10%|▉         | 10/101 [01:44<13:20,  8.80s/it]"
          ]
        },
        {
          "metadata": {
            "tags": null
          },
          "name": "stdout",
          "output_type": "stream",
          "text": [
            "Repair Level: 0.0112, Disparate Impact: 0.8456\n"
          ]
        },
        {
          "metadata": {
            "tags": null
          },
          "name": "stderr",
          "output_type": "stream",
          "text": [
            "\r 11%|█         | 11/101 [01:52<12:38,  8.42s/it]"
          ]
        },
        {
          "metadata": {
            "tags": null
          },
          "name": "stdout",
          "output_type": "stream",
          "text": [
            "Repair Level: 0.0125, Disparate Impact: 0.8330\n"
          ]
        },
        {
          "metadata": {
            "tags": null
          },
          "name": "stderr",
          "output_type": "stream",
          "text": [
            "\r 12%|█▏        | 12/101 [02:01<12:43,  8.58s/it]"
          ]
        },
        {
          "metadata": {
            "tags": null
          },
          "name": "stdout",
          "output_type": "stream",
          "text": [
            "Repair Level: 0.0138, Disparate Impact: 0.8420\n"
          ]
        },
        {
          "metadata": {
            "tags": null
          },
          "name": "stderr",
          "output_type": "stream",
          "text": [
            "\r 13%|█▎        | 13/101 [02:10<12:49,  8.75s/it]"
          ]
        },
        {
          "metadata": {
            "tags": null
          },
          "name": "stdout",
          "output_type": "stream",
          "text": [
            "Repair Level: 0.0150, Disparate Impact: 0.8332\n"
          ]
        },
        {
          "metadata": {
            "tags": null
          },
          "name": "stderr",
          "output_type": "stream",
          "text": [
            "\r 14%|█▍        | 14/101 [02:18<12:12,  8.42s/it]"
          ]
        },
        {
          "metadata": {
            "tags": null
          },
          "name": "stdout",
          "output_type": "stream",
          "text": [
            "Repair Level: 0.0163, Disparate Impact: 0.8411\n"
          ]
        },
        {
          "metadata": {
            "tags": null
          },
          "name": "stderr",
          "output_type": "stream",
          "text": [
            "\r 15%|█▍        | 15/101 [02:26<12:13,  8.53s/it]"
          ]
        },
        {
          "metadata": {
            "tags": null
          },
          "name": "stdout",
          "output_type": "stream",
          "text": [
            "Repair Level: 0.0175, Disparate Impact: 0.8338\n"
          ]
        },
        {
          "metadata": {
            "tags": null
          },
          "name": "stderr",
          "output_type": "stream",
          "text": [
            "\r 16%|█▌        | 16/101 [02:35<11:55,  8.41s/it]"
          ]
        },
        {
          "metadata": {
            "tags": null
          },
          "name": "stdout",
          "output_type": "stream",
          "text": [
            "Repair Level: 0.0187, Disparate Impact: 0.8443\n"
          ]
        },
        {
          "metadata": {
            "tags": null
          },
          "name": "stderr",
          "output_type": "stream",
          "text": [
            "\r 17%|█▋        | 17/101 [02:43<11:43,  8.37s/it]"
          ]
        },
        {
          "metadata": {
            "tags": null
          },
          "name": "stdout",
          "output_type": "stream",
          "text": [
            "Repair Level: 0.0200, Disparate Impact: 0.8365\n"
          ]
        },
        {
          "metadata": {
            "tags": null
          },
          "name": "stderr",
          "output_type": "stream",
          "text": [
            "\r 18%|█▊        | 18/101 [02:52<11:56,  8.63s/it]"
          ]
        },
        {
          "metadata": {
            "tags": null
          },
          "name": "stdout",
          "output_type": "stream",
          "text": [
            "Repair Level: 0.0213, Disparate Impact: 0.8367\n"
          ]
        },
        {
          "metadata": {
            "tags": null
          },
          "name": "stderr",
          "output_type": "stream",
          "text": [
            "\r 19%|█▉        | 19/101 [03:00<11:23,  8.34s/it]"
          ]
        },
        {
          "metadata": {
            "tags": null
          },
          "name": "stdout",
          "output_type": "stream",
          "text": [
            "Repair Level: 0.0225, Disparate Impact: 0.8393\n"
          ]
        },
        {
          "metadata": {
            "tags": null
          },
          "name": "stderr",
          "output_type": "stream",
          "text": [
            "\r 20%|█▉        | 20/101 [03:08<11:22,  8.43s/it]"
          ]
        },
        {
          "metadata": {
            "tags": null
          },
          "name": "stdout",
          "output_type": "stream",
          "text": [
            "Repair Level: 0.0238, Disparate Impact: 0.8381\n"
          ]
        },
        {
          "metadata": {
            "tags": null
          },
          "name": "stderr",
          "output_type": "stream",
          "text": [
            "\r 21%|██        | 21/101 [03:17<11:25,  8.57s/it]"
          ]
        },
        {
          "metadata": {
            "tags": null
          },
          "name": "stdout",
          "output_type": "stream",
          "text": [
            "Repair Level: 0.0250, Disparate Impact: 0.8398\n"
          ]
        },
        {
          "metadata": {
            "tags": null
          },
          "name": "stderr",
          "output_type": "stream",
          "text": [
            "\r 22%|██▏       | 22/101 [03:25<10:58,  8.34s/it]"
          ]
        },
        {
          "metadata": {
            "tags": null
          },
          "name": "stdout",
          "output_type": "stream",
          "text": [
            "Repair Level: 0.0262, Disparate Impact: 0.8440\n"
          ]
        },
        {
          "metadata": {
            "tags": null
          },
          "name": "stderr",
          "output_type": "stream",
          "text": [
            "\r 23%|██▎       | 23/101 [03:34<11:11,  8.61s/it]"
          ]
        },
        {
          "metadata": {
            "tags": null
          },
          "name": "stdout",
          "output_type": "stream",
          "text": [
            "Repair Level: 0.0275, Disparate Impact: 0.8317\n"
          ]
        },
        {
          "metadata": {
            "tags": null
          },
          "name": "stderr",
          "output_type": "stream",
          "text": [
            "\r 24%|██▍       | 24/101 [03:43<10:53,  8.49s/it]"
          ]
        },
        {
          "metadata": {
            "tags": null
          },
          "name": "stdout",
          "output_type": "stream",
          "text": [
            "Repair Level: 0.0288, Disparate Impact: 0.8336\n"
          ]
        },
        {
          "metadata": {
            "tags": null
          },
          "name": "stderr",
          "output_type": "stream",
          "text": [
            "\r 25%|██▍       | 25/101 [03:50<10:27,  8.26s/it]"
          ]
        },
        {
          "metadata": {
            "tags": null
          },
          "name": "stdout",
          "output_type": "stream",
          "text": [
            "Repair Level: 0.0300, Disparate Impact: 0.8422\n"
          ]
        },
        {
          "metadata": {
            "tags": null
          },
          "name": "stderr",
          "output_type": "stream",
          "text": [
            "\r 26%|██▌       | 26/101 [03:59<10:35,  8.47s/it]"
          ]
        },
        {
          "metadata": {
            "tags": null
          },
          "name": "stdout",
          "output_type": "stream",
          "text": [
            "Repair Level: 0.0312, Disparate Impact: 0.8390\n"
          ]
        },
        {
          "metadata": {
            "tags": null
          },
          "name": "stderr",
          "output_type": "stream",
          "text": [
            "\r 27%|██▋       | 27/101 [04:07<10:11,  8.26s/it]"
          ]
        },
        {
          "metadata": {
            "tags": null
          },
          "name": "stdout",
          "output_type": "stream",
          "text": [
            "Repair Level: 0.0325, Disparate Impact: 0.8403\n"
          ]
        },
        {
          "metadata": {
            "tags": null
          },
          "name": "stderr",
          "output_type": "stream",
          "text": [
            "\r 28%|██▊       | 28/101 [04:16<10:16,  8.44s/it]"
          ]
        },
        {
          "metadata": {
            "tags": null
          },
          "name": "stdout",
          "output_type": "stream",
          "text": [
            "Repair Level: 0.0338, Disparate Impact: 0.8367\n"
          ]
        },
        {
          "metadata": {
            "tags": null
          },
          "name": "stderr",
          "output_type": "stream",
          "text": [
            "\r 29%|██▊       | 29/101 [04:25<10:20,  8.62s/it]"
          ]
        },
        {
          "metadata": {
            "tags": null
          },
          "name": "stdout",
          "output_type": "stream",
          "text": [
            "Repair Level: 0.0350, Disparate Impact: 0.8363\n"
          ]
        },
        {
          "metadata": {
            "tags": null
          },
          "name": "stderr",
          "output_type": "stream",
          "text": [
            "\r 30%|██▉       | 30/101 [04:32<09:43,  8.21s/it]"
          ]
        },
        {
          "metadata": {
            "tags": null
          },
          "name": "stdout",
          "output_type": "stream",
          "text": [
            "Repair Level: 0.0362, Disparate Impact: 0.8459\n"
          ]
        },
        {
          "metadata": {
            "tags": null
          },
          "name": "stderr",
          "output_type": "stream",
          "text": [
            "\r 31%|███       | 31/101 [04:41<09:56,  8.53s/it]"
          ]
        },
        {
          "metadata": {
            "tags": null
          },
          "name": "stdout",
          "output_type": "stream",
          "text": [
            "Repair Level: 0.0375, Disparate Impact: 0.8439\n"
          ]
        },
        {
          "metadata": {
            "tags": null
          },
          "name": "stderr",
          "output_type": "stream",
          "text": [
            "\r 32%|███▏      | 32/101 [04:50<09:39,  8.40s/it]"
          ]
        },
        {
          "metadata": {
            "tags": null
          },
          "name": "stdout",
          "output_type": "stream",
          "text": [
            "Repair Level: 0.0387, Disparate Impact: 0.8439\n"
          ]
        },
        {
          "metadata": {
            "tags": null
          },
          "name": "stderr",
          "output_type": "stream",
          "text": [
            "\r 33%|███▎      | 33/101 [04:58<09:30,  8.39s/it]"
          ]
        },
        {
          "metadata": {
            "tags": null
          },
          "name": "stdout",
          "output_type": "stream",
          "text": [
            "Repair Level: 0.0400, Disparate Impact: 0.8417\n"
          ]
        },
        {
          "metadata": {
            "tags": null
          },
          "name": "stderr",
          "output_type": "stream",
          "text": [
            "\r 34%|███▎      | 34/101 [05:07<09:42,  8.70s/it]"
          ]
        },
        {
          "metadata": {
            "tags": null
          },
          "name": "stdout",
          "output_type": "stream",
          "text": [
            "Repair Level: 0.0413, Disparate Impact: 0.8429\n"
          ]
        },
        {
          "metadata": {
            "tags": null
          },
          "name": "stderr",
          "output_type": "stream",
          "text": [
            "\r 35%|███▍      | 35/101 [05:15<09:08,  8.30s/it]"
          ]
        },
        {
          "metadata": {
            "tags": null
          },
          "name": "stdout",
          "output_type": "stream",
          "text": [
            "Repair Level: 0.0425, Disparate Impact: 0.8447\n"
          ]
        },
        {
          "metadata": {
            "tags": null
          },
          "name": "stderr",
          "output_type": "stream",
          "text": [
            "\r 36%|███▌      | 36/101 [05:24<09:09,  8.45s/it]"
          ]
        },
        {
          "metadata": {
            "tags": null
          },
          "name": "stdout",
          "output_type": "stream",
          "text": [
            "Repair Level: 0.0438, Disparate Impact: 0.8400\n"
          ]
        },
        {
          "metadata": {
            "tags": null
          },
          "name": "stderr",
          "output_type": "stream",
          "text": [
            "\r 37%|███▋      | 37/101 [05:33<09:12,  8.63s/it]"
          ]
        },
        {
          "metadata": {
            "tags": null
          },
          "name": "stdout",
          "output_type": "stream",
          "text": [
            "Repair Level: 0.0450, Disparate Impact: 0.8406\n"
          ]
        },
        {
          "metadata": {
            "tags": null
          },
          "name": "stderr",
          "output_type": "stream",
          "text": [
            "\r 38%|███▊      | 38/101 [05:40<08:45,  8.34s/it]"
          ]
        },
        {
          "metadata": {
            "tags": null
          },
          "name": "stdout",
          "output_type": "stream",
          "text": [
            "Repair Level: 0.0462, Disparate Impact: 0.8307\n"
          ]
        },
        {
          "metadata": {
            "tags": null
          },
          "name": "stderr",
          "output_type": "stream",
          "text": [
            "\r 39%|███▊      | 39/101 [05:49<08:52,  8.58s/it]"
          ]
        },
        {
          "metadata": {
            "tags": null
          },
          "name": "stdout",
          "output_type": "stream",
          "text": [
            "Repair Level: 0.0475, Disparate Impact: 0.8439\n"
          ]
        },
        {
          "metadata": {
            "tags": null
          },
          "name": "stderr",
          "output_type": "stream",
          "text": [
            "\r 40%|███▉      | 40/101 [05:57<08:31,  8.39s/it]"
          ]
        },
        {
          "metadata": {
            "tags": null
          },
          "name": "stdout",
          "output_type": "stream",
          "text": [
            "Repair Level: 0.0488, Disparate Impact: 0.8368\n"
          ]
        },
        {
          "metadata": {
            "tags": null
          },
          "name": "stderr",
          "output_type": "stream",
          "text": [
            "\r 41%|████      | 41/101 [06:06<08:22,  8.38s/it]"
          ]
        },
        {
          "metadata": {
            "tags": null
          },
          "name": "stdout",
          "output_type": "stream",
          "text": [
            "Repair Level: 0.0500, Disparate Impact: 0.8377\n"
          ]
        },
        {
          "metadata": {
            "tags": null
          },
          "name": "stderr",
          "output_type": "stream",
          "text": [
            "\r 42%|████▏     | 42/101 [06:15<08:33,  8.69s/it]"
          ]
        },
        {
          "metadata": {
            "tags": null
          },
          "name": "stdout",
          "output_type": "stream",
          "text": [
            "Repair Level: 0.0513, Disparate Impact: 0.8338\n"
          ]
        },
        {
          "metadata": {
            "tags": null
          },
          "name": "stderr",
          "output_type": "stream",
          "text": [
            "\r 43%|████▎     | 43/101 [06:23<08:13,  8.52s/it]"
          ]
        },
        {
          "metadata": {
            "tags": null
          },
          "name": "stdout",
          "output_type": "stream",
          "text": [
            "Repair Level: 0.0525, Disparate Impact: 0.8327\n"
          ]
        },
        {
          "metadata": {
            "tags": null
          },
          "name": "stderr",
          "output_type": "stream",
          "text": [
            "\r 44%|████▎     | 44/101 [06:32<08:07,  8.54s/it]"
          ]
        },
        {
          "metadata": {
            "tags": null
          },
          "name": "stdout",
          "output_type": "stream",
          "text": [
            "Repair Level: 0.0537, Disparate Impact: 0.8366\n"
          ]
        },
        {
          "metadata": {
            "tags": null
          },
          "name": "stderr",
          "output_type": "stream",
          "text": [
            "\r 45%|████▍     | 45/101 [06:40<07:59,  8.57s/it]"
          ]
        },
        {
          "metadata": {
            "tags": null
          },
          "name": "stdout",
          "output_type": "stream",
          "text": [
            "Repair Level: 0.0550, Disparate Impact: 0.8407\n"
          ]
        },
        {
          "metadata": {
            "tags": null
          },
          "name": "stderr",
          "output_type": "stream",
          "text": [
            "\r 46%|████▌     | 46/101 [06:48<07:37,  8.32s/it]"
          ]
        },
        {
          "metadata": {
            "tags": null
          },
          "name": "stdout",
          "output_type": "stream",
          "text": [
            "Repair Level: 0.0563, Disparate Impact: 0.8358\n"
          ]
        },
        {
          "metadata": {
            "tags": null
          },
          "name": "stderr",
          "output_type": "stream",
          "text": [
            "\r 47%|████▋     | 47/101 [06:57<07:42,  8.56s/it]"
          ]
        },
        {
          "metadata": {
            "tags": null
          },
          "name": "stdout",
          "output_type": "stream",
          "text": [
            "Repair Level: 0.0575, Disparate Impact: 0.8362\n"
          ]
        },
        {
          "metadata": {
            "tags": null
          },
          "name": "stderr",
          "output_type": "stream",
          "text": [
            "\r 48%|████▊     | 48/101 [07:06<07:37,  8.63s/it]"
          ]
        },
        {
          "metadata": {
            "tags": null
          },
          "name": "stdout",
          "output_type": "stream",
          "text": [
            "Repair Level: 0.0588, Disparate Impact: 0.8370\n"
          ]
        },
        {
          "metadata": {
            "tags": null
          },
          "name": "stderr",
          "output_type": "stream",
          "text": [
            "\r 49%|████▊     | 49/101 [07:14<07:17,  8.41s/it]"
          ]
        },
        {
          "metadata": {
            "tags": null
          },
          "name": "stdout",
          "output_type": "stream",
          "text": [
            "Repair Level: 0.0600, Disparate Impact: 0.8369\n"
          ]
        },
        {
          "metadata": {
            "tags": null
          },
          "name": "stderr",
          "output_type": "stream",
          "text": [
            "\r 50%|████▉     | 50/101 [07:23<07:15,  8.55s/it]"
          ]
        },
        {
          "metadata": {
            "tags": null
          },
          "name": "stdout",
          "output_type": "stream",
          "text": [
            "Repair Level: 0.0612, Disparate Impact: 0.8404\n"
          ]
        },
        {
          "metadata": {
            "tags": null
          },
          "name": "stderr",
          "output_type": "stream",
          "text": [
            "\r 50%|█████     | 51/101 [07:30<06:51,  8.23s/it]"
          ]
        },
        {
          "metadata": {
            "tags": null
          },
          "name": "stdout",
          "output_type": "stream",
          "text": [
            "Repair Level: 0.0625, Disparate Impact: 0.8259\n"
          ]
        },
        {
          "metadata": {
            "tags": null
          },
          "name": "stderr",
          "output_type": "stream",
          "text": [
            "\r 51%|█████▏    | 52/101 [07:39<06:52,  8.41s/it]"
          ]
        },
        {
          "metadata": {
            "tags": null
          },
          "name": "stdout",
          "output_type": "stream",
          "text": [
            "Repair Level: 0.0638, Disparate Impact: 0.8374\n"
          ]
        },
        {
          "metadata": {
            "tags": null
          },
          "name": "stderr",
          "output_type": "stream",
          "text": [
            "\r 52%|█████▏    | 53/101 [07:48<06:54,  8.64s/it]"
          ]
        },
        {
          "metadata": {
            "tags": null
          },
          "name": "stdout",
          "output_type": "stream",
          "text": [
            "Repair Level: 0.0650, Disparate Impact: 0.8339\n"
          ]
        },
        {
          "metadata": {
            "tags": null
          },
          "name": "stderr",
          "output_type": "stream",
          "text": [
            "\r 53%|█████▎    | 54/101 [07:56<06:37,  8.46s/it]"
          ]
        },
        {
          "metadata": {
            "tags": null
          },
          "name": "stdout",
          "output_type": "stream",
          "text": [
            "Repair Level: 0.0663, Disparate Impact: 0.8376\n"
          ]
        },
        {
          "metadata": {
            "tags": null
          },
          "name": "stderr",
          "output_type": "stream",
          "text": [
            "\r 54%|█████▍    | 55/101 [08:05<06:31,  8.51s/it]"
          ]
        },
        {
          "metadata": {
            "tags": null
          },
          "name": "stdout",
          "output_type": "stream",
          "text": [
            "Repair Level: 0.0675, Disparate Impact: 0.8403\n"
          ]
        },
        {
          "metadata": {
            "tags": null
          },
          "name": "stderr",
          "output_type": "stream",
          "text": [
            "\r 55%|█████▌    | 56/101 [08:14<06:31,  8.71s/it]"
          ]
        },
        {
          "metadata": {
            "tags": null
          },
          "name": "stdout",
          "output_type": "stream",
          "text": [
            "Repair Level: 0.0688, Disparate Impact: 0.8370\n"
          ]
        },
        {
          "metadata": {
            "tags": null
          },
          "name": "stderr",
          "output_type": "stream",
          "text": [
            "\r 56%|█████▋    | 57/101 [08:22<06:13,  8.48s/it]"
          ]
        },
        {
          "metadata": {
            "tags": null
          },
          "name": "stdout",
          "output_type": "stream",
          "text": [
            "Repair Level: 0.0700, Disparate Impact: 0.8337\n"
          ]
        },
        {
          "metadata": {
            "tags": null
          },
          "name": "stderr",
          "output_type": "stream",
          "text": [
            "\r 57%|█████▋    | 58/101 [08:32<06:16,  8.76s/it]"
          ]
        },
        {
          "metadata": {
            "tags": null
          },
          "name": "stdout",
          "output_type": "stream",
          "text": [
            "Repair Level: 0.0713, Disparate Impact: 0.8298\n"
          ]
        },
        {
          "metadata": {
            "tags": null
          },
          "name": "stderr",
          "output_type": "stream",
          "text": [
            "\r 58%|█████▊    | 59/101 [08:40<06:04,  8.68s/it]"
          ]
        },
        {
          "metadata": {
            "tags": null
          },
          "name": "stdout",
          "output_type": "stream",
          "text": [
            "Repair Level: 0.0725, Disparate Impact: 0.8325\n"
          ]
        },
        {
          "metadata": {
            "tags": null
          },
          "name": "stderr",
          "output_type": "stream",
          "text": [
            "\r 59%|█████▉    | 60/101 [08:48<05:43,  8.37s/it]"
          ]
        },
        {
          "metadata": {
            "tags": null
          },
          "name": "stdout",
          "output_type": "stream",
          "text": [
            "Repair Level: 0.0737, Disparate Impact: 0.8372\n"
          ]
        },
        {
          "metadata": {
            "tags": null
          },
          "name": "stderr",
          "output_type": "stream",
          "text": [
            "\r 60%|██████    | 61/101 [08:57<05:42,  8.56s/it]"
          ]
        },
        {
          "metadata": {
            "tags": null
          },
          "name": "stdout",
          "output_type": "stream",
          "text": [
            "Repair Level: 0.0750, Disparate Impact: 0.8327\n"
          ]
        },
        {
          "metadata": {
            "tags": null
          },
          "name": "stderr",
          "output_type": "stream",
          "text": [
            "\r 61%|██████▏   | 62/101 [09:04<05:24,  8.31s/it]"
          ]
        },
        {
          "metadata": {
            "tags": null
          },
          "name": "stdout",
          "output_type": "stream",
          "text": [
            "Repair Level: 0.0762, Disparate Impact: 0.8372\n"
          ]
        },
        {
          "metadata": {
            "tags": null
          },
          "name": "stderr",
          "output_type": "stream",
          "text": [
            "\r 62%|██████▏   | 63/101 [09:13<05:20,  8.45s/it]"
          ]
        },
        {
          "metadata": {
            "tags": null
          },
          "name": "stdout",
          "output_type": "stream",
          "text": [
            "Repair Level: 0.0775, Disparate Impact: 0.8477\n"
          ]
        },
        {
          "metadata": {
            "tags": null
          },
          "name": "stderr",
          "output_type": "stream",
          "text": [
            "\r 63%|██████▎   | 64/101 [09:22<05:19,  8.64s/it]"
          ]
        },
        {
          "metadata": {
            "tags": null
          },
          "name": "stdout",
          "output_type": "stream",
          "text": [
            "Repair Level: 0.0788, Disparate Impact: 0.8378\n"
          ]
        },
        {
          "metadata": {
            "tags": null
          },
          "name": "stderr",
          "output_type": "stream",
          "text": [
            "\r 64%|██████▍   | 65/101 [09:30<04:57,  8.26s/it]"
          ]
        },
        {
          "metadata": {
            "tags": null
          },
          "name": "stdout",
          "output_type": "stream",
          "text": [
            "Repair Level: 0.0800, Disparate Impact: 0.8339\n"
          ]
        },
        {
          "metadata": {
            "tags": null
          },
          "name": "stderr",
          "output_type": "stream",
          "text": [
            "\r 65%|██████▌   | 66/101 [09:39<05:04,  8.70s/it]"
          ]
        },
        {
          "metadata": {
            "tags": null
          },
          "name": "stdout",
          "output_type": "stream",
          "text": [
            "Repair Level: 0.0813, Disparate Impact: 0.8383\n"
          ]
        },
        {
          "metadata": {
            "tags": null
          },
          "name": "stderr",
          "output_type": "stream",
          "text": [
            "\r 66%|██████▋   | 67/101 [09:49<05:05,  8.98s/it]"
          ]
        },
        {
          "metadata": {
            "tags": null
          },
          "name": "stdout",
          "output_type": "stream",
          "text": [
            "Repair Level: 0.0825, Disparate Impact: 0.8285\n"
          ]
        },
        {
          "metadata": {
            "tags": null
          },
          "name": "stderr",
          "output_type": "stream",
          "text": [
            "\r 67%|██████▋   | 68/101 [09:57<04:47,  8.71s/it]"
          ]
        },
        {
          "metadata": {
            "tags": null
          },
          "name": "stdout",
          "output_type": "stream",
          "text": [
            "Repair Level: 0.0838, Disparate Impact: 0.8376\n"
          ]
        },
        {
          "metadata": {
            "tags": null
          },
          "name": "stderr",
          "output_type": "stream",
          "text": [
            "\r 68%|██████▊   | 69/101 [10:07<04:48,  9.02s/it]"
          ]
        },
        {
          "metadata": {
            "tags": null
          },
          "name": "stdout",
          "output_type": "stream",
          "text": [
            "Repair Level: 0.0850, Disparate Impact: 0.8313\n"
          ]
        },
        {
          "metadata": {
            "tags": null
          },
          "name": "stderr",
          "output_type": "stream",
          "text": [
            "\r 69%|██████▉   | 70/101 [10:15<04:32,  8.78s/it]"
          ]
        },
        {
          "metadata": {
            "tags": null
          },
          "name": "stdout",
          "output_type": "stream",
          "text": [
            "Repair Level: 0.0863, Disparate Impact: 0.8313\n"
          ]
        },
        {
          "metadata": {
            "tags": null
          },
          "name": "stderr",
          "output_type": "stream",
          "text": [
            "\r 70%|███████   | 71/101 [10:23<04:15,  8.53s/it]"
          ]
        },
        {
          "metadata": {
            "tags": null
          },
          "name": "stdout",
          "output_type": "stream",
          "text": [
            "Repair Level: 0.0875, Disparate Impact: 0.8284\n"
          ]
        },
        {
          "metadata": {
            "tags": null
          },
          "name": "stderr",
          "output_type": "stream",
          "text": [
            "\r 71%|███████▏  | 72/101 [10:32<04:13,  8.74s/it]"
          ]
        },
        {
          "metadata": {
            "tags": null
          },
          "name": "stdout",
          "output_type": "stream",
          "text": [
            "Repair Level: 0.0887, Disparate Impact: 0.8357\n"
          ]
        },
        {
          "metadata": {
            "tags": null
          },
          "name": "stderr",
          "output_type": "stream",
          "text": [
            "\r 72%|███████▏  | 73/101 [10:40<03:55,  8.42s/it]"
          ]
        },
        {
          "metadata": {
            "tags": null
          },
          "name": "stdout",
          "output_type": "stream",
          "text": [
            "Repair Level: 0.0900, Disparate Impact: 0.8402\n"
          ]
        },
        {
          "metadata": {
            "tags": null
          },
          "name": "stderr",
          "output_type": "stream",
          "text": [
            "\r 73%|███████▎  | 74/101 [10:49<03:49,  8.49s/it]"
          ]
        },
        {
          "metadata": {
            "tags": null
          },
          "name": "stdout",
          "output_type": "stream",
          "text": [
            "Repair Level: 0.0912, Disparate Impact: 0.8389\n"
          ]
        },
        {
          "metadata": {
            "tags": null
          },
          "name": "stderr",
          "output_type": "stream",
          "text": [
            "\r 74%|███████▍  | 75/101 [10:57<03:40,  8.48s/it]"
          ]
        },
        {
          "metadata": {
            "tags": null
          },
          "name": "stdout",
          "output_type": "stream",
          "text": [
            "Repair Level: 0.0925, Disparate Impact: 0.8428\n"
          ]
        },
        {
          "metadata": {
            "tags": null
          },
          "name": "stderr",
          "output_type": "stream",
          "text": [
            "\r 75%|███████▌  | 76/101 [11:05<03:24,  8.19s/it]"
          ]
        },
        {
          "metadata": {
            "tags": null
          },
          "name": "stdout",
          "output_type": "stream",
          "text": [
            "Repair Level: 0.0938, Disparate Impact: 0.8341\n"
          ]
        },
        {
          "metadata": {
            "tags": null
          },
          "name": "stderr",
          "output_type": "stream",
          "text": [
            "\r 76%|███████▌  | 77/101 [11:14<03:25,  8.54s/it]"
          ]
        },
        {
          "metadata": {
            "tags": null
          },
          "name": "stdout",
          "output_type": "stream",
          "text": [
            "Repair Level: 0.0950, Disparate Impact: 0.8385\n"
          ]
        },
        {
          "metadata": {
            "tags": null
          },
          "name": "stderr",
          "output_type": "stream",
          "text": [
            "\r 77%|███████▋  | 78/101 [11:23<03:18,  8.61s/it]"
          ]
        },
        {
          "metadata": {
            "tags": null
          },
          "name": "stdout",
          "output_type": "stream",
          "text": [
            "Repair Level: 0.0963, Disparate Impact: 0.8407\n"
          ]
        },
        {
          "metadata": {
            "tags": null
          },
          "name": "stderr",
          "output_type": "stream",
          "text": [
            "\r 78%|███████▊  | 79/101 [11:31<03:06,  8.47s/it]"
          ]
        },
        {
          "metadata": {
            "tags": null
          },
          "name": "stdout",
          "output_type": "stream",
          "text": [
            "Repair Level: 0.0975, Disparate Impact: 0.8421\n"
          ]
        },
        {
          "metadata": {
            "tags": null
          },
          "name": "stderr",
          "output_type": "stream",
          "text": [
            "\r 79%|███████▉  | 80/101 [11:40<03:01,  8.62s/it]"
          ]
        },
        {
          "metadata": {
            "tags": null
          },
          "name": "stdout",
          "output_type": "stream",
          "text": [
            "Repair Level: 0.0988, Disparate Impact: 0.8347\n"
          ]
        },
        {
          "metadata": {
            "tags": null
          },
          "name": "stderr",
          "output_type": "stream",
          "text": [
            "\r 80%|████████  | 81/101 [11:48<02:47,  8.36s/it]"
          ]
        },
        {
          "metadata": {
            "tags": null
          },
          "name": "stdout",
          "output_type": "stream",
          "text": [
            "Repair Level: 0.1000, Disparate Impact: 0.8421\n"
          ]
        },
        {
          "metadata": {
            "tags": null
          },
          "name": "stderr",
          "output_type": "stream",
          "text": [
            "\r 81%|████████  | 82/101 [11:57<02:42,  8.57s/it]"
          ]
        },
        {
          "metadata": {
            "tags": null
          },
          "name": "stdout",
          "output_type": "stream",
          "text": [
            "Repair Level: 0.2000, Disparate Impact: 0.8495\n"
          ]
        },
        {
          "metadata": {
            "tags": null
          },
          "name": "stderr",
          "output_type": "stream",
          "text": [
            "\r 82%|████████▏ | 83/101 [12:06<02:37,  8.75s/it]"
          ]
        },
        {
          "metadata": {
            "tags": null
          },
          "name": "stdout",
          "output_type": "stream",
          "text": [
            "Repair Level: 0.2421, Disparate Impact: 0.8494\n"
          ]
        },
        {
          "metadata": {
            "tags": null
          },
          "name": "stderr",
          "output_type": "stream",
          "text": [
            "\r 83%|████████▎ | 84/101 [12:13<02:23,  8.44s/it]"
          ]
        },
        {
          "metadata": {
            "tags": null
          },
          "name": "stdout",
          "output_type": "stream",
          "text": [
            "Repair Level: 0.2842, Disparate Impact: 0.8433\n"
          ]
        },
        {
          "metadata": {
            "tags": null
          },
          "name": "stderr",
          "output_type": "stream",
          "text": [
            "\r 84%|████████▍ | 85/101 [12:22<02:15,  8.44s/it]"
          ]
        },
        {
          "metadata": {
            "tags": null
          },
          "name": "stdout",
          "output_type": "stream",
          "text": [
            "Repair Level: 0.3263, Disparate Impact: 0.8539\n"
          ]
        },
        {
          "output_type": "stream",
          "name": "stderr",
          "text": [
            "\r 85%|████████▌ | 86/101 [12:30<02:06,  8.44s/it]"
          ]
        },
        {
          "output_type": "stream",
          "name": "stdout",
          "text": [
            "Repair Level: 0.3684, Disparate Impact: 0.8566\n"
          ]
        },
        {
          "output_type": "stream",
          "name": "stderr",
          "text": [
            "\r 86%|████████▌ | 87/101 [12:38<01:55,  8.28s/it]"
          ]
        },
        {
          "output_type": "stream",
          "name": "stdout",
          "text": [
            "Repair Level: 0.4105, Disparate Impact: 0.8597\n"
          ]
        },
        {
          "output_type": "stream",
          "name": "stderr",
          "text": [
            "\r 87%|████████▋ | 88/101 [12:47<01:51,  8.56s/it]"
          ]
        },
        {
          "output_type": "stream",
          "name": "stdout",
          "text": [
            "Repair Level: 0.4526, Disparate Impact: 0.8605\n"
          ]
        },
        {
          "output_type": "stream",
          "name": "stderr",
          "text": [
            "\r 88%|████████▊ | 89/101 [12:55<01:39,  8.32s/it]"
          ]
        },
        {
          "output_type": "stream",
          "name": "stdout",
          "text": [
            "Repair Level: 0.4947, Disparate Impact: 0.8659\n"
          ]
        },
        {
          "output_type": "stream",
          "name": "stderr",
          "text": [
            "\r 89%|████████▉ | 90/101 [13:03<01:31,  8.28s/it]"
          ]
        },
        {
          "output_type": "stream",
          "name": "stdout",
          "text": [
            "Repair Level: 0.5368, Disparate Impact: 0.7930\n"
          ]
        },
        {
          "output_type": "stream",
          "name": "stderr",
          "text": [
            "\r 90%|█████████ | 91/101 [13:12<01:24,  8.49s/it]"
          ]
        },
        {
          "output_type": "stream",
          "name": "stdout",
          "text": [
            "Repair Level: 0.5789, Disparate Impact: 0.7894\n"
          ]
        },
        {
          "output_type": "stream",
          "name": "stderr",
          "text": [
            "\r 91%|█████████ | 92/101 [13:20<01:13,  8.12s/it]"
          ]
        },
        {
          "output_type": "stream",
          "name": "stdout",
          "text": [
            "Repair Level: 0.6211, Disparate Impact: 0.7959\n"
          ]
        },
        {
          "output_type": "stream",
          "name": "stderr",
          "text": [
            "\r 92%|█████████▏| 93/101 [13:29<01:07,  8.47s/it]"
          ]
        },
        {
          "output_type": "stream",
          "name": "stdout",
          "text": [
            "Repair Level: 0.6632, Disparate Impact: 0.8057\n"
          ]
        },
        {
          "output_type": "stream",
          "name": "stderr",
          "text": [
            "\r 93%|█████████▎| 94/101 [13:37<00:57,  8.28s/it]"
          ]
        },
        {
          "output_type": "stream",
          "name": "stdout",
          "text": [
            "Repair Level: 0.7053, Disparate Impact: 0.8161\n"
          ]
        },
        {
          "output_type": "stream",
          "name": "stderr",
          "text": [
            "\r 94%|█████████▍| 95/101 [13:44<00:48,  8.02s/it]"
          ]
        },
        {
          "output_type": "stream",
          "name": "stdout",
          "text": [
            "Repair Level: 0.7474, Disparate Impact: 0.8368\n"
          ]
        },
        {
          "output_type": "stream",
          "name": "stderr",
          "text": [
            "\r 95%|█████████▌| 96/101 [13:52<00:39,  7.96s/it]"
          ]
        },
        {
          "output_type": "stream",
          "name": "stdout",
          "text": [
            "Repair Level: 0.7895, Disparate Impact: 0.8335\n"
          ]
        },
        {
          "output_type": "stream",
          "name": "stderr",
          "text": [
            "\r 96%|█████████▌| 97/101 [13:59<00:30,  7.74s/it]"
          ]
        },
        {
          "output_type": "stream",
          "name": "stdout",
          "text": [
            "Repair Level: 0.8316, Disparate Impact: 0.8341\n"
          ]
        },
        {
          "output_type": "stream",
          "name": "stderr",
          "text": [
            "\r 97%|█████████▋| 98/101 [14:07<00:23,  7.86s/it]"
          ]
        },
        {
          "output_type": "stream",
          "name": "stdout",
          "text": [
            "Repair Level: 0.8737, Disparate Impact: 0.8257\n"
          ]
        },
        {
          "output_type": "stream",
          "name": "stderr",
          "text": [
            "\r 98%|█████████▊| 99/101 [14:14<00:15,  7.51s/it]"
          ]
        },
        {
          "output_type": "stream",
          "name": "stdout",
          "text": [
            "Repair Level: 0.9158, Disparate Impact: 0.8142\n"
          ]
        },
        {
          "output_type": "stream",
          "name": "stderr",
          "text": [
            "\r 99%|█████████▉| 100/101 [14:22<00:07,  7.51s/it]"
          ]
        },
        {
          "output_type": "stream",
          "name": "stdout",
          "text": [
            "Repair Level: 0.9579, Disparate Impact: 0.8074\n"
          ]
        },
        {
          "output_type": "stream",
          "name": "stderr",
          "text": [
            "100%|██████████| 101/101 [14:28<00:00,  8.60s/it]"
          ]
        },
        {
          "output_type": "stream",
          "name": "stdout",
          "text": [
            "Repair Level: 1.0000, Disparate Impact: 0.8123\n"
          ]
        },
        {
          "output_type": "stream",
          "name": "stderr",
          "text": [
            "\n"
          ]
        }
      ]
    },
    {
      "source": [
        "di_i = di\n",
        "\n",
        "for level, di_value in tqdm(zip(levels, di)):  # Iterate through levels and corresponding DI values\n",
        "    print(f\"Repair Level: {level:.4f}, Disparate Impact: {di_value:.4f}\")\n",
        "\n",
        "# Find best repair level (DI closest to 1.0)\n",
        "best_level = levels[np.argmin(np.abs(di - 1))]\n",
        "print(f\"\\nBest Repair Level: {best_level:.4f}\")\n",
        "print(f\"Disparate Impact at Best Level: {di[np.argmin(np.abs(di - 1))]:.4f}\")"
      ],
      "cell_type": "code",
      "metadata": {
        "colab": {
          "base_uri": "https://localhost:8080/"
        },
        "id": "1cZWdoMCC5MO",
        "outputId": "b0120b8a-35f9-407b-9789-78f55c299d0b"
      },
      "id": "1cZWdoMCC5MO",
      "execution_count": 35,
      "outputs": [
        {
          "metadata": {
            "tags": null
          },
          "name": "stderr",
          "output_type": "stream",
          "text": [
            "101it [00:00, 132258.73it/s]"
          ]
        },
        {
          "metadata": {
            "tags": null
          },
          "name": "stdout",
          "output_type": "stream",
          "text": [
            "Repair Level: 0.0000, Disparate Impact: 0.8350\n",
            "Repair Level: 0.0013, Disparate Impact: 0.8434\n",
            "Repair Level: 0.0025, Disparate Impact: 0.8464\n",
            "Repair Level: 0.0037, Disparate Impact: 0.8467\n",
            "Repair Level: 0.0050, Disparate Impact: 0.8401\n",
            "Repair Level: 0.0063, Disparate Impact: 0.8448\n",
            "Repair Level: 0.0075, Disparate Impact: 0.8405\n",
            "Repair Level: 0.0088, Disparate Impact: 0.8367\n",
            "Repair Level: 0.0100, Disparate Impact: 0.8419\n",
            "Repair Level: 0.0112, Disparate Impact: 0.8456\n",
            "Repair Level: 0.0125, Disparate Impact: 0.8330\n",
            "Repair Level: 0.0138, Disparate Impact: 0.8420\n",
            "Repair Level: 0.0150, Disparate Impact: 0.8332\n",
            "Repair Level: 0.0163, Disparate Impact: 0.8411\n",
            "Repair Level: 0.0175, Disparate Impact: 0.8338\n",
            "Repair Level: 0.0187, Disparate Impact: 0.8443\n",
            "Repair Level: 0.0200, Disparate Impact: 0.8365\n",
            "Repair Level: 0.0213, Disparate Impact: 0.8367\n",
            "Repair Level: 0.0225, Disparate Impact: 0.8393\n",
            "Repair Level: 0.0238, Disparate Impact: 0.8381\n",
            "Repair Level: 0.0250, Disparate Impact: 0.8398\n",
            "Repair Level: 0.0262, Disparate Impact: 0.8440\n",
            "Repair Level: 0.0275, Disparate Impact: 0.8317\n",
            "Repair Level: 0.0288, Disparate Impact: 0.8336\n",
            "Repair Level: 0.0300, Disparate Impact: 0.8422\n",
            "Repair Level: 0.0312, Disparate Impact: 0.8390\n",
            "Repair Level: 0.0325, Disparate Impact: 0.8403\n",
            "Repair Level: 0.0338, Disparate Impact: 0.8367\n",
            "Repair Level: 0.0350, Disparate Impact: 0.8363\n",
            "Repair Level: 0.0362, Disparate Impact: 0.8459\n",
            "Repair Level: 0.0375, Disparate Impact: 0.8439\n",
            "Repair Level: 0.0387, Disparate Impact: 0.8439\n",
            "Repair Level: 0.0400, Disparate Impact: 0.8417\n",
            "Repair Level: 0.0413, Disparate Impact: 0.8429\n",
            "Repair Level: 0.0425, Disparate Impact: 0.8447\n",
            "Repair Level: 0.0438, Disparate Impact: 0.8400\n",
            "Repair Level: 0.0450, Disparate Impact: 0.8406\n",
            "Repair Level: 0.0462, Disparate Impact: 0.8307\n",
            "Repair Level: 0.0475, Disparate Impact: 0.8439\n",
            "Repair Level: 0.0488, Disparate Impact: 0.8368\n",
            "Repair Level: 0.0500, Disparate Impact: 0.8377\n",
            "Repair Level: 0.0513, Disparate Impact: 0.8338\n",
            "Repair Level: 0.0525, Disparate Impact: 0.8327\n",
            "Repair Level: 0.0537, Disparate Impact: 0.8366\n",
            "Repair Level: 0.0550, Disparate Impact: 0.8407\n",
            "Repair Level: 0.0563, Disparate Impact: 0.8358\n",
            "Repair Level: 0.0575, Disparate Impact: 0.8362\n",
            "Repair Level: 0.0588, Disparate Impact: 0.8370\n",
            "Repair Level: 0.0600, Disparate Impact: 0.8369\n",
            "Repair Level: 0.0612, Disparate Impact: 0.8404\n",
            "Repair Level: 0.0625, Disparate Impact: 0.8259\n",
            "Repair Level: 0.0638, Disparate Impact: 0.8374\n",
            "Repair Level: 0.0650, Disparate Impact: 0.8339\n",
            "Repair Level: 0.0663, Disparate Impact: 0.8376\n",
            "Repair Level: 0.0675, Disparate Impact: 0.8403\n",
            "Repair Level: 0.0688, Disparate Impact: 0.8370\n",
            "Repair Level: 0.0700, Disparate Impact: 0.8337\n",
            "Repair Level: 0.0713, Disparate Impact: 0.8298\n",
            "Repair Level: 0.0725, Disparate Impact: 0.8325\n",
            "Repair Level: 0.0737, Disparate Impact: 0.8372\n",
            "Repair Level: 0.0750, Disparate Impact: 0.8327\n",
            "Repair Level: 0.0762, Disparate Impact: 0.8372\n",
            "Repair Level: 0.0775, Disparate Impact: 0.8477\n",
            "Repair Level: 0.0788, Disparate Impact: 0.8378\n",
            "Repair Level: 0.0800, Disparate Impact: 0.8339\n",
            "Repair Level: 0.0813, Disparate Impact: 0.8383\n",
            "Repair Level: 0.0825, Disparate Impact: 0.8285\n",
            "Repair Level: 0.0838, Disparate Impact: 0.8376\n",
            "Repair Level: 0.0850, Disparate Impact: 0.8313\n",
            "Repair Level: 0.0863, Disparate Impact: 0.8313\n",
            "Repair Level: 0.0875, Disparate Impact: 0.8284\n",
            "Repair Level: 0.0887, Disparate Impact: 0.8357\n",
            "Repair Level: 0.0900, Disparate Impact: 0.8402\n",
            "Repair Level: 0.0912, Disparate Impact: 0.8389\n",
            "Repair Level: 0.0925, Disparate Impact: 0.8428\n",
            "Repair Level: 0.0938, Disparate Impact: 0.8341\n",
            "Repair Level: 0.0950, Disparate Impact: 0.8385\n",
            "Repair Level: 0.0963, Disparate Impact: 0.8407\n",
            "Repair Level: 0.0975, Disparate Impact: 0.8421\n",
            "Repair Level: 0.0988, Disparate Impact: 0.8347\n",
            "Repair Level: 0.1000, Disparate Impact: 0.8421\n",
            "Repair Level: 0.2000, Disparate Impact: 0.8495\n",
            "Repair Level: 0.2421, Disparate Impact: 0.8494\n",
            "Repair Level: 0.2842, Disparate Impact: 0.8433\n",
            "Repair Level: 0.3263, Disparate Impact: 0.8539\n",
            "Repair Level: 0.3684, Disparate Impact: 0.8566\n",
            "Repair Level: 0.4105, Disparate Impact: 0.8597\n",
            "Repair Level: 0.4526, Disparate Impact: 0.8605\n",
            "Repair Level: 0.4947, Disparate Impact: 0.8659\n",
            "Repair Level: 0.5368, Disparate Impact: 0.7930\n",
            "Repair Level: 0.5789, Disparate Impact: 0.7894\n",
            "Repair Level: 0.6211, Disparate Impact: 0.7959\n",
            "Repair Level: 0.6632, Disparate Impact: 0.8057\n",
            "Repair Level: 0.7053, Disparate Impact: 0.8161\n",
            "Repair Level: 0.7474, Disparate Impact: 0.8368\n",
            "Repair Level: 0.7895, Disparate Impact: 0.8335\n",
            "Repair Level: 0.8316, Disparate Impact: 0.8341\n",
            "Repair Level: 0.8737, Disparate Impact: 0.8257\n",
            "Repair Level: 0.9158, Disparate Impact: 0.8142\n",
            "Repair Level: 0.9579, Disparate Impact: 0.8074\n",
            "Repair Level: 1.0000, Disparate Impact: 0.8123\n",
            "\n",
            "Best Repair Level: 0.4947\n",
            "Disparate Impact at Best Level: 0.8659\n"
          ]
        },
        {
          "metadata": {
            "tags": null
          },
          "name": "stderr",
          "output_type": "stream",
          "text": [
            "\n"
          ]
        }
      ]
    },
    {
      "cell_type": "code",
      "source": [
        "# Plot Disparate Impact across repair levels\n",
        "import matplotlib.pyplot as plt\n",
        "import seaborn as sns\n",
        "\n",
        "di_i = di_i[:len(levels)]\n",
        "#di = di[:len(levels)]\n",
        "\n",
        "# Use Seaborn style for better visuals\n",
        "sns.set(style=\"whitegrid\")\n",
        "\n",
        "plt.figure(figsize=(11, 6))\n",
        "\n",
        "# Plot the Disparate Impact (DI) against repair levels\n",
        "plt.plot(levels, di_i, marker=\"o\", linestyle=\"-\", color=\"pink\", label=\"Disparate Impact\")\n",
        "\n",
        "# Add labels, title, and legend\n",
        "plt.ylabel(\"Disparate Impact (DI)\", fontsize=14)\n",
        "plt.xlabel(\"Repair Level\", fontsize=14)\n",
        "plt.title(\"Disparate Impact Across Repair Levels\", fontsize=16)\n",
        "plt.legend(fontsize=12)\n",
        "\n",
        "# Show grid for readability\n",
        "plt.grid(True)\n",
        "\n",
        "# Display the plot\n",
        "plt.show()\n",
        "\n",
        "from IPython.display import display\n",
        "display(plt.gcf())\n"
      ],
      "metadata": {
        "colab": {
          "base_uri": "https://localhost:8080/",
          "height": 576
        },
        "id": "6XaSZYUiEIhM",
        "outputId": "9b026fdc-4aa2-4350-8866-0871c9511fab"
      },
      "id": "6XaSZYUiEIhM",
      "execution_count": 36,
      "outputs": [
        {
          "output_type": "display_data",
          "data": {
            "text/plain": [
              "<Figure size 1100x600 with 1 Axes>"
            ],
            "image/png": "[encoded data removed]"
          },
          "metadata": {}
        }
      ]
    },
    {
      "cell_type": "code",
      "source": [
        "# Generate the levels\n",
        "granular_levels = np.linspace(0., 0.1, 81)  # Fine granularity (small steps)\n",
        "coarse_levels = np.linspace(0.2, 1, 20)     # Coarse granularity (larger steps)\n",
        "\n",
        "# Combine both if needed\n",
        "levels = np.hstack([granular_levels, coarse_levels])\n",
        "\n",
        "# Print to verify\n",
        "print(\"Granular Levels:\", granular_levels)\n",
        "print(\"\\nCoarse Levels:\", coarse_levels)"
      ],
      "metadata": {
        "colab": {
          "base_uri": "https://localhost:8080/"
        },
        "id": "cNOieeQaE1lb",
        "outputId": "0ab111d9-ff69-4c0b-815e-6d08fbc4588a"
      },
      "id": "cNOieeQaE1lb",
      "execution_count": 37,
      "outputs": [
        {
          "output_type": "stream",
          "name": "stdout",
          "text": [
            "Granular Levels: [0.      0.00125 0.0025  0.00375 0.005   0.00625 0.0075  0.00875 0.01\n",
            " 0.01125 0.0125  0.01375 0.015   0.01625 0.0175  0.01875 0.02    0.02125\n",
            " 0.0225  0.02375 0.025   0.02625 0.0275  0.02875 0.03    0.03125 0.0325\n",
            " 0.03375 0.035   0.03625 0.0375  0.03875 0.04    0.04125 0.0425  0.04375\n",
            " 0.045   0.04625 0.0475  0.04875 0.05    0.05125 0.0525  0.05375 0.055\n",
            " 0.05625 0.0575  0.05875 0.06    0.06125 0.0625  0.06375 0.065   0.06625\n",
            " 0.0675  0.06875 0.07    0.07125 0.0725  0.07375 0.075   0.07625 0.0775\n",
            " 0.07875 0.08    0.08125 0.0825  0.08375 0.085   0.08625 0.0875  0.08875\n",
            " 0.09    0.09125 0.0925  0.09375 0.095   0.09625 0.0975  0.09875 0.1    ]\n",
            "\n",
            "Coarse Levels: [0.2        0.24210526 0.28421053 0.32631579 0.36842105 0.41052632\n",
            " 0.45263158 0.49473684 0.53684211 0.57894737 0.62105263 0.66315789\n",
            " 0.70526316 0.74736842 0.78947368 0.83157895 0.87368421 0.91578947\n",
            " 0.95789474 1.        ]\n"
          ]
        }
      ]
    },
    {
      "cell_type": "code",
      "source": [
        "di_i = di_i[:len(levels)]"
      ],
      "metadata": {
        "id": "dK0cNYYbGoKK"
      },
      "id": "dK0cNYYbGoKK",
      "execution_count": 38,
      "outputs": []
    },
    {
      "cell_type": "code",
      "source": [
        "# print granular_di = di[:len(granular_levels)] for each level\n",
        "\n",
        "granular_di = di[:len(granular_levels)]\n",
        "for level, di_value in zip(granular_levels, granular_di):\n",
        "    print(f\"Repair Level: {level:.4f}, Disparate Impact: {di_value:.4f}\")\n"
      ],
      "metadata": {
        "id": "cXlE5L2QIgQp",
        "outputId": "bace5a07-1431-48de-a0bd-e1c28d4cd70b",
        "colab": {
          "base_uri": "https://localhost:8080/"
        }
      },
      "id": "cXlE5L2QIgQp",
      "execution_count": 49,
      "outputs": [
        {
          "output_type": "stream",
          "name": "stdout",
          "text": [
            "Repair Level: 0.0000, Disparate Impact: 0.8350\n",
            "Repair Level: 0.0013, Disparate Impact: 0.8434\n",
            "Repair Level: 0.0025, Disparate Impact: 0.8464\n",
            "Repair Level: 0.0037, Disparate Impact: 0.8467\n",
            "Repair Level: 0.0050, Disparate Impact: 0.8401\n",
            "Repair Level: 0.0063, Disparate Impact: 0.8448\n",
            "Repair Level: 0.0075, Disparate Impact: 0.8405\n",
            "Repair Level: 0.0088, Disparate Impact: 0.8367\n",
            "Repair Level: 0.0100, Disparate Impact: 0.8419\n",
            "Repair Level: 0.0112, Disparate Impact: 0.8456\n",
            "Repair Level: 0.0125, Disparate Impact: 0.8330\n",
            "Repair Level: 0.0138, Disparate Impact: 0.8420\n",
            "Repair Level: 0.0150, Disparate Impact: 0.8332\n",
            "Repair Level: 0.0163, Disparate Impact: 0.8411\n",
            "Repair Level: 0.0175, Disparate Impact: 0.8338\n",
            "Repair Level: 0.0187, Disparate Impact: 0.8443\n",
            "Repair Level: 0.0200, Disparate Impact: 0.8365\n",
            "Repair Level: 0.0213, Disparate Impact: 0.8367\n",
            "Repair Level: 0.0225, Disparate Impact: 0.8393\n",
            "Repair Level: 0.0238, Disparate Impact: 0.8381\n",
            "Repair Level: 0.0250, Disparate Impact: 0.8398\n",
            "Repair Level: 0.0262, Disparate Impact: 0.8440\n",
            "Repair Level: 0.0275, Disparate Impact: 0.8317\n",
            "Repair Level: 0.0288, Disparate Impact: 0.8336\n",
            "Repair Level: 0.0300, Disparate Impact: 0.8422\n",
            "Repair Level: 0.0312, Disparate Impact: 0.8390\n",
            "Repair Level: 0.0325, Disparate Impact: 0.8403\n",
            "Repair Level: 0.0338, Disparate Impact: 0.8367\n",
            "Repair Level: 0.0350, Disparate Impact: 0.8363\n",
            "Repair Level: 0.0362, Disparate Impact: 0.8459\n",
            "Repair Level: 0.0375, Disparate Impact: 0.8439\n",
            "Repair Level: 0.0387, Disparate Impact: 0.8439\n",
            "Repair Level: 0.0400, Disparate Impact: 0.8417\n",
            "Repair Level: 0.0413, Disparate Impact: 0.8429\n",
            "Repair Level: 0.0425, Disparate Impact: 0.8447\n",
            "Repair Level: 0.0438, Disparate Impact: 0.8400\n",
            "Repair Level: 0.0450, Disparate Impact: 0.8406\n",
            "Repair Level: 0.0462, Disparate Impact: 0.8307\n",
            "Repair Level: 0.0475, Disparate Impact: 0.8439\n",
            "Repair Level: 0.0488, Disparate Impact: 0.8368\n",
            "Repair Level: 0.0500, Disparate Impact: 0.8377\n",
            "Repair Level: 0.0513, Disparate Impact: 0.8338\n",
            "Repair Level: 0.0525, Disparate Impact: 0.8327\n",
            "Repair Level: 0.0537, Disparate Impact: 0.8366\n",
            "Repair Level: 0.0550, Disparate Impact: 0.8407\n",
            "Repair Level: 0.0563, Disparate Impact: 0.8358\n",
            "Repair Level: 0.0575, Disparate Impact: 0.8362\n",
            "Repair Level: 0.0588, Disparate Impact: 0.8370\n",
            "Repair Level: 0.0600, Disparate Impact: 0.8369\n",
            "Repair Level: 0.0612, Disparate Impact: 0.8404\n",
            "Repair Level: 0.0625, Disparate Impact: 0.8259\n",
            "Repair Level: 0.0638, Disparate Impact: 0.8374\n",
            "Repair Level: 0.0650, Disparate Impact: 0.8339\n",
            "Repair Level: 0.0663, Disparate Impact: 0.8376\n",
            "Repair Level: 0.0675, Disparate Impact: 0.8403\n",
            "Repair Level: 0.0688, Disparate Impact: 0.8370\n",
            "Repair Level: 0.0700, Disparate Impact: 0.8337\n",
            "Repair Level: 0.0713, Disparate Impact: 0.8298\n",
            "Repair Level: 0.0725, Disparate Impact: 0.8325\n",
            "Repair Level: 0.0737, Disparate Impact: 0.8372\n",
            "Repair Level: 0.0750, Disparate Impact: 0.8327\n",
            "Repair Level: 0.0762, Disparate Impact: 0.8372\n",
            "Repair Level: 0.0775, Disparate Impact: 0.8477\n",
            "Repair Level: 0.0788, Disparate Impact: 0.8378\n",
            "Repair Level: 0.0800, Disparate Impact: 0.8339\n",
            "Repair Level: 0.0813, Disparate Impact: 0.8383\n",
            "Repair Level: 0.0825, Disparate Impact: 0.8285\n",
            "Repair Level: 0.0838, Disparate Impact: 0.8376\n",
            "Repair Level: 0.0850, Disparate Impact: 0.8313\n",
            "Repair Level: 0.0863, Disparate Impact: 0.8313\n",
            "Repair Level: 0.0875, Disparate Impact: 0.8284\n",
            "Repair Level: 0.0887, Disparate Impact: 0.8357\n",
            "Repair Level: 0.0900, Disparate Impact: 0.8402\n",
            "Repair Level: 0.0912, Disparate Impact: 0.8389\n",
            "Repair Level: 0.0925, Disparate Impact: 0.8428\n",
            "Repair Level: 0.0938, Disparate Impact: 0.8341\n",
            "Repair Level: 0.0950, Disparate Impact: 0.8385\n",
            "Repair Level: 0.0963, Disparate Impact: 0.8407\n",
            "Repair Level: 0.0975, Disparate Impact: 0.8421\n",
            "Repair Level: 0.0988, Disparate Impact: 0.8347\n",
            "Repair Level: 0.1000, Disparate Impact: 0.8421\n"
          ]
        }
      ]
    },
    {
      "cell_type": "code",
      "source": [
        "#  Granular and Coarse level seperately\n",
        "\n",
        "import numpy as np\n",
        "import matplotlib.pyplot as plt\n",
        "import seaborn as sns\n",
        "\n",
        "\n",
        "\n",
        "# Separate granular and coarse levels and their corresponding DI values\n",
        "granular_levels = np.linspace(0., 0.1, 81)\n",
        "coarse_levels = np.linspace(0.2, 1, 20)\n",
        "\n",
        "granular_di = di[:len(granular_levels)]\n",
        "coarse_di = di[len(granular_levels):]\n",
        "\n",
        "\n",
        "\n",
        "\n",
        "# Use Seaborn style for better visuals\n",
        "sns.set(style=\"whitegrid\")\n",
        "\n",
        "plt.figure(figsize=(11, 6))\n",
        "\n",
        "# Plot the Disparate Impact (DI) against repair levels\n",
        "plt.plot(granular_levels, granular_di, marker=\"o\", linestyle=\"-\", color=\"green\", label=\"Granular Disparate Impact\")\n",
        "\n",
        "# Add labels, title, and legend\n",
        "plt.ylabel(\"Disparate Impact (DI)\", fontsize=14)\n",
        "plt.xlabel(\"Repair Level\", fontsize=14)\n",
        "plt.title(\"Disparate Impact Across Repair Levels\", fontsize=16)\n",
        "plt.legend(fontsize=12)\n",
        "\n",
        "# Show grid for readability\n",
        "plt.grid(True)\n",
        "\n",
        "# Display the plot\n",
        "plt.show()\n",
        "\n",
        "from IPython.display import display\n",
        "display(plt.gcf())\n",
        "\n",
        "\n",
        "\n",
        "\n",
        "\n"
      ],
      "metadata": {
        "colab": {
          "base_uri": "https://localhost:8080/",
          "height": 576
        },
        "id": "Cnd36wmVH6rP",
        "outputId": "a2c1ca1c-6a3d-4f3e-c4c2-9c76891fb052"
      },
      "id": "Cnd36wmVH6rP",
      "execution_count": 39,
      "outputs": [
        {
          "output_type": "display_data",
          "data": {
            "text/plain": [
              "<Figure size 1100x600 with 1 Axes>"
            ],
            "image/png": "[encoded data removed]"
          },
          "metadata": {}
        }
      ]
    },
    {
      "cell_type": "code",
      "source": [
        "\n",
        "\n",
        "for level, di_value in zip(coarse_levels, coarse_di):\n",
        "    print(f\"Repair Level: {level:.4f}, Disparate Impact: {di_value:.4f}\")\n"
      ],
      "metadata": {
        "id": "FccXIdooI7US",
        "outputId": "be45ae07-d100-45b4-b80d-a41d312ebad3",
        "colab": {
          "base_uri": "https://localhost:8080/"
        }
      },
      "id": "FccXIdooI7US",
      "execution_count": 51,
      "outputs": [
        {
          "output_type": "stream",
          "name": "stdout",
          "text": [
            "Repair Level: 0.2000, Disparate Impact: 0.8495\n",
            "Repair Level: 0.2421, Disparate Impact: 0.8494\n",
            "Repair Level: 0.2842, Disparate Impact: 0.8433\n",
            "Repair Level: 0.3263, Disparate Impact: 0.8539\n",
            "Repair Level: 0.3684, Disparate Impact: 0.8566\n",
            "Repair Level: 0.4105, Disparate Impact: 0.8597\n",
            "Repair Level: 0.4526, Disparate Impact: 0.8605\n",
            "Repair Level: 0.4947, Disparate Impact: 0.8659\n",
            "Repair Level: 0.5368, Disparate Impact: 0.7930\n",
            "Repair Level: 0.5789, Disparate Impact: 0.7894\n",
            "Repair Level: 0.6211, Disparate Impact: 0.7959\n",
            "Repair Level: 0.6632, Disparate Impact: 0.8057\n",
            "Repair Level: 0.7053, Disparate Impact: 0.8161\n",
            "Repair Level: 0.7474, Disparate Impact: 0.8368\n",
            "Repair Level: 0.7895, Disparate Impact: 0.8335\n",
            "Repair Level: 0.8316, Disparate Impact: 0.8341\n",
            "Repair Level: 0.8737, Disparate Impact: 0.8257\n",
            "Repair Level: 0.9158, Disparate Impact: 0.8142\n",
            "Repair Level: 0.9579, Disparate Impact: 0.8074\n",
            "Repair Level: 1.0000, Disparate Impact: 0.8123\n"
          ]
        }
      ]
    },
    {
      "cell_type": "code",
      "source": [
        "# Use Seaborn style for better visuals\n",
        "sns.set(style=\"whitegrid\")\n",
        "\n",
        "plt.figure(figsize=(11, 6))\n",
        "\n",
        "# Plot the Disparate Impact (DI) against repair levels\n",
        "plt.plot(coarse_levels, coarse_di, marker=\"o\", linestyle=\"-\", color=\"green\", label=\"Coarse Disparate Impact\")\n",
        "\n",
        "# Add labels, title, and legend\n",
        "plt.ylabel(\"Disparate Impact (DI)\", fontsize=14)\n",
        "plt.xlabel(\"Repair Level\", fontsize=14)\n",
        "plt.title(\"Disparate Impact Across Repair Levels\", fontsize=16)\n",
        "plt.legend(fontsize=12)\n",
        "\n",
        "# Show grid for readability\n",
        "plt.grid(True)\n",
        "\n",
        "# Display the plot\n",
        "plt.show()\n",
        "\n",
        "from IPython.display import display\n",
        "display(plt.gcf())\n"
      ],
      "metadata": {
        "colab": {
          "base_uri": "https://localhost:8080/",
          "height": 576
        },
        "id": "3s1u3KStJIfB",
        "outputId": "ee181f28-7614-4b50-d5f2-bb5c246a033f"
      },
      "id": "3s1u3KStJIfB",
      "execution_count": 40,
      "outputs": [
        {
          "output_type": "display_data",
          "data": {
            "text/plain": [
              "<Figure size 1100x600 with 1 Axes>"
            ],
            "image/png": "[encoded data removed]"
          },
          "metadata": {}
        }
      ]
    },
    {
      "cell_type": "code",
      "source": [
        "# get the best repair level where Disparate Impact (DI) is closest to 1.0.\n",
        "\n",
        "import numpy as np\n",
        "# Find the index of the best repair level where DI is closest to 1\n",
        "best_level_index = np.argmin(np.abs(di_i - 1))\n",
        "\n",
        "# Get the best repair level\n",
        "best_level = levels[best_level_index]\n",
        "\n",
        "print(f\"Best Repair Level: {best_level:.4f}\")\n",
        "print(f\"Disparate Impact at Best Level: {di[best_level_index]:.4f}\")\n"
      ],
      "metadata": {
        "colab": {
          "base_uri": "https://localhost:8080/"
        },
        "id": "pTpckr2TGqdf",
        "outputId": "e65b9131-35b0-43b3-c076-1c558c79dceb"
      },
      "id": "pTpckr2TGqdf",
      "execution_count": 41,
      "outputs": [
        {
          "output_type": "stream",
          "name": "stdout",
          "text": [
            "Best Repair Level: 0.4947\n",
            "Disparate Impact at Best Level: 0.8659\n"
          ]
        }
      ]
    },
    {
      "cell_type": "code",
      "source": [
        "# Disparate Impact at the best repair level.\n",
        "\n",
        "import numpy as np\n",
        "\n",
        "import numpy as np\n",
        "\n",
        "def find_best_repair_level(levels, di_values):\n",
        "    \"\"\"\n",
        "    Identifies the best repair level where Disparate Impact (DI) is closest to 1.0.\n",
        "\n",
        "    Args:\n",
        "        levels (numpy array): Array of repair levels.\n",
        "        di_values (numpy array): Array of Disparate Impact values.\n",
        "\n",
        "    Returns:\n",
        "        best_repair_level (float): The repair level closest to DI = 1.0.\n",
        "        best_disparate_impact (float): The Disparate Impact value at the best repair level.\n",
        "    \"\"\"\n",
        "    best_index = np.argmin(np.abs(di_values - 1))  # Find index where DI is closest to 1\n",
        "    best_repair_level = levels[best_index]\n",
        "    best_disparate_impact = di_values[best_index]\n",
        "\n",
        "    return best_repair_level, best_disparate_impact\n",
        "\n",
        "\n",
        "# Identify the best repair level\n",
        "best_repair_level, best_disparate_impact = find_best_repair_level(levels, di_i)\n",
        "\n",
        "# Print results\n",
        "print(f\"Best Repair Level: {best_repair_level:.4f}\")\n",
        "print(f\"Disparate Impact at Best Repair Level: {best_disparate_impact:.4f}\")\n",
        "\n",
        "print(f\"Disparate Impact at Best Level: {di[np.argmin(np.abs(di - 1))]:.4f}\")\n"
      ],
      "metadata": {
        "id": "yAxd3qlvFkVq",
        "colab": {
          "base_uri": "https://localhost:8080/"
        },
        "outputId": "3b376256-3f04-4181-bf6e-2f6d3454a6d1"
      },
      "id": "yAxd3qlvFkVq",
      "execution_count": 42,
      "outputs": [
        {
          "output_type": "stream",
          "name": "stdout",
          "text": [
            "Best Repair Level: 0.4947\n",
            "Disparate Impact at Best Repair Level: 0.8659\n",
            "Disparate Impact at Best Level: 0.8659\n"
          ]
        }
      ]
    },
    {
      "cell_type": "code",
      "source": [
        "from aif360.algorithms.preprocessing import DisparateImpactRemover\n",
        "from aif360.metrics import ClassificationMetric\n",
        "from sklearn.metrics import accuracy_score, precision_score, recall_score, f1_score, roc_auc_score\n",
        "import lightgbm as lgb\n",
        "\n",
        "# Apply Disparate Impact Remover (DIR) at the best repair level\n",
        "best_dir = DisparateImpactRemover(repair_level=best_repair_level)\n",
        "train_dir_ds_best = best_dir.fit_transform(train_ds)\n",
        "test_dir_ds_best = best_dir.fit_transform(test_ds)\n",
        "\n",
        "# Remove protected attribute from the features\n",
        "protected_index = train_ds.feature_names.index(\"Age_Group\")\n",
        "X_train_dir_best = np.delete(train_dir_ds_best.features, protected_index, axis=1)\n",
        "X_test_dir_best = np.delete(test_dir_ds_best.features, protected_index, axis=1)\n",
        "\n",
        "# Train a LightGBM model on the repaired dataset\n",
        "#lgb_dir_model_best = lgb.LGBMClassifier(random_state=531, max_depth=5, num_leaves=33)\n",
        "lgb_dir_model_best = lgb.LGBMClassifier(\n",
        "        random_state=rand, max_depth=5, num_leaves=33,force_row_wise=True, verbose=-1, **lgb_params\n",
        "    )\n",
        "\n",
        "lgb_dir_model_best.fit(X_train_dir_best, train_dir_ds_best.labels.ravel())\n",
        "\n",
        "# Predict on the modified test dataset\n",
        "y_pred_test_dir_best = lgb_dir_model_best.predict(X_test_dir_best)\n",
        "y_pred_prob_test_dir_best = lgb_dir_model_best.predict_proba(X_test_dir_best)[:, 1]\n",
        "\n",
        "# Compute Performance Metrics\n",
        "accuracy_dir = accuracy_score(y_test, y_pred_test_dir_best)\n",
        "precision_dir = precision_score(y_test, y_pred_test_dir_best)\n",
        "recall_dir = recall_score(y_test, y_pred_test_dir_best)\n",
        "f1_dir = f1_score(y_test, y_pred_test_dir_best)\n",
        "roc_auc_dir = roc_auc_score(y_test, y_pred_prob_test_dir_best)\n",
        "\n",
        "# Add predictions & scores to BinaryLabelDataset for Fairness Metrics\n",
        "test_dir_ds_pred_best = test_dir_ds_best.copy()\n",
        "test_dir_ds_pred_best.labels = y_pred_test_dir_best.reshape(-1, 1)\n",
        "test_dir_ds_pred_best.scores = y_pred_prob_test_dir_best.reshape(-1, 1)\n",
        "\n",
        "# Compute Fairness Metrics\n",
        "metrics_test_dir_cls_best = ClassificationMetric(\n",
        "    test_dir_ds_best,\n",
        "    test_dir_ds_pred_best,\n",
        "    unprivileged_groups=unprivileged_groups,\n",
        "    privileged_groups=privileged_groups\n",
        ")\n",
        "\n",
        "# Display Performance Metrics\n",
        "print(\"Performance Metrics on Test Data (Best DIR Applied):\")\n",
        "print(f\"Accuracy: {accuracy_dir:.4f}\")\n",
        "print(f\"Precision: {precision_dir:.4f}\")\n",
        "print(f\"Recall: {recall_dir:.4f}\")\n",
        "print(f\"F1-Score: {f1_dir:.4f}\")\n",
        "print(f\"ROC-AUC: {roc_auc_dir:.4f}\")\n",
        "\n",
        "# Display Fairness Metrics\n",
        "print(\"\\nFairness Metrics on Test Data (Best DIR Applied):\")\n",
        "print(f\"Statistical Parity Difference (SPD): {metrics_test_dir_cls_best.statistical_parity_difference():.4f}\")\n",
        "print(f\"Disparate Impact (DI): {metrics_test_dir_cls_best.disparate_impact():.4f}\")\n",
        "print(f\"Equal Opportunity Difference (EOD): {metrics_test_dir_cls_best.equal_opportunity_difference():.4f}\")\n",
        "print(f\"Average Odds Difference (AOD): {metrics_test_dir_cls_best.average_odds_difference():.4f}\")\n",
        "print(f\"Differential Fairness Bias Amplification (DFBA): {metrics_test_dir_cls_best.differential_fairness_bias_amplification():.4f}\")\n"
      ],
      "metadata": {
        "colab": {
          "base_uri": "https://localhost:8080/"
        },
        "id": "IclZd_8WMYAK",
        "outputId": "04a44cb0-6ad6-4e03-8ad7-4814074e507a"
      },
      "id": "IclZd_8WMYAK",
      "execution_count": 43,
      "outputs": [
        {
          "output_type": "stream",
          "name": "stdout",
          "text": [
            "Performance Metrics on Test Data (Best DIR Applied):\n",
            "Accuracy: 0.8103\n",
            "Precision: 0.6258\n",
            "Recall: 0.5415\n",
            "F1-Score: 0.5806\n",
            "ROC-AUC: 0.7950\n",
            "\n",
            "Fairness Metrics on Test Data (Best DIR Applied):\n",
            "Statistical Parity Difference (SPD): -0.1097\n",
            "Disparate Impact (DI): 0.8659\n",
            "Equal Opportunity Difference (EOD): -0.0226\n",
            "Average Odds Difference (AOD): -0.0694\n",
            "Differential Fairness Bias Amplification (DFBA): 0.1727\n"
          ]
        }
      ]
    },
    {
      "cell_type": "markdown",
      "source": [
        "**Part 2: Reflection Questions (to be answered in excercise document)**"
      ],
      "metadata": {
        "id": "Z7NMw9LX9rJZ"
      },
      "id": "Z7NMw9LX9rJZ"
    },
    {
      "cell_type": "markdown",
      "id": "30c047de-0297-4f67-90f4-bad972455b0d",
      "metadata": {
        "id": "30c047de-0297-4f67-90f4-bad972455b0d"
      },
      "source": [
        "2.1. How does the Disparate Impact (DI) change with finer granularity? Coarser granularity?"
      ]
    },
    {
      "cell_type": "code",
      "source": [
        "#  How does the Disparate Impact (DI) change with finer granularity and Coarser granularity? use\n",
        "# # Separate granular and coarse levels and their corresponding DI values\n",
        "\n",
        "\n",
        "import matplotlib.pyplot as plt\n",
        "import numpy as np\n",
        "# Assuming 'levels', 'di' (from the original code) are already defined\n",
        "\n",
        "# Separate granular and coarse levels and their corresponding DI values\n",
        "granular_levels = np.linspace(0., 0.1, 81)\n",
        "coarse_levels = np.linspace(0.2, 1, 20)\n",
        "\n",
        "granular_di = di[:len(granular_levels)]\n",
        "coarse_di = di[len(granular_levels):]\n",
        "\n",
        "# Now you can analyze granular_di and coarse_di to understand how DI changes.\n",
        "# For example, you can calculate statistics like mean, standard deviation, min, max.\n",
        "\n",
        "print(\"Analysis of DI with Finer Granularity:\")\n",
        "print(f\"  Mean: {np.mean(granular_di):.4f}\")\n",
        "print(f\"  Standard Deviation: {np.std(granular_di):.4f}\")\n",
        "print(f\"  Minimum: {np.min(granular_di):.4f}\")\n",
        "print(f\"  Maximum: {np.max(granular_di):.4f}\")\n",
        "\n",
        "print(\"\\nAnalysis of DI with Coarser Granularity:\")\n",
        "print(f\"  Mean: {np.mean(coarse_di):.4f}\")\n",
        "print(f\"  Standard Deviation: {np.std(coarse_di):.4f}\")\n",
        "print(f\"  Minimum: {np.min(coarse_di):.4f}\")\n",
        "print(f\"  Maximum: {np.max(coarse_di):.4f}\")\n",
        "\n",
        "# You can also plot them to visually compare:\n",
        "plt.figure(figsize=(10, 5))\n",
        "plt.plot(granular_levels, granular_di, label=\"Finer Granularity\")\n",
        "plt.plot(coarse_levels, coarse_di, label=\"Coarser Granularity\")\n",
        "plt.xlabel(\"Repair Level\")\n",
        "plt.ylabel(\"Disparate Impact\")\n",
        "plt.title(\"Disparate Impact with Different Granularities\")\n",
        "plt.legend()\n",
        "plt.grid(True)\n",
        "plt.show()\n"
      ],
      "metadata": {
        "colab": {
          "base_uri": "https://localhost:8080/"
        },
        "id": "XY8nfTxhJ3kq",
        "outputId": "e572ed18-8a60-44fc-f54b-e8d577b3d221"
      },
      "id": "XY8nfTxhJ3kq",
      "execution_count": 44,
      "outputs": [
        {
          "output_type": "stream",
          "name": "stdout",
          "text": [
            "Analysis of DI with Finer Granularity:\n",
            "  Mean: 0.8381\n",
            "  Standard Deviation: 0.0047\n",
            "  Minimum: 0.8259\n",
            "  Maximum: 0.8477\n",
            "\n",
            "Analysis of DI with Coarser Granularity:\n",
            "  Mean: 0.8302\n",
            "  Standard Deviation: 0.0239\n",
            "  Minimum: 0.7894\n",
            "  Maximum: 0.8659\n"
          ]
        }
      ]
    },
    {
      "cell_type": "code",
      "source": [
        "# Show grid for readability\n",
        "plt.grid(True)\n",
        "\n",
        "# Display the plot\n",
        "plt.show()\n",
        "\n",
        "from IPython.display import display\n",
        "display(plt.gcf())\n"
      ],
      "metadata": {
        "colab": {
          "base_uri": "https://localhost:8080/",
          "height": 496
        },
        "id": "g28vNlXPKtAo",
        "outputId": "8ef0d6b2-2adc-408f-8dcb-81962013c4d1"
      },
      "id": "g28vNlXPKtAo",
      "execution_count": 45,
      "outputs": [
        {
          "output_type": "display_data",
          "data": {
            "text/plain": [
              "<Figure size 1000x500 with 1 Axes>"
            ],
            "image/png": "[encoded data removed]"
          },
          "metadata": {}
        }
      ]
    },
    {
      "cell_type": "markdown",
      "source": [
        "Answer 2.1"
      ],
      "metadata": {
        "id": "V3zKBouYhjVw"
      },
      "id": "V3zKBouYhjVw"
    },
    {
      "cell_type": "code",
      "source": [
        "\n",
        "\n",
        "import matplotlib.pyplot as plt\n",
        "import numpy as np\n",
        "\n",
        "\n",
        "# Separate granular and coarse levels and their corresponding DI values\n",
        "granular_levels = np.linspace(0., 0.1, 81)\n",
        "coarse_levels = np.linspace(0.2, 1, 20)\n",
        "\n",
        "granular_di = di[:len(granular_levels)]\n",
        "coarse_di = di[len(granular_levels):]\n",
        "\n",
        "# Now you can analyze granular_di and coarse_di to understand how DI changes.\n",
        "# For example, you can calculate statistics like mean, standard deviation, min, max.\n",
        "\n",
        "print(\"Analysis of DI with Finer Granularity:\")\n",
        "print(f\"  Mean: {np.mean(granular_di):.4f}\")\n",
        "print(f\"  Standard Deviation: {np.std(granular_di):.4f}\")\n",
        "print(f\"  Minimum: {np.min(granular_di):.4f}\")\n",
        "print(f\"  Maximum: {np.max(granular_di):.4f}\")\n",
        "\n",
        "print(\"\\nAnalysis of DI with Coarser Granularity:\")\n",
        "print(f\"  Mean: {np.mean(coarse_di):.4f}\")\n",
        "print(f\"  Standard Deviation: {np.std(coarse_di):.4f}\")\n",
        "print(f\"  Minimum: {np.min(coarse_di):.4f}\")\n",
        "print(f\"  Maximum: {np.max(coarse_di):.4f}\")\n",
        "\n",
        "\n"
      ],
      "metadata": {
        "colab": {
          "base_uri": "https://localhost:8080/"
        },
        "id": "t-aPQPJbrwU9",
        "outputId": "b6bf51cb-27fc-4aed-aad2-0a223e163be8"
      },
      "id": "t-aPQPJbrwU9",
      "execution_count": 46,
      "outputs": [
        {
          "output_type": "stream",
          "name": "stdout",
          "text": [
            "Analysis of DI with Finer Granularity:\n",
            "  Mean: 0.8381\n",
            "  Standard Deviation: 0.0047\n",
            "  Minimum: 0.8259\n",
            "  Maximum: 0.8477\n",
            "\n",
            "Analysis of DI with Coarser Granularity:\n",
            "  Mean: 0.8302\n",
            "  Standard Deviation: 0.0239\n",
            "  Minimum: 0.7894\n",
            "  Maximum: 0.8659\n"
          ]
        }
      ]
    },
    {
      "cell_type": "markdown",
      "source": [
        "How Does Disparate Impact (DI) Change with Granularity? (Defaulting Example)\n",
        "\n",
        "Disparate Impact (DI) measures whether an AI model disproportionately favors or disadvantages certain groups. It is calculated as:\n",
        "\n",
        "DI = Selection Rate of Unprivileged Group / Selection Rate of Privileged Group\n",
        "\n",
        "A DI score closer to 1.0 indicates fairness, while a lower DI suggests bias.\n",
        "\n",
        "Effect of Finer Granularity on DI:\n",
        "Finer granularity breaks groups into smaller subcategories for a more detailed assessment.\n",
        "\n",
        "Example: A bank categorizes borrowers into Male (10% default rate) and Female (15% default rate), resulting in DI = 0.67. If age is added as a factor:\n",
        "\n",
        "Males 18-30: 12%, 31-50: 9%, 51+: 7%\n",
        "\n",
        "Females 18-30: 18%, 31-50: 14%, 51+: 11%\n",
        "\n",
        "Now, DI varies by age, revealing hidden biases. Younger females (DI = 0.67) face more discrimination than older females (DI = 0.78).\n",
        "\n",
        "Effect of Coarser Granularity on DI:\n",
        "Coarser granularity merges subgroups, making DI appear more stable but potentially hiding disparities.\n",
        "\n",
        "Example: If all females are grouped together (15% default rate), age-based bias is masked, and DI remains 0.67 without showing variation.\n",
        "\n",
        "Key Takeaways:\n",
        "\n",
        "Finer Granularity → More precise DI but higher fluctuation.\n",
        "\n",
        "Coarser Granularity → Smoother DI but may hide subgroup biases.\n",
        "\n",
        "Balanced Approach → Detect bias while minimizing noise.\n",
        "\n"
      ],
      "metadata": {
        "id": "F_Kr_zPqhn0K"
      },
      "id": "F_Kr_zPqhn0K"
    },
    {
      "cell_type": "code",
      "source": [
        "import numpy as np\n",
        "\n",
        "# Define performance metrics for each model\n",
        "performance_metrics = {\n",
        "    \"Original\": {\n",
        "        \"accuracy\": 0.8153,\n",
        "        \"precision\": 0.6400,\n",
        "        \"recall\": 0.5454,\n",
        "        \"f1\": 0.5889,\n",
        "        \"roc_auc\": 0.8003,\n",
        "    },\n",
        "    \"Reweighted\": {\n",
        "        \"accuracy\": 0.8111,\n",
        "        \"precision\": 0.6275,\n",
        "        \"recall\": 0.5437,\n",
        "        \"f1\": 0.5826,\n",
        "        \"roc_auc\": 0.7960,\n",
        "    },\n",
        "    \"DIR\": {\n",
        "        \"accuracy\": 0.8103,\n",
        "        \"precision\": 0.6258,\n",
        "        \"recall\": 0.5415,\n",
        "        \"f1\": 0.5806,\n",
        "        \"roc_auc\": 0.7950,\n",
        "    },\n",
        "}\n",
        "\n",
        "# Define fairness metrics for each model\n",
        "fairness_metrics = {\n",
        "    \"Original\": {\n",
        "        \"SPD\": -0.0862,\n",
        "        \"DI\": 0.8972,\n",
        "        \"EOD\": 0.0164,\n",
        "        \"AOD\": -0.0163,\n",
        "    },\n",
        "    \"Reweighted\": {\n",
        "        \"SPD\": -0.0351,\n",
        "        \"DI\": 0.9565,\n",
        "        \"EOD\": 0.0164,\n",
        "        \"AOD\": -0.0163,\n",
        "    },\n",
        "    \"DIR\": {\n",
        "        \"SPD\": -0.1097,\n",
        "        \"DI\": 0.8659,\n",
        "        \"EOD\": -0.0226,\n",
        "        \"AOD\": -0.0694,\n",
        "    },\n",
        "}\n",
        "\n",
        "# Define an ideal Disparate Impact (DI) value (1.0 means perfect fairness)\n",
        "ideal_DI = 1.0\n",
        "\n",
        "# Function to calculate fairness score based on proximity to DI = 1\n",
        "def fairness_score(model_fairness):\n",
        "    di_difference = abs(model_fairness[\"DI\"] - ideal_DI)\n",
        "    return di_difference\n",
        "\n",
        "# Calculate overall fairness score for each model\n",
        "fairness_scores = {model: fairness_score(fairness) for model, fairness in fairness_metrics.items()}\n",
        "\n",
        "# Print all scores\n",
        "for model in performance_metrics.keys():\n",
        "    print(f\"\\n--- {model} Model ---\")\n",
        "    print(\"Performance Metrics:\")\n",
        "    for metric, value in performance_metrics[model].items():\n",
        "        print(f\"  {metric}: {value:.4f}\")\n",
        "\n",
        "    print(\"Fairness Metrics:\")\n",
        "    for metric, value in fairness_metrics[model].items():\n",
        "        print(f\"  {metric}: {value:.4f}\")\n",
        "\n",
        "    print(f\"  Fairness Score (DI deviation): {fairness_scores[model]:.4f}\")\n",
        "\n",
        "# Determine the best model (balancing performance and fairness)\n",
        "best_model = min(fairness_scores, key=fairness_scores.get)\n",
        "\n",
        "print(f\"\\nRecommended Model: {best_model}\")\n"
      ],
      "metadata": {
        "colab": {
          "base_uri": "https://localhost:8080/"
        },
        "id": "quBIuqwyVG2U",
        "outputId": "5d592d20-bf00-474d-b78b-ad6d28930437"
      },
      "id": "quBIuqwyVG2U",
      "execution_count": 47,
      "outputs": [
        {
          "output_type": "stream",
          "name": "stdout",
          "text": [
            "\n",
            "--- Original Model ---\n",
            "Performance Metrics:\n",
            "  accuracy: 0.8153\n",
            "  precision: 0.6400\n",
            "  recall: 0.5454\n",
            "  f1: 0.5889\n",
            "  roc_auc: 0.8003\n",
            "Fairness Metrics:\n",
            "  SPD: -0.0862\n",
            "  DI: 0.8972\n",
            "  EOD: 0.0164\n",
            "  AOD: -0.0163\n",
            "  Fairness Score (DI deviation): 0.1028\n",
            "\n",
            "--- Reweighted Model ---\n",
            "Performance Metrics:\n",
            "  accuracy: 0.8111\n",
            "  precision: 0.6275\n",
            "  recall: 0.5437\n",
            "  f1: 0.5826\n",
            "  roc_auc: 0.7960\n",
            "Fairness Metrics:\n",
            "  SPD: -0.0351\n",
            "  DI: 0.9565\n",
            "  EOD: 0.0164\n",
            "  AOD: -0.0163\n",
            "  Fairness Score (DI deviation): 0.0435\n",
            "\n",
            "--- DIR Model ---\n",
            "Performance Metrics:\n",
            "  accuracy: 0.8103\n",
            "  precision: 0.6258\n",
            "  recall: 0.5415\n",
            "  f1: 0.5806\n",
            "  roc_auc: 0.7950\n",
            "Fairness Metrics:\n",
            "  SPD: -0.1097\n",
            "  DI: 0.8659\n",
            "  EOD: -0.0226\n",
            "  AOD: -0.0694\n",
            "  Fairness Score (DI deviation): 0.1341\n",
            "\n",
            "Recommended Model: Reweighted\n"
          ]
        }
      ]
    },
    {
      "cell_type": "markdown",
      "id": "d6bda9c4-7a06-4f21-87dc-64dd612ef3ca",
      "metadata": {
        "id": "d6bda9c4-7a06-4f21-87dc-64dd612ef3ca"
      },
      "source": [
        "**2.2. Based on your findings which model would you recommend (Original, Reweighted, or DIR)? Justify your choice by balancing performance and fairness.**"
      ]
    },
    {
      "cell_type": "markdown",
      "source": [
        "**The Reweighted Model is the best recommendation because:\n",
        "It achieves the best fairness score (DI closest to 1.0).\n",
        "It still maintains good performance without a major drop in accuracy or precision.\n",
        "It balances both fairness and model effectiveness better than the Original and DIR models.**"
      ],
      "metadata": {
        "id": "46efx4xcfgO_"
      },
      "id": "46efx4xcfgO_"
    },
    {
      "cell_type": "markdown",
      "id": "3cc78cd5-7565-445c-9978-0cb2b6a451d5",
      "metadata": {
        "id": "3cc78cd5-7565-445c-9978-0cb2b6a451d5"
      },
      "source": [
        "**2.3. Module Reflection Question: Consider a scenario where you are responsible for deploying a machine learning model that shows a fairness-accuracy trade-off. How would you approach deciding whether to prioritize fairness or accuracy, and which factors (i.e. ogranizational values, societal impact, or application context) would guide your decision? Reflect on how ethical dilemmas in machine learning require balancing competing values and their implications.**"
      ]
    },
    {
      "cell_type": "markdown",
      "source": [
        "2.3 Answer"
      ],
      "metadata": {
        "id": "AsJVr5jueyvD"
      },
      "id": "AsJVr5jueyvD"
    },
    {
      "cell_type": "markdown",
      "source": [
        "The following reflection explores the ethical dilemmas in machine learning, emphasizing the trade-off between fairness and accuracy. Key considerations include organizational values, societal impact, and the specific application context.\n",
        "\n",
        "Deploying machine learning models that strike a balance between fairness and accuracy requires a principled approach aligned with ethical standards, social responsibility, and business objectives. Organizations must determine their priorities: if efficiency and profitability are the focus, accuracy is paramount for precise predictions; if inclusivity and ethical responsibility take precedence, fairness must be prioritized to mitigate bias and discrimination. For instance, fairness is crucial in hiring models to foster diversity, whereas fraud detection systems prioritize accuracy to minimize financial risk.\n",
        "\n",
        "Societal values such as justice and accessibility also influence this balance, as AI models can either reinforce or mitigate systemic inequalities. In high-stakes fields like healthcare, finance, or law enforcement, fairness is essential to prevent harm to marginalized groups. A healthcare model might prioritize accuracy for reliable diagnoses, while a loan approval system must carefully balance fairness and accuracy to promote inclusivity without exposing financial institutions to undue risk.\n",
        "\n",
        "This trade-off presents ethical challenges: focusing too much on fairness may compromise accuracy (e.g., overlooking fraudulent activity), whereas neglecting fairness can perpetuate biases. Transparency and accountability—supported by frameworks like GDPR—help ensure AI decisions remain explainable and ethically sound.\n",
        "\n",
        "Ultimately, responsible AI development requires ongoing efforts to optimize both fairness and accuracy, with continuous monitoring to adapt to evolving ethical, societal, and business considerations. A well-designed model should not only deliver strong performance but also uphold principles of equity, inclusivity, and justice."
      ],
      "metadata": {
        "id": "TIVyUMPFe2W-"
      },
      "id": "TIVyUMPFe2W-"
    },
    {
      "cell_type": "code",
      "source": [
        "#End of Assignment"
      ],
      "metadata": {
        "id": "4KwVZu6Je0z_"
      },
      "id": "4KwVZu6Je0z_",
      "execution_count": 48,
      "outputs": []
    }
  ],
  "metadata": {
    "kernelspec": {
      "display_name": "Python 3 (ipykernel)",
      "language": "python",
      "name": "python3"
    },
    "language_info": {
      "codemirror_mode": {
        "name": "ipython",
        "version": 3
      },
      "file_extension": ".py",
      "mimetype": "text/x-python",
      "name": "python",
      "nbconvert_exporter": "python",
      "pygments_lexer": "ipython3",
      "version": "3.11.7"
    },
    "colab": {
      "provenance": []
    }
  },
  "nbformat": 4,
  "nbformat_minor": 5
}